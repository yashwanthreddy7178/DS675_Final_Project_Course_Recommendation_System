{
  "cells": [
    {
      "cell_type": "markdown",
      "metadata": {
        "id": "1JhzGAynJbTO"
      },
      "source": [
        "# Data Preprocessing and EDA"
      ]
    },
    {
      "cell_type": "code",
      "execution_count": null,
      "metadata": {
        "colab": {
          "base_uri": "https://localhost:8080/",
          "height": 660
        },
        "id": "RaTs7O1-2BmV",
        "outputId": "f3fd07e3-f958-43df-e5b6-a7c24e344a93"
      },
      "outputs": [
        {
          "output_type": "execute_result",
          "data": {
            "text/plain": [
              "                                        Course Title  Rating           Level  \\\n",
              "0                                  Fashion as Design     4.8  Beginner level   \n",
              "1                             Modern American Poetry     4.4  Beginner level   \n",
              "2                          Pixel Art for Video Games     4.5  Beginner level   \n",
              "3    Distribución digital de la música independiente     0.0  Beginner level   \n",
              "4  The Blues: Understanding and Performing an Ame...     4.8  Beginner level   \n",
              "\n",
              "            Schedule                                What you will learn  \\\n",
              "0  Flexible schedule                                      Not specified   \n",
              "1  Flexible schedule                                      Not specified   \n",
              "2  Flexible schedule                                      Not specified   \n",
              "3  Flexible schedule                                      Not specified   \n",
              "4  Flexible schedule  Students will be able to describe the blues as...   \n",
              "\n",
              "                               Skill gain  \\\n",
              "0   Art History, Art, History, Creativity   \n",
              "1                           Not specified   \n",
              "2                           Not specified   \n",
              "3                           Not specified   \n",
              "4  Music, Chord, Jazz, Jazz Improvisation   \n",
              "\n",
              "                                             Modules  \\\n",
              "0  Introduction, Heroes, Silhouettes, Coutures, L...   \n",
              "1  Orientation, Module 1, Module 2, Module 3, Mod...   \n",
              "2  Week 1: Introduction to Pixel Art, Week 2: Pix...   \n",
              "3             Semana 1, Semana 2, Semana 3, Semana 4   \n",
              "4  Blues Progressions – Theory and Practice , Blu...   \n",
              "\n",
              "                                          Instructor  \\\n",
              "0  Anna Burckhardt, Paola Antonelli, Michelle Mil...   \n",
              "1                                        Cary Nelson   \n",
              "2                   Andrew Dennis, Ricardo Guimaraes   \n",
              "3                          Eduardo de la Vara Brown.   \n",
              "4                                  Dariusz Terefenko   \n",
              "\n",
              "                                   Offered By              Keyword  \\\n",
              "0                    The Museum of Modern Art  Arts and Humanities   \n",
              "1  University of Illinois at Urbana-Champaign  Arts and Humanities   \n",
              "2                   Michigan State University  Arts and Humanities   \n",
              "3                        SAE Institute México  Arts and Humanities   \n",
              "4                     University of Rochester  Arts and Humanities   \n",
              "\n",
              "                                          Course Url  \\\n",
              "0      https://www.coursera.org/learn/fashion-design   \n",
              "1  https://www.coursera.org/learn/modern-american...   \n",
              "2  https://www.coursera.org/learn/pixel-art-video...   \n",
              "3  https://www.coursera.org/learn/distribucion-di...   \n",
              "4           https://www.coursera.org/learn/the-blues   \n",
              "\n",
              "   Duration to complete (Approx.)  Number of Review  \n",
              "0                            20.0              2813  \n",
              "1                            34.0               100  \n",
              "2                             9.0               227  \n",
              "3                             8.0                 0  \n",
              "4                            11.0               582  "
            ],
            "text/html": [
              "\n",
              "  <div id=\"df-8bde176b-0b60-47b4-b410-0e5169bd5c08\" class=\"colab-df-container\">\n",
              "    <div>\n",
              "<style scoped>\n",
              "    .dataframe tbody tr th:only-of-type {\n",
              "        vertical-align: middle;\n",
              "    }\n",
              "\n",
              "    .dataframe tbody tr th {\n",
              "        vertical-align: top;\n",
              "    }\n",
              "\n",
              "    .dataframe thead th {\n",
              "        text-align: right;\n",
              "    }\n",
              "</style>\n",
              "<table border=\"1\" class=\"dataframe\">\n",
              "  <thead>\n",
              "    <tr style=\"text-align: right;\">\n",
              "      <th></th>\n",
              "      <th>Course Title</th>\n",
              "      <th>Rating</th>\n",
              "      <th>Level</th>\n",
              "      <th>Schedule</th>\n",
              "      <th>What you will learn</th>\n",
              "      <th>Skill gain</th>\n",
              "      <th>Modules</th>\n",
              "      <th>Instructor</th>\n",
              "      <th>Offered By</th>\n",
              "      <th>Keyword</th>\n",
              "      <th>Course Url</th>\n",
              "      <th>Duration to complete (Approx.)</th>\n",
              "      <th>Number of Review</th>\n",
              "    </tr>\n",
              "  </thead>\n",
              "  <tbody>\n",
              "    <tr>\n",
              "      <th>0</th>\n",
              "      <td>Fashion as Design</td>\n",
              "      <td>4.8</td>\n",
              "      <td>Beginner level</td>\n",
              "      <td>Flexible schedule</td>\n",
              "      <td>Not specified</td>\n",
              "      <td>Art History, Art, History, Creativity</td>\n",
              "      <td>Introduction, Heroes, Silhouettes, Coutures, L...</td>\n",
              "      <td>Anna Burckhardt, Paola Antonelli, Michelle Mil...</td>\n",
              "      <td>The Museum of Modern Art</td>\n",
              "      <td>Arts and Humanities</td>\n",
              "      <td>https://www.coursera.org/learn/fashion-design</td>\n",
              "      <td>20.0</td>\n",
              "      <td>2813</td>\n",
              "    </tr>\n",
              "    <tr>\n",
              "      <th>1</th>\n",
              "      <td>Modern American Poetry</td>\n",
              "      <td>4.4</td>\n",
              "      <td>Beginner level</td>\n",
              "      <td>Flexible schedule</td>\n",
              "      <td>Not specified</td>\n",
              "      <td>Not specified</td>\n",
              "      <td>Orientation, Module 1, Module 2, Module 3, Mod...</td>\n",
              "      <td>Cary Nelson</td>\n",
              "      <td>University of Illinois at Urbana-Champaign</td>\n",
              "      <td>Arts and Humanities</td>\n",
              "      <td>https://www.coursera.org/learn/modern-american...</td>\n",
              "      <td>34.0</td>\n",
              "      <td>100</td>\n",
              "    </tr>\n",
              "    <tr>\n",
              "      <th>2</th>\n",
              "      <td>Pixel Art for Video Games</td>\n",
              "      <td>4.5</td>\n",
              "      <td>Beginner level</td>\n",
              "      <td>Flexible schedule</td>\n",
              "      <td>Not specified</td>\n",
              "      <td>Not specified</td>\n",
              "      <td>Week 1: Introduction to Pixel Art, Week 2: Pix...</td>\n",
              "      <td>Andrew Dennis, Ricardo Guimaraes</td>\n",
              "      <td>Michigan State University</td>\n",
              "      <td>Arts and Humanities</td>\n",
              "      <td>https://www.coursera.org/learn/pixel-art-video...</td>\n",
              "      <td>9.0</td>\n",
              "      <td>227</td>\n",
              "    </tr>\n",
              "    <tr>\n",
              "      <th>3</th>\n",
              "      <td>Distribución digital de la música independiente</td>\n",
              "      <td>0.0</td>\n",
              "      <td>Beginner level</td>\n",
              "      <td>Flexible schedule</td>\n",
              "      <td>Not specified</td>\n",
              "      <td>Not specified</td>\n",
              "      <td>Semana 1, Semana 2, Semana 3, Semana 4</td>\n",
              "      <td>Eduardo de la Vara Brown.</td>\n",
              "      <td>SAE Institute México</td>\n",
              "      <td>Arts and Humanities</td>\n",
              "      <td>https://www.coursera.org/learn/distribucion-di...</td>\n",
              "      <td>8.0</td>\n",
              "      <td>0</td>\n",
              "    </tr>\n",
              "    <tr>\n",
              "      <th>4</th>\n",
              "      <td>The Blues: Understanding and Performing an Ame...</td>\n",
              "      <td>4.8</td>\n",
              "      <td>Beginner level</td>\n",
              "      <td>Flexible schedule</td>\n",
              "      <td>Students will be able to describe the blues as...</td>\n",
              "      <td>Music, Chord, Jazz, Jazz Improvisation</td>\n",
              "      <td>Blues Progressions – Theory and Practice , Blu...</td>\n",
              "      <td>Dariusz Terefenko</td>\n",
              "      <td>University of Rochester</td>\n",
              "      <td>Arts and Humanities</td>\n",
              "      <td>https://www.coursera.org/learn/the-blues</td>\n",
              "      <td>11.0</td>\n",
              "      <td>582</td>\n",
              "    </tr>\n",
              "  </tbody>\n",
              "</table>\n",
              "</div>\n",
              "    <div class=\"colab-df-buttons\">\n",
              "\n",
              "  <div class=\"colab-df-container\">\n",
              "    <button class=\"colab-df-convert\" onclick=\"convertToInteractive('df-8bde176b-0b60-47b4-b410-0e5169bd5c08')\"\n",
              "            title=\"Convert this dataframe to an interactive table.\"\n",
              "            style=\"display:none;\">\n",
              "\n",
              "  <svg xmlns=\"http://www.w3.org/2000/svg\" height=\"24px\" viewBox=\"0 -960 960 960\">\n",
              "    <path d=\"M120-120v-720h720v720H120Zm60-500h600v-160H180v160Zm220 220h160v-160H400v160Zm0 220h160v-160H400v160ZM180-400h160v-160H180v160Zm440 0h160v-160H620v160ZM180-180h160v-160H180v160Zm440 0h160v-160H620v160Z\"/>\n",
              "  </svg>\n",
              "    </button>\n",
              "\n",
              "  <style>\n",
              "    .colab-df-container {\n",
              "      display:flex;\n",
              "      gap: 12px;\n",
              "    }\n",
              "\n",
              "    .colab-df-convert {\n",
              "      background-color: #E8F0FE;\n",
              "      border: none;\n",
              "      border-radius: 50%;\n",
              "      cursor: pointer;\n",
              "      display: none;\n",
              "      fill: #1967D2;\n",
              "      height: 32px;\n",
              "      padding: 0 0 0 0;\n",
              "      width: 32px;\n",
              "    }\n",
              "\n",
              "    .colab-df-convert:hover {\n",
              "      background-color: #E2EBFA;\n",
              "      box-shadow: 0px 1px 2px rgba(60, 64, 67, 0.3), 0px 1px 3px 1px rgba(60, 64, 67, 0.15);\n",
              "      fill: #174EA6;\n",
              "    }\n",
              "\n",
              "    .colab-df-buttons div {\n",
              "      margin-bottom: 4px;\n",
              "    }\n",
              "\n",
              "    [theme=dark] .colab-df-convert {\n",
              "      background-color: #3B4455;\n",
              "      fill: #D2E3FC;\n",
              "    }\n",
              "\n",
              "    [theme=dark] .colab-df-convert:hover {\n",
              "      background-color: #434B5C;\n",
              "      box-shadow: 0px 1px 3px 1px rgba(0, 0, 0, 0.15);\n",
              "      filter: drop-shadow(0px 1px 2px rgba(0, 0, 0, 0.3));\n",
              "      fill: #FFFFFF;\n",
              "    }\n",
              "  </style>\n",
              "\n",
              "    <script>\n",
              "      const buttonEl =\n",
              "        document.querySelector('#df-8bde176b-0b60-47b4-b410-0e5169bd5c08 button.colab-df-convert');\n",
              "      buttonEl.style.display =\n",
              "        google.colab.kernel.accessAllowed ? 'block' : 'none';\n",
              "\n",
              "      async function convertToInteractive(key) {\n",
              "        const element = document.querySelector('#df-8bde176b-0b60-47b4-b410-0e5169bd5c08');\n",
              "        const dataTable =\n",
              "          await google.colab.kernel.invokeFunction('convertToInteractive',\n",
              "                                                    [key], {});\n",
              "        if (!dataTable) return;\n",
              "\n",
              "        const docLinkHtml = 'Like what you see? Visit the ' +\n",
              "          '<a target=\"_blank\" href=https://colab.research.google.com/notebooks/data_table.ipynb>data table notebook</a>'\n",
              "          + ' to learn more about interactive tables.';\n",
              "        element.innerHTML = '';\n",
              "        dataTable['output_type'] = 'display_data';\n",
              "        await google.colab.output.renderOutput(dataTable, element);\n",
              "        const docLink = document.createElement('div');\n",
              "        docLink.innerHTML = docLinkHtml;\n",
              "        element.appendChild(docLink);\n",
              "      }\n",
              "    </script>\n",
              "  </div>\n",
              "\n",
              "\n",
              "<div id=\"df-59541b14-78a5-4ba1-b134-8965bb8c28f8\">\n",
              "  <button class=\"colab-df-quickchart\" onclick=\"quickchart('df-59541b14-78a5-4ba1-b134-8965bb8c28f8')\"\n",
              "            title=\"Suggest charts\"\n",
              "            style=\"display:none;\">\n",
              "\n",
              "<svg xmlns=\"http://www.w3.org/2000/svg\" height=\"24px\"viewBox=\"0 0 24 24\"\n",
              "     width=\"24px\">\n",
              "    <g>\n",
              "        <path d=\"M19 3H5c-1.1 0-2 .9-2 2v14c0 1.1.9 2 2 2h14c1.1 0 2-.9 2-2V5c0-1.1-.9-2-2-2zM9 17H7v-7h2v7zm4 0h-2V7h2v10zm4 0h-2v-4h2v4z\"/>\n",
              "    </g>\n",
              "</svg>\n",
              "  </button>\n",
              "\n",
              "<style>\n",
              "  .colab-df-quickchart {\n",
              "      --bg-color: #E8F0FE;\n",
              "      --fill-color: #1967D2;\n",
              "      --hover-bg-color: #E2EBFA;\n",
              "      --hover-fill-color: #174EA6;\n",
              "      --disabled-fill-color: #AAA;\n",
              "      --disabled-bg-color: #DDD;\n",
              "  }\n",
              "\n",
              "  [theme=dark] .colab-df-quickchart {\n",
              "      --bg-color: #3B4455;\n",
              "      --fill-color: #D2E3FC;\n",
              "      --hover-bg-color: #434B5C;\n",
              "      --hover-fill-color: #FFFFFF;\n",
              "      --disabled-bg-color: #3B4455;\n",
              "      --disabled-fill-color: #666;\n",
              "  }\n",
              "\n",
              "  .colab-df-quickchart {\n",
              "    background-color: var(--bg-color);\n",
              "    border: none;\n",
              "    border-radius: 50%;\n",
              "    cursor: pointer;\n",
              "    display: none;\n",
              "    fill: var(--fill-color);\n",
              "    height: 32px;\n",
              "    padding: 0;\n",
              "    width: 32px;\n",
              "  }\n",
              "\n",
              "  .colab-df-quickchart:hover {\n",
              "    background-color: var(--hover-bg-color);\n",
              "    box-shadow: 0 1px 2px rgba(60, 64, 67, 0.3), 0 1px 3px 1px rgba(60, 64, 67, 0.15);\n",
              "    fill: var(--button-hover-fill-color);\n",
              "  }\n",
              "\n",
              "  .colab-df-quickchart-complete:disabled,\n",
              "  .colab-df-quickchart-complete:disabled:hover {\n",
              "    background-color: var(--disabled-bg-color);\n",
              "    fill: var(--disabled-fill-color);\n",
              "    box-shadow: none;\n",
              "  }\n",
              "\n",
              "  .colab-df-spinner {\n",
              "    border: 2px solid var(--fill-color);\n",
              "    border-color: transparent;\n",
              "    border-bottom-color: var(--fill-color);\n",
              "    animation:\n",
              "      spin 1s steps(1) infinite;\n",
              "  }\n",
              "\n",
              "  @keyframes spin {\n",
              "    0% {\n",
              "      border-color: transparent;\n",
              "      border-bottom-color: var(--fill-color);\n",
              "      border-left-color: var(--fill-color);\n",
              "    }\n",
              "    20% {\n",
              "      border-color: transparent;\n",
              "      border-left-color: var(--fill-color);\n",
              "      border-top-color: var(--fill-color);\n",
              "    }\n",
              "    30% {\n",
              "      border-color: transparent;\n",
              "      border-left-color: var(--fill-color);\n",
              "      border-top-color: var(--fill-color);\n",
              "      border-right-color: var(--fill-color);\n",
              "    }\n",
              "    40% {\n",
              "      border-color: transparent;\n",
              "      border-right-color: var(--fill-color);\n",
              "      border-top-color: var(--fill-color);\n",
              "    }\n",
              "    60% {\n",
              "      border-color: transparent;\n",
              "      border-right-color: var(--fill-color);\n",
              "    }\n",
              "    80% {\n",
              "      border-color: transparent;\n",
              "      border-right-color: var(--fill-color);\n",
              "      border-bottom-color: var(--fill-color);\n",
              "    }\n",
              "    90% {\n",
              "      border-color: transparent;\n",
              "      border-bottom-color: var(--fill-color);\n",
              "    }\n",
              "  }\n",
              "</style>\n",
              "\n",
              "  <script>\n",
              "    async function quickchart(key) {\n",
              "      const quickchartButtonEl =\n",
              "        document.querySelector('#' + key + ' button');\n",
              "      quickchartButtonEl.disabled = true;  // To prevent multiple clicks.\n",
              "      quickchartButtonEl.classList.add('colab-df-spinner');\n",
              "      try {\n",
              "        const charts = await google.colab.kernel.invokeFunction(\n",
              "            'suggestCharts', [key], {});\n",
              "      } catch (error) {\n",
              "        console.error('Error during call to suggestCharts:', error);\n",
              "      }\n",
              "      quickchartButtonEl.classList.remove('colab-df-spinner');\n",
              "      quickchartButtonEl.classList.add('colab-df-quickchart-complete');\n",
              "    }\n",
              "    (() => {\n",
              "      let quickchartButtonEl =\n",
              "        document.querySelector('#df-59541b14-78a5-4ba1-b134-8965bb8c28f8 button');\n",
              "      quickchartButtonEl.style.display =\n",
              "        google.colab.kernel.accessAllowed ? 'block' : 'none';\n",
              "    })();\n",
              "  </script>\n",
              "</div>\n",
              "\n",
              "    </div>\n",
              "  </div>\n"
            ],
            "application/vnd.google.colaboratory.intrinsic+json": {
              "type": "dataframe",
              "variable_name": "data",
              "summary": "{\n  \"name\": \"data\",\n  \"rows\": 8370,\n  \"fields\": [\n    {\n      \"column\": \"Course Title\",\n      \"properties\": {\n        \"dtype\": \"string\",\n        \"num_unique_values\": 6081,\n        \"samples\": [\n          \"Impacting the Opioid Crisis: Prevention, Education, and Practice for Non-Prescribing Providers\",\n          \"Modern & Contemporary American Poetry (\\u201cModPo\\u201d)\",\n          \"Intimacy of Creativity: Entering the Minds of Composers\"\n        ],\n        \"semantic_type\": \"\",\n        \"description\": \"\"\n      }\n    },\n    {\n      \"column\": \"Rating\",\n      \"properties\": {\n        \"dtype\": \"number\",\n        \"std\": 1.6234304741096328,\n        \"min\": 0.0,\n        \"max\": 5.0,\n        \"num_unique_values\": 22,\n        \"samples\": [\n          4.8,\n          3.8,\n          4.3\n        ],\n        \"semantic_type\": \"\",\n        \"description\": \"\"\n      }\n    },\n    {\n      \"column\": \"Level\",\n      \"properties\": {\n        \"dtype\": \"category\",\n        \"num_unique_values\": 4,\n        \"samples\": [\n          \"Intermediate level\",\n          \"Advanced level\",\n          \"Beginner level\"\n        ],\n        \"semantic_type\": \"\",\n        \"description\": \"\"\n      }\n    },\n    {\n      \"column\": \"Schedule\",\n      \"properties\": {\n        \"dtype\": \"category\",\n        \"num_unique_values\": 2,\n        \"samples\": [\n          \"Hands-on learning\",\n          \"Flexible schedule\"\n        ],\n        \"semantic_type\": \"\",\n        \"description\": \"\"\n      }\n    },\n    {\n      \"column\": \"What you will learn\",\n      \"properties\": {\n        \"dtype\": \"category\",\n        \"num_unique_values\": 3010,\n        \"samples\": [\n          \"Employ techniques that teach improvisation in blues and jazz musicEmploy approaches that teach youth the basic principles of songwritingEngage in the use of social cultural contexts in all aspects of instructionExplore multiple uses of technologies for music making \",\n          \"Understand Course Flow and Requirements\"\n        ],\n        \"semantic_type\": \"\",\n        \"description\": \"\"\n      }\n    },\n    {\n      \"column\": \"Skill gain\",\n      \"properties\": {\n        \"dtype\": \"category\",\n        \"num_unique_values\": 3697,\n        \"samples\": [\n          \"Django (Web Framework), HTML, Production environments, JavaScript, Cascading Style Sheets (CSS)\",\n          \"Practical Applications, Financial Statement, Practical Applications in Accounting, Accounting Cycle\"\n        ],\n        \"semantic_type\": \"\",\n        \"description\": \"\"\n      }\n    },\n    {\n      \"column\": \"Modules\",\n      \"properties\": {\n        \"dtype\": \"string\",\n        \"num_unique_values\": 5688,\n        \"samples\": [\n          \"Data Warehouses, Data Marts, and Data Lakes, Designing, Modeling and Implementing Data Warehouses, Data Warehouse Analytics, Final Assignment and Final Quiz\",\n          \"\\\"Quest-ce quapprendre ?\\\", \\\"Lencodage\\\", La procrastination et la m\\u00e9moire, Renaissance : Apprendre et lib\\u00e9rer son potentiel\"\n        ],\n        \"semantic_type\": \"\",\n        \"description\": \"\"\n      }\n    },\n    {\n      \"column\": \"Instructor\",\n      \"properties\": {\n        \"dtype\": \"category\",\n        \"num_unique_values\": 3524,\n        \"samples\": [\n          \"Ron Duren Jr.\",\n          \"Mar\\u00eda C. Ca\\u00f1adas\"\n        ],\n        \"semantic_type\": \"\",\n        \"description\": \"\"\n      }\n    },\n    {\n      \"column\": \"Offered By\",\n      \"properties\": {\n        \"dtype\": \"category\",\n        \"num_unique_values\": 395,\n        \"samples\": [\n          \"Coursera Project Network\",\n          \"PepsiCo\"\n        ],\n        \"semantic_type\": \"\",\n        \"description\": \"\"\n      }\n    },\n    {\n      \"column\": \"Keyword\",\n      \"properties\": {\n        \"dtype\": \"category\",\n        \"num_unique_values\": 10,\n        \"samples\": [\n          \"Physical Science and Engineering\",\n          \"Business\"\n        ],\n        \"semantic_type\": \"\",\n        \"description\": \"\"\n      }\n    },\n    {\n      \"column\": \"Course Url\",\n      \"properties\": {\n        \"dtype\": \"string\",\n        \"num_unique_values\": 6093,\n        \"samples\": [\n          \"https://www.coursera.org/learn/calidad-en-la-atn-clnica\",\n          \"https://www.coursera.org/learn/csm-practice-process-management\"\n        ],\n        \"semantic_type\": \"\",\n        \"description\": \"\"\n      }\n    },\n    {\n      \"column\": \"Duration to complete (Approx.)\",\n      \"properties\": {\n        \"dtype\": \"number\",\n        \"std\": 39.89960750545697,\n        \"min\": 1.0,\n        \"max\": 480.0,\n        \"num_unique_values\": 109,\n        \"samples\": [\n          100.0,\n          26.0\n        ],\n        \"semantic_type\": \"\",\n        \"description\": \"\"\n      }\n    },\n    {\n      \"column\": \"Number of Review\",\n      \"properties\": {\n        \"dtype\": \"number\",\n        \"std\": 10265,\n        \"min\": 0,\n        \"max\": 225830,\n        \"num_unique_values\": 1860,\n        \"samples\": [\n          83,\n          18687\n        ],\n        \"semantic_type\": \"\",\n        \"description\": \"\"\n      }\n    }\n  ]\n}"
            }
          },
          "metadata": {},
          "execution_count": 1
        }
      ],
      "source": [
        "import pandas as pd\n",
        "\n",
        "# Load the dataset\n",
        "data = pd.read_csv(\"/content/CourseraDataset-Clean.csv\")\n",
        "\n",
        "# Display the first few rows of the dataset\n",
        "data.head()"
      ]
    },
    {
      "cell_type": "code",
      "execution_count": null,
      "metadata": {
        "colab": {
          "base_uri": "https://localhost:8080/"
        },
        "id": "k7pbAwZsSYv8",
        "outputId": "f39808ee-dcc0-4d6c-bf7c-a940ecf1149b"
      },
      "outputs": [
        {
          "data": {
            "text/plain": [
              "(8370, 13)"
            ]
          },
          "execution_count": 2,
          "metadata": {},
          "output_type": "execute_result"
        }
      ],
      "source": [
        "data.shape"
      ]
    },
    {
      "cell_type": "code",
      "execution_count": null,
      "metadata": {
        "colab": {
          "base_uri": "https://localhost:8080/"
        },
        "id": "pjL3RUA2lwEU",
        "outputId": "7effb115-07b9-4bcd-d436-668f46d8cabc"
      },
      "outputs": [
        {
          "data": {
            "text/plain": [
              "Course Title                       0\n",
              "Rating                             0\n",
              "Level                              0\n",
              "Schedule                           0\n",
              "What you will learn                0\n",
              "Skill gain                         0\n",
              "Modules                           33\n",
              "Instructor                        88\n",
              "Offered By                         0\n",
              "Keyword                            0\n",
              "Course Url                         0\n",
              "Duration to complete (Approx.)     0\n",
              "Number of Review                   0\n",
              "dtype: int64"
            ]
          },
          "execution_count": 3,
          "metadata": {},
          "output_type": "execute_result"
        }
      ],
      "source": [
        "# Check for missing values and data types\n",
        "missing_values = data.isnull().sum()\n",
        "missing_values"
      ]
    },
    {
      "cell_type": "code",
      "execution_count": null,
      "metadata": {
        "id": "MVVHKTJVlv5z"
      },
      "outputs": [],
      "source": [
        "# Fill missing values with \"Not specified\"\n",
        "data['Modules'].fillna('Not specified', inplace=True)\n",
        "data['Instructor'].fillna('Not specified', inplace=True)"
      ]
    },
    {
      "cell_type": "code",
      "execution_count": null,
      "metadata": {
        "colab": {
          "base_uri": "https://localhost:8080/"
        },
        "id": "_NaKZ70GlwA3",
        "outputId": "86ba2f4d-a5ec-4927-d831-60f05568d541"
      },
      "outputs": [
        {
          "name": "stdout",
          "output_type": "stream",
          "text": [
            "<class 'pandas.core.frame.DataFrame'>\n",
            "RangeIndex: 8370 entries, 0 to 8369\n",
            "Data columns (total 13 columns):\n",
            " #   Column                          Non-Null Count  Dtype  \n",
            "---  ------                          --------------  -----  \n",
            " 0   Course Title                    8370 non-null   object \n",
            " 1   Rating                          8370 non-null   float64\n",
            " 2   Level                           8370 non-null   object \n",
            " 3   Schedule                        8370 non-null   object \n",
            " 4   What you will learn             8370 non-null   object \n",
            " 5   Skill gain                      8370 non-null   object \n",
            " 6   Modules                         8337 non-null   object \n",
            " 7   Instructor                      8282 non-null   object \n",
            " 8   Offered By                      8370 non-null   object \n",
            " 9   Keyword                         8370 non-null   object \n",
            " 10  Course Url                      8370 non-null   object \n",
            " 11  Duration to complete (Approx.)  8370 non-null   float64\n",
            " 12  Number of Review                8370 non-null   int64  \n",
            "dtypes: float64(2), int64(1), object(10)\n",
            "memory usage: 850.2+ KB\n"
          ]
        }
      ],
      "source": [
        "data.info()"
      ]
    },
    {
      "cell_type": "code",
      "execution_count": null,
      "metadata": {
        "id": "r9MmKv-4WbPh"
      },
      "outputs": [],
      "source": [
        "data = data[data[\"What you will learn\"] != \"Not specified\"]"
      ]
    },
    {
      "cell_type": "code",
      "execution_count": null,
      "metadata": {
        "colab": {
          "base_uri": "https://localhost:8080/",
          "height": 1000
        },
        "id": "-CfhKgb6RN2q",
        "outputId": "e1f90dc5-4c91-4504-db24-47b9dfc988ad"
      },
      "outputs": [
        {
          "output_type": "stream",
          "name": "stdout",
          "text": [
            "2072\n"
          ]
        },
        {
          "output_type": "execute_result",
          "data": {
            "text/plain": [
              "                                Course Title  Rating           Level  \\\n",
              "6650                         5G for Everyone     4.8  Beginner level   \n",
              "5735                         5G for Everyone     4.8  Beginner level   \n",
              "3021                         5G for Everyone     4.8  Beginner level   \n",
              "1890                         5G for Everyone     4.8  Beginner level   \n",
              "6922            El ABC de la sostenibilidad      4.8  Beginner level   \n",
              "6194            El ABC de la sostenibilidad      4.8  Beginner level   \n",
              "6731              The ABC of sustainability      4.6  Beginner level   \n",
              "7671              The ABC of sustainability      4.6  Beginner level   \n",
              "7950  Acing the Product Management Interview     4.7  Beginner level   \n",
              "2375  Acing the Product Management Interview     4.7  Beginner level   \n",
              "\n",
              "               Schedule                                What you will learn  \\\n",
              "6650  Flexible schedule  Gain an in-depth understanding of how 5G is re...   \n",
              "5735  Flexible schedule  Gain an in-depth understanding of how 5G is re...   \n",
              "3021  Flexible schedule  Gain an in-depth understanding of how 5G is re...   \n",
              "1890  Flexible schedule  Gain an in-depth understanding of how 5G is re...   \n",
              "6922  Flexible schedule  Entender el para qué de la sostenibilidad, apr...   \n",
              "6194  Flexible schedule  Entender el para qué de la sostenibilidad, apr...   \n",
              "6731  Flexible schedule  Understanding sustainability, learning about t...   \n",
              "7671  Flexible schedule  Understanding sustainability, learning about t...   \n",
              "7950  Flexible schedule  Earn Trust. Learn where most job opportunities...   \n",
              "2375  Flexible schedule  Earn Trust. Learn where most job opportunities...   \n",
              "\n",
              "                                             Skill gain  \\\n",
              "6650  Wireless Network, Massive MIMO, Industrial IoT...   \n",
              "5735  Wireless Network, Massive MIMO, Industrial IoT...   \n",
              "3021  Wireless Network, Massive MIMO, Industrial IoT...   \n",
              "1890  Wireless Network, Massive MIMO, Industrial IoT...   \n",
              "6922  Desarrollo sostenible, Negocio sostenible, Pen...   \n",
              "6194  Desarrollo sostenible, Negocio sostenible, Pen...   \n",
              "6731  Sustainable Business, Critical Thinking, susta...   \n",
              "7671  Sustainable Business, Critical Thinking, susta...   \n",
              "7950  Estimation Interview, Product Design Interview...   \n",
              "2375  Estimation Interview, Product Design Interview...   \n",
              "\n",
              "                                                Modules          Instructor  \\\n",
              "6650  Wireless and Cellular Communications Overview,...  Nakul H. Navarange   \n",
              "5735  Wireless and Cellular Communications Overview,...  Nakul H. Navarange   \n",
              "3021  Wireless and Cellular Communications Overview,...  Nakul H. Navarange   \n",
              "1890  Wireless and Cellular Communications Overview,...  Nakul H. Navarange   \n",
              "6922  Definición, contexto global y marcos internaci...       Not specified   \n",
              "6194  Definición, contexto global y marcos internaci...       Not specified   \n",
              "6731  Definition, global context and international s...       Not specified   \n",
              "7671  Definition, global context and international s...       Not specified   \n",
              "7950  Earn Trust, Hire and Develop the Best, Hire an...          Nancy Wang   \n",
              "2375  Earn Trust, Hire and Develop the Best, Hire an...          Nancy Wang   \n",
              "\n",
              "                   Offered By                           Keyword  \\\n",
              "6650         Qualcomm Academy  Physical Science and Engineering   \n",
              "5735         Qualcomm Academy              Personal Development   \n",
              "3021         Qualcomm Academy                       DataScience   \n",
              "1890         Qualcomm Academy                  Computer Science   \n",
              "6922              Campus BBVA  Physical Science and Engineering   \n",
              "6194              Campus BBVA              Personal Development   \n",
              "6731              Campus BBVA  Physical Science and Engineering   \n",
              "7671              Campus BBVA                   Social Sciences   \n",
              "7950  Advancing Women in Tech                   Social Sciences   \n",
              "2375  Advancing Women in Tech                  Computer Science   \n",
              "\n",
              "                                             Course Url  \\\n",
              "6650  https://www.coursera.org/learn/5g-training-qua...   \n",
              "5735  https://www.coursera.org/learn/5g-training-qua...   \n",
              "3021  https://www.coursera.org/learn/5g-training-qua...   \n",
              "1890  https://www.coursera.org/learn/5g-training-qua...   \n",
              "6922  https://www.coursera.org/learn/abc-sostenibilidad   \n",
              "6194  https://www.coursera.org/learn/abc-sostenibilidad   \n",
              "6731  https://www.coursera.org/learn/abc-sustainability   \n",
              "7671  https://www.coursera.org/learn/abc-sustainability   \n",
              "7950  https://www.coursera.org/learn/acing-product-m...   \n",
              "2375  https://www.coursera.org/learn/acing-product-m...   \n",
              "\n",
              "      Duration to complete (Approx.)  Number of Review  \n",
              "6650                            13.0               343  \n",
              "5735                            13.0               343  \n",
              "3021                            13.0               343  \n",
              "1890                            13.0               343  \n",
              "6922                            12.0               140  \n",
              "6194                            12.0               140  \n",
              "6731                            12.0                49  \n",
              "7671                            12.0                49  \n",
              "7950                            14.0               107  \n",
              "2375                            14.0               107  "
            ],
            "text/html": [
              "\n",
              "  <div id=\"df-ac3df487-a143-4efb-a8b5-29cb7cc652a7\" class=\"colab-df-container\">\n",
              "    <div>\n",
              "<style scoped>\n",
              "    .dataframe tbody tr th:only-of-type {\n",
              "        vertical-align: middle;\n",
              "    }\n",
              "\n",
              "    .dataframe tbody tr th {\n",
              "        vertical-align: top;\n",
              "    }\n",
              "\n",
              "    .dataframe thead th {\n",
              "        text-align: right;\n",
              "    }\n",
              "</style>\n",
              "<table border=\"1\" class=\"dataframe\">\n",
              "  <thead>\n",
              "    <tr style=\"text-align: right;\">\n",
              "      <th></th>\n",
              "      <th>Course Title</th>\n",
              "      <th>Rating</th>\n",
              "      <th>Level</th>\n",
              "      <th>Schedule</th>\n",
              "      <th>What you will learn</th>\n",
              "      <th>Skill gain</th>\n",
              "      <th>Modules</th>\n",
              "      <th>Instructor</th>\n",
              "      <th>Offered By</th>\n",
              "      <th>Keyword</th>\n",
              "      <th>Course Url</th>\n",
              "      <th>Duration to complete (Approx.)</th>\n",
              "      <th>Number of Review</th>\n",
              "    </tr>\n",
              "  </thead>\n",
              "  <tbody>\n",
              "    <tr>\n",
              "      <th>6650</th>\n",
              "      <td>5G for Everyone</td>\n",
              "      <td>4.8</td>\n",
              "      <td>Beginner level</td>\n",
              "      <td>Flexible schedule</td>\n",
              "      <td>Gain an in-depth understanding of how 5G is re...</td>\n",
              "      <td>Wireless Network, Massive MIMO, Industrial IoT...</td>\n",
              "      <td>Wireless and Cellular Communications Overview,...</td>\n",
              "      <td>Nakul H. Navarange</td>\n",
              "      <td>Qualcomm Academy</td>\n",
              "      <td>Physical Science and Engineering</td>\n",
              "      <td>https://www.coursera.org/learn/5g-training-qua...</td>\n",
              "      <td>13.0</td>\n",
              "      <td>343</td>\n",
              "    </tr>\n",
              "    <tr>\n",
              "      <th>5735</th>\n",
              "      <td>5G for Everyone</td>\n",
              "      <td>4.8</td>\n",
              "      <td>Beginner level</td>\n",
              "      <td>Flexible schedule</td>\n",
              "      <td>Gain an in-depth understanding of how 5G is re...</td>\n",
              "      <td>Wireless Network, Massive MIMO, Industrial IoT...</td>\n",
              "      <td>Wireless and Cellular Communications Overview,...</td>\n",
              "      <td>Nakul H. Navarange</td>\n",
              "      <td>Qualcomm Academy</td>\n",
              "      <td>Personal Development</td>\n",
              "      <td>https://www.coursera.org/learn/5g-training-qua...</td>\n",
              "      <td>13.0</td>\n",
              "      <td>343</td>\n",
              "    </tr>\n",
              "    <tr>\n",
              "      <th>3021</th>\n",
              "      <td>5G for Everyone</td>\n",
              "      <td>4.8</td>\n",
              "      <td>Beginner level</td>\n",
              "      <td>Flexible schedule</td>\n",
              "      <td>Gain an in-depth understanding of how 5G is re...</td>\n",
              "      <td>Wireless Network, Massive MIMO, Industrial IoT...</td>\n",
              "      <td>Wireless and Cellular Communications Overview,...</td>\n",
              "      <td>Nakul H. Navarange</td>\n",
              "      <td>Qualcomm Academy</td>\n",
              "      <td>DataScience</td>\n",
              "      <td>https://www.coursera.org/learn/5g-training-qua...</td>\n",
              "      <td>13.0</td>\n",
              "      <td>343</td>\n",
              "    </tr>\n",
              "    <tr>\n",
              "      <th>1890</th>\n",
              "      <td>5G for Everyone</td>\n",
              "      <td>4.8</td>\n",
              "      <td>Beginner level</td>\n",
              "      <td>Flexible schedule</td>\n",
              "      <td>Gain an in-depth understanding of how 5G is re...</td>\n",
              "      <td>Wireless Network, Massive MIMO, Industrial IoT...</td>\n",
              "      <td>Wireless and Cellular Communications Overview,...</td>\n",
              "      <td>Nakul H. Navarange</td>\n",
              "      <td>Qualcomm Academy</td>\n",
              "      <td>Computer Science</td>\n",
              "      <td>https://www.coursera.org/learn/5g-training-qua...</td>\n",
              "      <td>13.0</td>\n",
              "      <td>343</td>\n",
              "    </tr>\n",
              "    <tr>\n",
              "      <th>6922</th>\n",
              "      <td>El ABC de la sostenibilidad</td>\n",
              "      <td>4.8</td>\n",
              "      <td>Beginner level</td>\n",
              "      <td>Flexible schedule</td>\n",
              "      <td>Entender el para qué de la sostenibilidad, apr...</td>\n",
              "      <td>Desarrollo sostenible, Negocio sostenible, Pen...</td>\n",
              "      <td>Definición, contexto global y marcos internaci...</td>\n",
              "      <td>Not specified</td>\n",
              "      <td>Campus BBVA</td>\n",
              "      <td>Physical Science and Engineering</td>\n",
              "      <td>https://www.coursera.org/learn/abc-sostenibilidad</td>\n",
              "      <td>12.0</td>\n",
              "      <td>140</td>\n",
              "    </tr>\n",
              "    <tr>\n",
              "      <th>6194</th>\n",
              "      <td>El ABC de la sostenibilidad</td>\n",
              "      <td>4.8</td>\n",
              "      <td>Beginner level</td>\n",
              "      <td>Flexible schedule</td>\n",
              "      <td>Entender el para qué de la sostenibilidad, apr...</td>\n",
              "      <td>Desarrollo sostenible, Negocio sostenible, Pen...</td>\n",
              "      <td>Definición, contexto global y marcos internaci...</td>\n",
              "      <td>Not specified</td>\n",
              "      <td>Campus BBVA</td>\n",
              "      <td>Personal Development</td>\n",
              "      <td>https://www.coursera.org/learn/abc-sostenibilidad</td>\n",
              "      <td>12.0</td>\n",
              "      <td>140</td>\n",
              "    </tr>\n",
              "    <tr>\n",
              "      <th>6731</th>\n",
              "      <td>The ABC of sustainability</td>\n",
              "      <td>4.6</td>\n",
              "      <td>Beginner level</td>\n",
              "      <td>Flexible schedule</td>\n",
              "      <td>Understanding sustainability, learning about t...</td>\n",
              "      <td>Sustainable Business, Critical Thinking, susta...</td>\n",
              "      <td>Definition, global context and international s...</td>\n",
              "      <td>Not specified</td>\n",
              "      <td>Campus BBVA</td>\n",
              "      <td>Physical Science and Engineering</td>\n",
              "      <td>https://www.coursera.org/learn/abc-sustainability</td>\n",
              "      <td>12.0</td>\n",
              "      <td>49</td>\n",
              "    </tr>\n",
              "    <tr>\n",
              "      <th>7671</th>\n",
              "      <td>The ABC of sustainability</td>\n",
              "      <td>4.6</td>\n",
              "      <td>Beginner level</td>\n",
              "      <td>Flexible schedule</td>\n",
              "      <td>Understanding sustainability, learning about t...</td>\n",
              "      <td>Sustainable Business, Critical Thinking, susta...</td>\n",
              "      <td>Definition, global context and international s...</td>\n",
              "      <td>Not specified</td>\n",
              "      <td>Campus BBVA</td>\n",
              "      <td>Social Sciences</td>\n",
              "      <td>https://www.coursera.org/learn/abc-sustainability</td>\n",
              "      <td>12.0</td>\n",
              "      <td>49</td>\n",
              "    </tr>\n",
              "    <tr>\n",
              "      <th>7950</th>\n",
              "      <td>Acing the Product Management Interview</td>\n",
              "      <td>4.7</td>\n",
              "      <td>Beginner level</td>\n",
              "      <td>Flexible schedule</td>\n",
              "      <td>Earn Trust. Learn where most job opportunities...</td>\n",
              "      <td>Estimation Interview, Product Design Interview...</td>\n",
              "      <td>Earn Trust, Hire and Develop the Best, Hire an...</td>\n",
              "      <td>Nancy Wang</td>\n",
              "      <td>Advancing Women in Tech</td>\n",
              "      <td>Social Sciences</td>\n",
              "      <td>https://www.coursera.org/learn/acing-product-m...</td>\n",
              "      <td>14.0</td>\n",
              "      <td>107</td>\n",
              "    </tr>\n",
              "    <tr>\n",
              "      <th>2375</th>\n",
              "      <td>Acing the Product Management Interview</td>\n",
              "      <td>4.7</td>\n",
              "      <td>Beginner level</td>\n",
              "      <td>Flexible schedule</td>\n",
              "      <td>Earn Trust. Learn where most job opportunities...</td>\n",
              "      <td>Estimation Interview, Product Design Interview...</td>\n",
              "      <td>Earn Trust, Hire and Develop the Best, Hire an...</td>\n",
              "      <td>Nancy Wang</td>\n",
              "      <td>Advancing Women in Tech</td>\n",
              "      <td>Computer Science</td>\n",
              "      <td>https://www.coursera.org/learn/acing-product-m...</td>\n",
              "      <td>14.0</td>\n",
              "      <td>107</td>\n",
              "    </tr>\n",
              "  </tbody>\n",
              "</table>\n",
              "</div>\n",
              "    <div class=\"colab-df-buttons\">\n",
              "\n",
              "  <div class=\"colab-df-container\">\n",
              "    <button class=\"colab-df-convert\" onclick=\"convertToInteractive('df-ac3df487-a143-4efb-a8b5-29cb7cc652a7')\"\n",
              "            title=\"Convert this dataframe to an interactive table.\"\n",
              "            style=\"display:none;\">\n",
              "\n",
              "  <svg xmlns=\"http://www.w3.org/2000/svg\" height=\"24px\" viewBox=\"0 -960 960 960\">\n",
              "    <path d=\"M120-120v-720h720v720H120Zm60-500h600v-160H180v160Zm220 220h160v-160H400v160Zm0 220h160v-160H400v160ZM180-400h160v-160H180v160Zm440 0h160v-160H620v160ZM180-180h160v-160H180v160Zm440 0h160v-160H620v160Z\"/>\n",
              "  </svg>\n",
              "    </button>\n",
              "\n",
              "  <style>\n",
              "    .colab-df-container {\n",
              "      display:flex;\n",
              "      gap: 12px;\n",
              "    }\n",
              "\n",
              "    .colab-df-convert {\n",
              "      background-color: #E8F0FE;\n",
              "      border: none;\n",
              "      border-radius: 50%;\n",
              "      cursor: pointer;\n",
              "      display: none;\n",
              "      fill: #1967D2;\n",
              "      height: 32px;\n",
              "      padding: 0 0 0 0;\n",
              "      width: 32px;\n",
              "    }\n",
              "\n",
              "    .colab-df-convert:hover {\n",
              "      background-color: #E2EBFA;\n",
              "      box-shadow: 0px 1px 2px rgba(60, 64, 67, 0.3), 0px 1px 3px 1px rgba(60, 64, 67, 0.15);\n",
              "      fill: #174EA6;\n",
              "    }\n",
              "\n",
              "    .colab-df-buttons div {\n",
              "      margin-bottom: 4px;\n",
              "    }\n",
              "\n",
              "    [theme=dark] .colab-df-convert {\n",
              "      background-color: #3B4455;\n",
              "      fill: #D2E3FC;\n",
              "    }\n",
              "\n",
              "    [theme=dark] .colab-df-convert:hover {\n",
              "      background-color: #434B5C;\n",
              "      box-shadow: 0px 1px 3px 1px rgba(0, 0, 0, 0.15);\n",
              "      filter: drop-shadow(0px 1px 2px rgba(0, 0, 0, 0.3));\n",
              "      fill: #FFFFFF;\n",
              "    }\n",
              "  </style>\n",
              "\n",
              "    <script>\n",
              "      const buttonEl =\n",
              "        document.querySelector('#df-ac3df487-a143-4efb-a8b5-29cb7cc652a7 button.colab-df-convert');\n",
              "      buttonEl.style.display =\n",
              "        google.colab.kernel.accessAllowed ? 'block' : 'none';\n",
              "\n",
              "      async function convertToInteractive(key) {\n",
              "        const element = document.querySelector('#df-ac3df487-a143-4efb-a8b5-29cb7cc652a7');\n",
              "        const dataTable =\n",
              "          await google.colab.kernel.invokeFunction('convertToInteractive',\n",
              "                                                    [key], {});\n",
              "        if (!dataTable) return;\n",
              "\n",
              "        const docLinkHtml = 'Like what you see? Visit the ' +\n",
              "          '<a target=\"_blank\" href=https://colab.research.google.com/notebooks/data_table.ipynb>data table notebook</a>'\n",
              "          + ' to learn more about interactive tables.';\n",
              "        element.innerHTML = '';\n",
              "        dataTable['output_type'] = 'display_data';\n",
              "        await google.colab.output.renderOutput(dataTable, element);\n",
              "        const docLink = document.createElement('div');\n",
              "        docLink.innerHTML = docLinkHtml;\n",
              "        element.appendChild(docLink);\n",
              "      }\n",
              "    </script>\n",
              "  </div>\n",
              "\n",
              "\n",
              "<div id=\"df-47215460-8821-4dfb-9e8d-541a01db8095\">\n",
              "  <button class=\"colab-df-quickchart\" onclick=\"quickchart('df-47215460-8821-4dfb-9e8d-541a01db8095')\"\n",
              "            title=\"Suggest charts\"\n",
              "            style=\"display:none;\">\n",
              "\n",
              "<svg xmlns=\"http://www.w3.org/2000/svg\" height=\"24px\"viewBox=\"0 0 24 24\"\n",
              "     width=\"24px\">\n",
              "    <g>\n",
              "        <path d=\"M19 3H5c-1.1 0-2 .9-2 2v14c0 1.1.9 2 2 2h14c1.1 0 2-.9 2-2V5c0-1.1-.9-2-2-2zM9 17H7v-7h2v7zm4 0h-2V7h2v10zm4 0h-2v-4h2v4z\"/>\n",
              "    </g>\n",
              "</svg>\n",
              "  </button>\n",
              "\n",
              "<style>\n",
              "  .colab-df-quickchart {\n",
              "      --bg-color: #E8F0FE;\n",
              "      --fill-color: #1967D2;\n",
              "      --hover-bg-color: #E2EBFA;\n",
              "      --hover-fill-color: #174EA6;\n",
              "      --disabled-fill-color: #AAA;\n",
              "      --disabled-bg-color: #DDD;\n",
              "  }\n",
              "\n",
              "  [theme=dark] .colab-df-quickchart {\n",
              "      --bg-color: #3B4455;\n",
              "      --fill-color: #D2E3FC;\n",
              "      --hover-bg-color: #434B5C;\n",
              "      --hover-fill-color: #FFFFFF;\n",
              "      --disabled-bg-color: #3B4455;\n",
              "      --disabled-fill-color: #666;\n",
              "  }\n",
              "\n",
              "  .colab-df-quickchart {\n",
              "    background-color: var(--bg-color);\n",
              "    border: none;\n",
              "    border-radius: 50%;\n",
              "    cursor: pointer;\n",
              "    display: none;\n",
              "    fill: var(--fill-color);\n",
              "    height: 32px;\n",
              "    padding: 0;\n",
              "    width: 32px;\n",
              "  }\n",
              "\n",
              "  .colab-df-quickchart:hover {\n",
              "    background-color: var(--hover-bg-color);\n",
              "    box-shadow: 0 1px 2px rgba(60, 64, 67, 0.3), 0 1px 3px 1px rgba(60, 64, 67, 0.15);\n",
              "    fill: var(--button-hover-fill-color);\n",
              "  }\n",
              "\n",
              "  .colab-df-quickchart-complete:disabled,\n",
              "  .colab-df-quickchart-complete:disabled:hover {\n",
              "    background-color: var(--disabled-bg-color);\n",
              "    fill: var(--disabled-fill-color);\n",
              "    box-shadow: none;\n",
              "  }\n",
              "\n",
              "  .colab-df-spinner {\n",
              "    border: 2px solid var(--fill-color);\n",
              "    border-color: transparent;\n",
              "    border-bottom-color: var(--fill-color);\n",
              "    animation:\n",
              "      spin 1s steps(1) infinite;\n",
              "  }\n",
              "\n",
              "  @keyframes spin {\n",
              "    0% {\n",
              "      border-color: transparent;\n",
              "      border-bottom-color: var(--fill-color);\n",
              "      border-left-color: var(--fill-color);\n",
              "    }\n",
              "    20% {\n",
              "      border-color: transparent;\n",
              "      border-left-color: var(--fill-color);\n",
              "      border-top-color: var(--fill-color);\n",
              "    }\n",
              "    30% {\n",
              "      border-color: transparent;\n",
              "      border-left-color: var(--fill-color);\n",
              "      border-top-color: var(--fill-color);\n",
              "      border-right-color: var(--fill-color);\n",
              "    }\n",
              "    40% {\n",
              "      border-color: transparent;\n",
              "      border-right-color: var(--fill-color);\n",
              "      border-top-color: var(--fill-color);\n",
              "    }\n",
              "    60% {\n",
              "      border-color: transparent;\n",
              "      border-right-color: var(--fill-color);\n",
              "    }\n",
              "    80% {\n",
              "      border-color: transparent;\n",
              "      border-right-color: var(--fill-color);\n",
              "      border-bottom-color: var(--fill-color);\n",
              "    }\n",
              "    90% {\n",
              "      border-color: transparent;\n",
              "      border-bottom-color: var(--fill-color);\n",
              "    }\n",
              "  }\n",
              "</style>\n",
              "\n",
              "  <script>\n",
              "    async function quickchart(key) {\n",
              "      const quickchartButtonEl =\n",
              "        document.querySelector('#' + key + ' button');\n",
              "      quickchartButtonEl.disabled = true;  // To prevent multiple clicks.\n",
              "      quickchartButtonEl.classList.add('colab-df-spinner');\n",
              "      try {\n",
              "        const charts = await google.colab.kernel.invokeFunction(\n",
              "            'suggestCharts', [key], {});\n",
              "      } catch (error) {\n",
              "        console.error('Error during call to suggestCharts:', error);\n",
              "      }\n",
              "      quickchartButtonEl.classList.remove('colab-df-spinner');\n",
              "      quickchartButtonEl.classList.add('colab-df-quickchart-complete');\n",
              "    }\n",
              "    (() => {\n",
              "      let quickchartButtonEl =\n",
              "        document.querySelector('#df-47215460-8821-4dfb-9e8d-541a01db8095 button');\n",
              "      quickchartButtonEl.style.display =\n",
              "        google.colab.kernel.accessAllowed ? 'block' : 'none';\n",
              "    })();\n",
              "  </script>\n",
              "</div>\n",
              "\n",
              "    </div>\n",
              "  </div>\n"
            ],
            "application/vnd.google.colaboratory.intrinsic+json": {
              "type": "dataframe",
              "variable_name": "sorted_url_duplicates",
              "summary": "{\n  \"name\": \"sorted_url_duplicates\",\n  \"rows\": 2072,\n  \"fields\": [\n    {\n      \"column\": \"Course Title\",\n      \"properties\": {\n        \"dtype\": \"category\",\n        \"num_unique_values\": 853,\n        \"samples\": [\n          \"The Business, Politics, Policy, & Players of Space Programs\",\n          \"Developing AI Applications with Python and Flask\",\n          \"Fundamental Skills in Bioinformatics\"\n        ],\n        \"semantic_type\": \"\",\n        \"description\": \"\"\n      }\n    },\n    {\n      \"column\": \"Rating\",\n      \"properties\": {\n        \"dtype\": \"number\",\n        \"std\": 1.1062571010759845,\n        \"min\": 0.0,\n        \"max\": 5.0,\n        \"num_unique_values\": 21,\n        \"samples\": [\n          4.8,\n          3.0,\n          5.0\n        ],\n        \"semantic_type\": \"\",\n        \"description\": \"\"\n      }\n    },\n    {\n      \"column\": \"Level\",\n      \"properties\": {\n        \"dtype\": \"category\",\n        \"num_unique_values\": 4,\n        \"samples\": [\n          \"Intermediate level\",\n          \"Advanced level\",\n          \"Beginner level\"\n        ],\n        \"semantic_type\": \"\",\n        \"description\": \"\"\n      }\n    },\n    {\n      \"column\": \"Schedule\",\n      \"properties\": {\n        \"dtype\": \"category\",\n        \"num_unique_values\": 2,\n        \"samples\": [\n          \"Hands-on learning\",\n          \"Flexible schedule\"\n        ],\n        \"semantic_type\": \"\",\n        \"description\": \"\"\n      }\n    },\n    {\n      \"column\": \"What you will learn\",\n      \"properties\": {\n        \"dtype\": \"category\",\n        \"num_unique_values\": 850,\n        \"samples\": [\n          \"(1) Fundamentals of tropical forest landscape management(2) Conservation & restoration strategies(3) Funding conservation & restoration\",\n          \"Describe the benefits of cloud computing in Microsoft AzureExplain core cloud concepts Describe core Microsoft Azure services Describe core Microsoft Azure architect components\"\n        ],\n        \"semantic_type\": \"\",\n        \"description\": \"\"\n      }\n    },\n    {\n      \"column\": \"Skill gain\",\n      \"properties\": {\n        \"dtype\": \"category\",\n        \"num_unique_values\": 740,\n        \"samples\": [\n          \"Management, IT Skills and Knowledge\",\n          \"Informatics, Health Informatics, Digital Health, health, Decision Analysis\"\n        ],\n        \"semantic_type\": \"\",\n        \"description\": \"\"\n      }\n    },\n    {\n      \"column\": \"Modules\",\n      \"properties\": {\n        \"dtype\": \"category\",\n        \"num_unique_values\": 837,\n        \"samples\": [\n          \"Introduction and Capabilities of Generative AI, Applications and Tools of Generative AI\\\\xa0, Course Quiz, Project, and Wrap-up\",\n          \"Introduction to the Tidyverse, Importing Data in the Tidyverse, Wrangling Data in the Tidyverse, Visualizing Data in the Tidyverse, Modeling Data in the Tidyverse\"\n        ],\n        \"semantic_type\": \"\",\n        \"description\": \"\"\n      }\n    },\n    {\n      \"column\": \"Instructor\",\n      \"properties\": {\n        \"dtype\": \"category\",\n        \"num_unique_values\": 691,\n        \"samples\": [\n          \"Ren\\u00e9 de Koster, Ferdinand Jaspers, Tobias Brandt, Dirk Schoenmaker, Steef van de Velde, Amanda Williams, Gabriele Jacobs, Steve Kennedy, Ying Zhang, Mallory Flowers, Anne-Kathrin Klesse, Dianne Bevelander, Marieke de Wal, Marta Szymanowska, Rob van Tulder, Eva Rood, Frank Wijen, Erik van Raaij, Heleen Tiemersma, Cees van Dam, Micha\\u00e9la Schippers, Yashar Ghiassi-Farrokhfal\",\n          \"Amrita V. Subramanian, Greg Urban, Ph.D., Ramya Kumar, MSOD, SHRM-SCP, Prosci Certified, Dr. Aviva Legatt, Dana Kaminstein, Ph.D., Alan Barstow, Ph.D., Derek Newberry, Ph.D.\"\n        ],\n        \"semantic_type\": \"\",\n        \"description\": \"\"\n      }\n    },\n    {\n      \"column\": \"Offered By\",\n      \"properties\": {\n        \"dtype\": \"category\",\n        \"num_unique_values\": 158,\n        \"samples\": [\n          \"University of Virginia\",\n          \"Universiteit Leiden\"\n        ],\n        \"semantic_type\": \"\",\n        \"description\": \"\"\n      }\n    },\n    {\n      \"column\": \"Keyword\",\n      \"properties\": {\n        \"dtype\": \"category\",\n        \"num_unique_values\": 10,\n        \"samples\": [\n          \"Information Technology\",\n          \"Personal Development\"\n        ],\n        \"semantic_type\": \"\",\n        \"description\": \"\"\n      }\n    },\n    {\n      \"column\": \"Course Url\",\n      \"properties\": {\n        \"dtype\": \"category\",\n        \"num_unique_values\": 854,\n        \"samples\": [\n          \"https://www.coursera.org/learn/business-politics-policy-players-space-programs\",\n          \"https://www.coursera.org/learn/python-programming-intro\"\n        ],\n        \"semantic_type\": \"\",\n        \"description\": \"\"\n      }\n    },\n    {\n      \"column\": \"Duration to complete (Approx.)\",\n      \"properties\": {\n        \"dtype\": \"number\",\n        \"std\": 58.60213132815231,\n        \"min\": 1.0,\n        \"max\": 480.0,\n        \"num_unique_values\": 73,\n        \"samples\": [\n          24.0,\n          480.0\n        ],\n        \"semantic_type\": \"\",\n        \"description\": \"\"\n      }\n    },\n    {\n      \"column\": \"Number of Review\",\n      \"properties\": {\n        \"dtype\": \"number\",\n        \"std\": 16028,\n        \"min\": 0,\n        \"max\": 225830,\n        \"num_unique_values\": 616,\n        \"samples\": [\n          500,\n          2778\n        ],\n        \"semantic_type\": \"\",\n        \"description\": \"\"\n      }\n    }\n  ]\n}"
            }
          },
          "metadata": {},
          "execution_count": 4
        }
      ],
      "source": [
        "# Check for duplicates based on the \"Course Url\" column\n",
        "url_duplicates = data[data.duplicated(subset=['Course Url'], keep=False)]\n",
        "\n",
        "# Display duplicates and count them\n",
        "url_duplicate_count = url_duplicates.shape[0]\n",
        "\n",
        "print(url_duplicate_count)\n",
        "\n",
        "# Sort the dataset by 'Course Url' and display the first few duplicate entries\n",
        "sorted_url_duplicates = url_duplicates.sort_values(by='Course Url')\n",
        "sorted_url_duplicates.head(10)\n"
      ]
    },
    {
      "cell_type": "code",
      "execution_count": null,
      "metadata": {
        "colab": {
          "base_uri": "https://localhost:8080/"
        },
        "id": "XvSTeEVGSI3a",
        "outputId": "f531c516-3129-4851-edd9-bd2336aa5532"
      },
      "outputs": [
        {
          "output_type": "execute_result",
          "data": {
            "text/plain": [
              "((3042, 13), (0, 13))"
            ]
          },
          "metadata": {},
          "execution_count": 5
        }
      ],
      "source": [
        "# Drop duplicates keeping the first occurrence based on 'Course Url'\n",
        "data_dropped_duplicates = data.drop_duplicates(subset=['Course Url'], keep='first')\n",
        "\n",
        "# Verify by checking duplicates again to ensure they have been removed\n",
        "verify_dropped = data_dropped_duplicates[data_dropped_duplicates.duplicated(subset=['Course Url'], keep=False)]\n",
        "data_dropped_duplicates.shape, verify_dropped.shape\n"
      ]
    },
    {
      "cell_type": "code",
      "execution_count": null,
      "metadata": {
        "id": "eNY4rk8FTqjC"
      },
      "outputs": [],
      "source": [
        "data_dropped_duplicates_reset = data_dropped_duplicates.reset_index(drop=True)"
      ]
    },
    {
      "cell_type": "code",
      "execution_count": null,
      "metadata": {
        "id": "1219752qSiim"
      },
      "outputs": [],
      "source": [
        "data = data_dropped_duplicates_reset"
      ]
    },
    {
      "cell_type": "code",
      "execution_count": null,
      "metadata": {
        "colab": {
          "base_uri": "https://localhost:8080/"
        },
        "id": "j9kX1F1iSqsY",
        "outputId": "e2ccd25f-763f-4a19-bc50-ea1ed128a216"
      },
      "outputs": [
        {
          "output_type": "execute_result",
          "data": {
            "text/plain": [
              "(3042, 13)"
            ]
          },
          "metadata": {},
          "execution_count": 8
        }
      ],
      "source": [
        "data.shape"
      ]
    },
    {
      "cell_type": "code",
      "execution_count": null,
      "metadata": {
        "colab": {
          "base_uri": "https://localhost:8080/",
          "height": 300
        },
        "id": "VZ6qjxi5lv2k",
        "outputId": "6a839f51-cfc1-4d84-b10e-258ce4a4c626"
      },
      "outputs": [
        {
          "output_type": "execute_result",
          "data": {
            "text/plain": [
              "            Rating  Duration to complete (Approx.)  Number of Review\n",
              "count  3042.000000                     3042.000000       3042.000000\n",
              "mean      3.623504                       26.471811       1447.522354\n",
              "std       1.929665                       39.098889       8227.255814\n",
              "min       0.000000                        1.000000          0.000000\n",
              "25%       4.100000                        7.000000         12.000000\n",
              "50%       4.600000                       14.000000         82.500000\n",
              "75%       4.800000                       28.000000        460.000000\n",
              "max       5.000000                      480.000000     225830.000000"
            ],
            "text/html": [
              "\n",
              "  <div id=\"df-e7358791-ac4a-498c-a167-9ceacf515121\" class=\"colab-df-container\">\n",
              "    <div>\n",
              "<style scoped>\n",
              "    .dataframe tbody tr th:only-of-type {\n",
              "        vertical-align: middle;\n",
              "    }\n",
              "\n",
              "    .dataframe tbody tr th {\n",
              "        vertical-align: top;\n",
              "    }\n",
              "\n",
              "    .dataframe thead th {\n",
              "        text-align: right;\n",
              "    }\n",
              "</style>\n",
              "<table border=\"1\" class=\"dataframe\">\n",
              "  <thead>\n",
              "    <tr style=\"text-align: right;\">\n",
              "      <th></th>\n",
              "      <th>Rating</th>\n",
              "      <th>Duration to complete (Approx.)</th>\n",
              "      <th>Number of Review</th>\n",
              "    </tr>\n",
              "  </thead>\n",
              "  <tbody>\n",
              "    <tr>\n",
              "      <th>count</th>\n",
              "      <td>3042.000000</td>\n",
              "      <td>3042.000000</td>\n",
              "      <td>3042.000000</td>\n",
              "    </tr>\n",
              "    <tr>\n",
              "      <th>mean</th>\n",
              "      <td>3.623504</td>\n",
              "      <td>26.471811</td>\n",
              "      <td>1447.522354</td>\n",
              "    </tr>\n",
              "    <tr>\n",
              "      <th>std</th>\n",
              "      <td>1.929665</td>\n",
              "      <td>39.098889</td>\n",
              "      <td>8227.255814</td>\n",
              "    </tr>\n",
              "    <tr>\n",
              "      <th>min</th>\n",
              "      <td>0.000000</td>\n",
              "      <td>1.000000</td>\n",
              "      <td>0.000000</td>\n",
              "    </tr>\n",
              "    <tr>\n",
              "      <th>25%</th>\n",
              "      <td>4.100000</td>\n",
              "      <td>7.000000</td>\n",
              "      <td>12.000000</td>\n",
              "    </tr>\n",
              "    <tr>\n",
              "      <th>50%</th>\n",
              "      <td>4.600000</td>\n",
              "      <td>14.000000</td>\n",
              "      <td>82.500000</td>\n",
              "    </tr>\n",
              "    <tr>\n",
              "      <th>75%</th>\n",
              "      <td>4.800000</td>\n",
              "      <td>28.000000</td>\n",
              "      <td>460.000000</td>\n",
              "    </tr>\n",
              "    <tr>\n",
              "      <th>max</th>\n",
              "      <td>5.000000</td>\n",
              "      <td>480.000000</td>\n",
              "      <td>225830.000000</td>\n",
              "    </tr>\n",
              "  </tbody>\n",
              "</table>\n",
              "</div>\n",
              "    <div class=\"colab-df-buttons\">\n",
              "\n",
              "  <div class=\"colab-df-container\">\n",
              "    <button class=\"colab-df-convert\" onclick=\"convertToInteractive('df-e7358791-ac4a-498c-a167-9ceacf515121')\"\n",
              "            title=\"Convert this dataframe to an interactive table.\"\n",
              "            style=\"display:none;\">\n",
              "\n",
              "  <svg xmlns=\"http://www.w3.org/2000/svg\" height=\"24px\" viewBox=\"0 -960 960 960\">\n",
              "    <path d=\"M120-120v-720h720v720H120Zm60-500h600v-160H180v160Zm220 220h160v-160H400v160Zm0 220h160v-160H400v160ZM180-400h160v-160H180v160Zm440 0h160v-160H620v160ZM180-180h160v-160H180v160Zm440 0h160v-160H620v160Z\"/>\n",
              "  </svg>\n",
              "    </button>\n",
              "\n",
              "  <style>\n",
              "    .colab-df-container {\n",
              "      display:flex;\n",
              "      gap: 12px;\n",
              "    }\n",
              "\n",
              "    .colab-df-convert {\n",
              "      background-color: #E8F0FE;\n",
              "      border: none;\n",
              "      border-radius: 50%;\n",
              "      cursor: pointer;\n",
              "      display: none;\n",
              "      fill: #1967D2;\n",
              "      height: 32px;\n",
              "      padding: 0 0 0 0;\n",
              "      width: 32px;\n",
              "    }\n",
              "\n",
              "    .colab-df-convert:hover {\n",
              "      background-color: #E2EBFA;\n",
              "      box-shadow: 0px 1px 2px rgba(60, 64, 67, 0.3), 0px 1px 3px 1px rgba(60, 64, 67, 0.15);\n",
              "      fill: #174EA6;\n",
              "    }\n",
              "\n",
              "    .colab-df-buttons div {\n",
              "      margin-bottom: 4px;\n",
              "    }\n",
              "\n",
              "    [theme=dark] .colab-df-convert {\n",
              "      background-color: #3B4455;\n",
              "      fill: #D2E3FC;\n",
              "    }\n",
              "\n",
              "    [theme=dark] .colab-df-convert:hover {\n",
              "      background-color: #434B5C;\n",
              "      box-shadow: 0px 1px 3px 1px rgba(0, 0, 0, 0.15);\n",
              "      filter: drop-shadow(0px 1px 2px rgba(0, 0, 0, 0.3));\n",
              "      fill: #FFFFFF;\n",
              "    }\n",
              "  </style>\n",
              "\n",
              "    <script>\n",
              "      const buttonEl =\n",
              "        document.querySelector('#df-e7358791-ac4a-498c-a167-9ceacf515121 button.colab-df-convert');\n",
              "      buttonEl.style.display =\n",
              "        google.colab.kernel.accessAllowed ? 'block' : 'none';\n",
              "\n",
              "      async function convertToInteractive(key) {\n",
              "        const element = document.querySelector('#df-e7358791-ac4a-498c-a167-9ceacf515121');\n",
              "        const dataTable =\n",
              "          await google.colab.kernel.invokeFunction('convertToInteractive',\n",
              "                                                    [key], {});\n",
              "        if (!dataTable) return;\n",
              "\n",
              "        const docLinkHtml = 'Like what you see? Visit the ' +\n",
              "          '<a target=\"_blank\" href=https://colab.research.google.com/notebooks/data_table.ipynb>data table notebook</a>'\n",
              "          + ' to learn more about interactive tables.';\n",
              "        element.innerHTML = '';\n",
              "        dataTable['output_type'] = 'display_data';\n",
              "        await google.colab.output.renderOutput(dataTable, element);\n",
              "        const docLink = document.createElement('div');\n",
              "        docLink.innerHTML = docLinkHtml;\n",
              "        element.appendChild(docLink);\n",
              "      }\n",
              "    </script>\n",
              "  </div>\n",
              "\n",
              "\n",
              "<div id=\"df-57b0d473-e9df-4b0a-9e33-862bfd970899\">\n",
              "  <button class=\"colab-df-quickchart\" onclick=\"quickchart('df-57b0d473-e9df-4b0a-9e33-862bfd970899')\"\n",
              "            title=\"Suggest charts\"\n",
              "            style=\"display:none;\">\n",
              "\n",
              "<svg xmlns=\"http://www.w3.org/2000/svg\" height=\"24px\"viewBox=\"0 0 24 24\"\n",
              "     width=\"24px\">\n",
              "    <g>\n",
              "        <path d=\"M19 3H5c-1.1 0-2 .9-2 2v14c0 1.1.9 2 2 2h14c1.1 0 2-.9 2-2V5c0-1.1-.9-2-2-2zM9 17H7v-7h2v7zm4 0h-2V7h2v10zm4 0h-2v-4h2v4z\"/>\n",
              "    </g>\n",
              "</svg>\n",
              "  </button>\n",
              "\n",
              "<style>\n",
              "  .colab-df-quickchart {\n",
              "      --bg-color: #E8F0FE;\n",
              "      --fill-color: #1967D2;\n",
              "      --hover-bg-color: #E2EBFA;\n",
              "      --hover-fill-color: #174EA6;\n",
              "      --disabled-fill-color: #AAA;\n",
              "      --disabled-bg-color: #DDD;\n",
              "  }\n",
              "\n",
              "  [theme=dark] .colab-df-quickchart {\n",
              "      --bg-color: #3B4455;\n",
              "      --fill-color: #D2E3FC;\n",
              "      --hover-bg-color: #434B5C;\n",
              "      --hover-fill-color: #FFFFFF;\n",
              "      --disabled-bg-color: #3B4455;\n",
              "      --disabled-fill-color: #666;\n",
              "  }\n",
              "\n",
              "  .colab-df-quickchart {\n",
              "    background-color: var(--bg-color);\n",
              "    border: none;\n",
              "    border-radius: 50%;\n",
              "    cursor: pointer;\n",
              "    display: none;\n",
              "    fill: var(--fill-color);\n",
              "    height: 32px;\n",
              "    padding: 0;\n",
              "    width: 32px;\n",
              "  }\n",
              "\n",
              "  .colab-df-quickchart:hover {\n",
              "    background-color: var(--hover-bg-color);\n",
              "    box-shadow: 0 1px 2px rgba(60, 64, 67, 0.3), 0 1px 3px 1px rgba(60, 64, 67, 0.15);\n",
              "    fill: var(--button-hover-fill-color);\n",
              "  }\n",
              "\n",
              "  .colab-df-quickchart-complete:disabled,\n",
              "  .colab-df-quickchart-complete:disabled:hover {\n",
              "    background-color: var(--disabled-bg-color);\n",
              "    fill: var(--disabled-fill-color);\n",
              "    box-shadow: none;\n",
              "  }\n",
              "\n",
              "  .colab-df-spinner {\n",
              "    border: 2px solid var(--fill-color);\n",
              "    border-color: transparent;\n",
              "    border-bottom-color: var(--fill-color);\n",
              "    animation:\n",
              "      spin 1s steps(1) infinite;\n",
              "  }\n",
              "\n",
              "  @keyframes spin {\n",
              "    0% {\n",
              "      border-color: transparent;\n",
              "      border-bottom-color: var(--fill-color);\n",
              "      border-left-color: var(--fill-color);\n",
              "    }\n",
              "    20% {\n",
              "      border-color: transparent;\n",
              "      border-left-color: var(--fill-color);\n",
              "      border-top-color: var(--fill-color);\n",
              "    }\n",
              "    30% {\n",
              "      border-color: transparent;\n",
              "      border-left-color: var(--fill-color);\n",
              "      border-top-color: var(--fill-color);\n",
              "      border-right-color: var(--fill-color);\n",
              "    }\n",
              "    40% {\n",
              "      border-color: transparent;\n",
              "      border-right-color: var(--fill-color);\n",
              "      border-top-color: var(--fill-color);\n",
              "    }\n",
              "    60% {\n",
              "      border-color: transparent;\n",
              "      border-right-color: var(--fill-color);\n",
              "    }\n",
              "    80% {\n",
              "      border-color: transparent;\n",
              "      border-right-color: var(--fill-color);\n",
              "      border-bottom-color: var(--fill-color);\n",
              "    }\n",
              "    90% {\n",
              "      border-color: transparent;\n",
              "      border-bottom-color: var(--fill-color);\n",
              "    }\n",
              "  }\n",
              "</style>\n",
              "\n",
              "  <script>\n",
              "    async function quickchart(key) {\n",
              "      const quickchartButtonEl =\n",
              "        document.querySelector('#' + key + ' button');\n",
              "      quickchartButtonEl.disabled = true;  // To prevent multiple clicks.\n",
              "      quickchartButtonEl.classList.add('colab-df-spinner');\n",
              "      try {\n",
              "        const charts = await google.colab.kernel.invokeFunction(\n",
              "            'suggestCharts', [key], {});\n",
              "      } catch (error) {\n",
              "        console.error('Error during call to suggestCharts:', error);\n",
              "      }\n",
              "      quickchartButtonEl.classList.remove('colab-df-spinner');\n",
              "      quickchartButtonEl.classList.add('colab-df-quickchart-complete');\n",
              "    }\n",
              "    (() => {\n",
              "      let quickchartButtonEl =\n",
              "        document.querySelector('#df-57b0d473-e9df-4b0a-9e33-862bfd970899 button');\n",
              "      quickchartButtonEl.style.display =\n",
              "        google.colab.kernel.accessAllowed ? 'block' : 'none';\n",
              "    })();\n",
              "  </script>\n",
              "</div>\n",
              "\n",
              "    </div>\n",
              "  </div>\n"
            ],
            "application/vnd.google.colaboratory.intrinsic+json": {
              "type": "dataframe",
              "summary": "{\n  \"name\": \"data\",\n  \"rows\": 8,\n  \"fields\": [\n    {\n      \"column\": \"Rating\",\n      \"properties\": {\n        \"dtype\": \"number\",\n        \"std\": 1074.2958895916706,\n        \"min\": 0.0,\n        \"max\": 3042.0,\n        \"num_unique_values\": 8,\n        \"samples\": [\n          3.623504273504274,\n          4.6,\n          3042.0\n        ],\n        \"semantic_type\": \"\",\n        \"description\": \"\"\n      }\n    },\n    {\n      \"column\": \"Duration to complete (Approx.)\",\n      \"properties\": {\n        \"dtype\": \"number\",\n        \"std\": 1057.8572280704561,\n        \"min\": 1.0,\n        \"max\": 3042.0,\n        \"num_unique_values\": 8,\n        \"samples\": [\n          26.47181130834977,\n          14.0,\n          3042.0\n        ],\n        \"semantic_type\": \"\",\n        \"description\": \"\"\n      }\n    },\n    {\n      \"column\": \"Number of Review\",\n      \"properties\": {\n        \"dtype\": \"number\",\n        \"std\": 79221.4496754729,\n        \"min\": 0.0,\n        \"max\": 225830.0,\n        \"num_unique_values\": 8,\n        \"samples\": [\n          1447.5223537146614,\n          82.5,\n          3042.0\n        ],\n        \"semantic_type\": \"\",\n        \"description\": \"\"\n      }\n    }\n  ]\n}"
            }
          },
          "metadata": {},
          "execution_count": 10
        }
      ],
      "source": [
        "data.describe()"
      ]
    },
    {
      "cell_type": "code",
      "execution_count": null,
      "metadata": {
        "colab": {
          "base_uri": "https://localhost:8080/"
        },
        "id": "zx7Vi3mulvzL",
        "outputId": "021423ab-1463-4f01-f10e-54e57c023003"
      },
      "outputs": [
        {
          "data": {
            "text/plain": [
              "665"
            ]
          },
          "execution_count": 13,
          "metadata": {},
          "output_type": "execute_result"
        }
      ],
      "source": [
        "# Count courses with a rating of 0.0\n",
        "zero_rating_count = (data['Rating'] == 0.0).sum()\n",
        "zero_rating_count"
      ]
    },
    {
      "cell_type": "code",
      "execution_count": null,
      "metadata": {
        "colab": {
          "base_uri": "https://localhost:8080/",
          "height": 311
        },
        "id": "mnVDKEDdlvvb",
        "outputId": "e1ed281b-dda5-40db-e3ae-18b1497a7519"
      },
      "outputs": [
        {
          "data": {
            "image/png": "[encoded data removed]",
            "text/plain": [
              "<Figure size 1800x500 with 3 Axes>"
            ]
          },
          "metadata": {},
          "output_type": "display_data"
        }
      ],
      "source": [
        "# Explore the distribution of ratings, durations, and review counts\n",
        "import matplotlib.pyplot as plt\n",
        "\n",
        "fig, ax = plt.subplots(1, 3, figsize=(18, 5))\n",
        "\n",
        "# Rating distribution\n",
        "ax[0].hist(data['Rating'], bins=20, color='skyblue')\n",
        "ax[0].set_title('Rating Distribution')\n",
        "ax[0].set_xlabel('Rating')\n",
        "ax[0].set_ylabel('Frequency')\n",
        "\n",
        "# Duration distribution\n",
        "ax[1].hist(data['Duration to complete (Approx.)'], bins=30, color='lightgreen')\n",
        "ax[1].set_title('Duration Distribution')\n",
        "ax[1].set_xlabel('Duration (hours)')\n",
        "ax[1].set_ylabel('Frequency')\n",
        "\n",
        "# Review count distribution\n",
        "ax[2].hist(data['Number of Review'], bins=30, color='salmon')\n",
        "ax[2].set_title('Review Count Distribution')\n",
        "ax[2].set_xlabel('Number of Reviews')\n",
        "ax[2].set_ylabel('Frequency')\n",
        "\n",
        "plt.tight_layout()\n",
        "plt.show()\n"
      ]
    },
    {
      "cell_type": "code",
      "execution_count": null,
      "metadata": {
        "colab": {
          "base_uri": "https://localhost:8080/",
          "height": 609
        },
        "id": "kRTInSdYWCQ1",
        "outputId": "3252be00-c55e-4898-8766-362b80dd6aa9"
      },
      "outputs": [
        {
          "name": "stderr",
          "output_type": "stream",
          "text": [
            "<ipython-input-15-5ab9a219df91>:17: FutureWarning: \n",
            "\n",
            "Passing `palette` without assigning `hue` is deprecated and will be removed in v0.14.0. Assign the `y` variable to `hue` and set `legend=False` for the same effect.\n",
            "\n",
            "  sns.barplot(x=keyword_counts.values, y=keyword_counts.index, ax=ax[1], palette='rocket')\n"
          ]
        },
        {
          "data": {
            "image/png": "[encoded data removed]",
            "text/plain": [
              "<Figure size 1800x800 with 2 Axes>"
            ]
          },
          "metadata": {},
          "output_type": "display_data"
        }
      ],
      "source": [
        "import matplotlib.pyplot as plt\n",
        "import seaborn as sns\n",
        "\n",
        "# a. Course Level Distribution\n",
        "level_counts = data['Level'].value_counts()\n",
        "\n",
        "# b. Keyword Category Distribution\n",
        "keyword_counts = data['Keyword'].value_counts().nlargest(10)  # Top 10 categories\n",
        "\n",
        "fig, ax = plt.subplots(1, 2, figsize=(18, 8))\n",
        "\n",
        "# Course Level Distribution\n",
        "ax[0].pie(level_counts, labels=level_counts.index, autopct='%1.1f%%', startangle=140, colors=sns.color_palette('pastel'))\n",
        "ax[0].set_title('Course Level Distribution')\n",
        "\n",
        "# Keyword Category Distribution\n",
        "sns.barplot(x=keyword_counts.values, y=keyword_counts.index, ax=ax[1], palette='rocket')\n",
        "ax[1].set_title('Top 10 Keyword Categories')\n",
        "ax[1].set_xlabel('Number of Courses')\n",
        "ax[1].set_ylabel('Keyword')\n",
        "\n",
        "plt.tight_layout()\n",
        "plt.show()\n"
      ]
    },
    {
      "cell_type": "code",
      "execution_count": null,
      "metadata": {
        "colab": {
          "base_uri": "https://localhost:8080/",
          "height": 1000
        },
        "id": "0VaSS6RmWCF5",
        "outputId": "dafdc228-fc41-4de4-ae1f-06b3cd316007"
      },
      "outputs": [
        {
          "data": {
            "image/png": "[encoded data removed]",
            "text/plain": [
              "<Figure size 1000x1200 with 2 Axes>"
            ]
          },
          "metadata": {},
          "output_type": "display_data"
        }
      ],
      "source": [
        "institution_counts = data['Offered By'].value_counts().nlargest(10)\n",
        "average_ratings = data.groupby('Offered By')['Rating'].mean().nlargest(10)\n",
        "\n",
        "fig, ax = plt.subplots(2, 1, figsize=(10, 12))\n",
        "institution_counts.plot(kind='barh', ax=ax[0], color='skyblue')\n",
        "ax[0].set_title('Top 10 Institutions by Number of Courses')\n",
        "ax[0].set_xlabel('Number of Courses')\n",
        "ax[0].set_ylabel('Institution')\n",
        "\n",
        "average_ratings.plot(kind='barh', ax=ax[1], color='salmon')\n",
        "ax[1].set_title('Top 10 Institutions by Average Rating')\n",
        "ax[1].set_xlabel('Average Rating')\n",
        "ax[1].set_ylabel('Institution')\n",
        "\n",
        "plt.tight_layout()\n",
        "plt.show()\n"
      ]
    },
    {
      "cell_type": "code",
      "execution_count": null,
      "metadata": {
        "colab": {
          "base_uri": "https://localhost:8080/",
          "height": 545
        },
        "id": "2ZulEWZcWB7K",
        "outputId": "68c09f0c-94e7-48de-d0d1-3f7fe6bf0f64"
      },
      "outputs": [
        {
          "data": {
            "image/png": "[encoded data removed]",
            "text/plain": [
              "<Figure size 1000x600 with 2 Axes>"
            ]
          },
          "metadata": {},
          "output_type": "display_data"
        }
      ],
      "source": [
        "import seaborn as sns\n",
        "\n",
        "plt.figure(figsize=(10, 6))\n",
        "sns.heatmap(data[['Rating', 'Duration to complete (Approx.)', 'Number of Review']].corr(), annot=True, fmt=\".2f\", cmap='coolwarm')\n",
        "plt.title('Correlation Matrix')\n",
        "plt.show()\n"
      ]
    },
    {
      "cell_type": "code",
      "execution_count": null,
      "metadata": {
        "colab": {
          "base_uri": "https://localhost:8080/",
          "height": 660
        },
        "id": "40wqKSnkKd1M",
        "outputId": "3d1125fb-d6f4-4910-e2b1-09cf8bc0ef07"
      },
      "outputs": [
        {
          "data": {
            "application/vnd.google.colaboratory.intrinsic+json": {
              "summary": "{\n  \"name\": \"data\",\n  \"rows\": 5,\n  \"fields\": [\n    {\n      \"column\": \"Course Title\",\n      \"properties\": {\n        \"dtype\": \"string\",\n        \"num_unique_values\": 5,\n        \"samples\": [\n          \"La Econom\\u00eda de la Felicidad \",\n          \"Visualizing static networks with R\",\n          \"Tools and Practices for Addressing Pandemic Challenges\"\n        ],\n        \"semantic_type\": \"\",\n        \"description\": \"\"\n      }\n    },\n    {\n      \"column\": \"Rating\",\n      \"properties\": {\n        \"dtype\": \"number\",\n        \"std\": 0.0,\n        \"min\": 0.0,\n        \"max\": 0.0,\n        \"num_unique_values\": 1,\n        \"samples\": [\n          0.0\n        ],\n        \"semantic_type\": \"\",\n        \"description\": \"\"\n      }\n    },\n    {\n      \"column\": \"Level\",\n      \"properties\": {\n        \"dtype\": \"category\",\n        \"num_unique_values\": 2,\n        \"samples\": [\n          \"Intermediate level\"\n        ],\n        \"semantic_type\": \"\",\n        \"description\": \"\"\n      }\n    },\n    {\n      \"column\": \"Schedule\",\n      \"properties\": {\n        \"dtype\": \"category\",\n        \"num_unique_values\": 2,\n        \"samples\": [\n          \"Hands-on learning\"\n        ],\n        \"semantic_type\": \"\",\n        \"description\": \"\"\n      }\n    },\n    {\n      \"column\": \"What you will learn\",\n      \"properties\": {\n        \"dtype\": \"string\",\n        \"num_unique_values\": 5,\n        \"samples\": [\n          \"Comprender la propuesta te\\u00f3rica de la econom\\u00eda de la felicidad y determinar la nueva econom\\u00eda urbana. Describir los conceptos de ingresos econ\\u00f3micos y de bienes relacionales.Definir aquellos instrumentos metodol\\u00f3gicos que miden la felicidad y sus implicaciones.\"\n        ],\n        \"semantic_type\": \"\",\n        \"description\": \"\"\n      }\n    },\n    {\n      \"column\": \"Skill gain\",\n      \"properties\": {\n        \"dtype\": \"string\",\n        \"num_unique_values\": 5,\n        \"samples\": [\n          \"Not specified\"\n        ],\n        \"semantic_type\": \"\",\n        \"description\": \"\"\n      }\n    },\n    {\n      \"column\": \"Modules\",\n      \"properties\": {\n        \"dtype\": \"string\",\n        \"num_unique_values\": 5,\n        \"samples\": [\n          \"Felicidad y econom\\u00eda, Los ingresos econ\\u00f3micos y las aspiraciones materiales, La felicidad y los bienes relacionales, Midiendo la felicidad\"\n        ],\n        \"semantic_type\": \"\",\n        \"description\": \"\"\n      }\n    },\n    {\n      \"column\": \"Instructor\",\n      \"properties\": {\n        \"dtype\": \"string\",\n        \"num_unique_values\": 4,\n        \"samples\": [\n          \"Graciela Tonon\"\n        ],\n        \"semantic_type\": \"\",\n        \"description\": \"\"\n      }\n    },\n    {\n      \"column\": \"Offered By\",\n      \"properties\": {\n        \"dtype\": \"string\",\n        \"num_unique_values\": 4,\n        \"samples\": [\n          \"Universidad de Palermo\"\n        ],\n        \"semantic_type\": \"\",\n        \"description\": \"\"\n      }\n    },\n    {\n      \"column\": \"Keyword\",\n      \"properties\": {\n        \"dtype\": \"category\",\n        \"num_unique_values\": 1,\n        \"samples\": [\n          \"Social Sciences\"\n        ],\n        \"semantic_type\": \"\",\n        \"description\": \"\"\n      }\n    },\n    {\n      \"column\": \"Course Url\",\n      \"properties\": {\n        \"dtype\": \"string\",\n        \"num_unique_values\": 5,\n        \"samples\": [\n          \"https://www.coursera.org/learn/la-economia-de-la-felicidad\"\n        ],\n        \"semantic_type\": \"\",\n        \"description\": \"\"\n      }\n    },\n    {\n      \"column\": \"Duration to complete (Approx.)\",\n      \"properties\": {\n        \"dtype\": \"number\",\n        \"std\": 6.06630035524124,\n        \"min\": 2.0,\n        \"max\": 16.0,\n        \"num_unique_values\": 5,\n        \"samples\": [\n          12.0\n        ],\n        \"semantic_type\": \"\",\n        \"description\": \"\"\n      }\n    },\n    {\n      \"column\": \"Number of Review\",\n      \"properties\": {\n        \"dtype\": \"number\",\n        \"std\": 0,\n        \"min\": 0,\n        \"max\": 0,\n        \"num_unique_values\": 1,\n        \"samples\": [\n          0\n        ],\n        \"semantic_type\": \"\",\n        \"description\": \"\"\n      }\n    }\n  ]\n}",
              "type": "dataframe"
            },
            "text/html": [
              "\n",
              "  <div id=\"df-31c81f60-1f12-4bd2-9b12-e46f666d9d5c\" class=\"colab-df-container\">\n",
              "    <div>\n",
              "<style scoped>\n",
              "    .dataframe tbody tr th:only-of-type {\n",
              "        vertical-align: middle;\n",
              "    }\n",
              "\n",
              "    .dataframe tbody tr th {\n",
              "        vertical-align: top;\n",
              "    }\n",
              "\n",
              "    .dataframe thead th {\n",
              "        text-align: right;\n",
              "    }\n",
              "</style>\n",
              "<table border=\"1\" class=\"dataframe\">\n",
              "  <thead>\n",
              "    <tr style=\"text-align: right;\">\n",
              "      <th></th>\n",
              "      <th>Course Title</th>\n",
              "      <th>Rating</th>\n",
              "      <th>Level</th>\n",
              "      <th>Schedule</th>\n",
              "      <th>What you will learn</th>\n",
              "      <th>Skill gain</th>\n",
              "      <th>Modules</th>\n",
              "      <th>Instructor</th>\n",
              "      <th>Offered By</th>\n",
              "      <th>Keyword</th>\n",
              "      <th>Course Url</th>\n",
              "      <th>Duration to complete (Approx.)</th>\n",
              "      <th>Number of Review</th>\n",
              "    </tr>\n",
              "  </thead>\n",
              "  <tbody>\n",
              "    <tr>\n",
              "      <th>3037</th>\n",
              "      <td>Políticas educativas efectivas basadas en evid...</td>\n",
              "      <td>0.0</td>\n",
              "      <td>Beginner level</td>\n",
              "      <td>Flexible schedule</td>\n",
              "      <td>Identificar los impactos en la cotidianidad qu...</td>\n",
              "      <td>Políticas educativas, Políticas pública, Desar...</td>\n",
              "      <td>Módulo 1 - Educación en América Latina y el Ca...</td>\n",
              "      <td>Xenia Coton</td>\n",
              "      <td>Banco Interamericano de Desarrollo</td>\n",
              "      <td>Social Sciences</td>\n",
              "      <td>https://www.coursera.org/learn/polticas-educat...</td>\n",
              "      <td>16.0</td>\n",
              "      <td>0</td>\n",
              "    </tr>\n",
              "    <tr>\n",
              "      <th>3038</th>\n",
              "      <td>La Economía de la Felicidad</td>\n",
              "      <td>0.0</td>\n",
              "      <td>Beginner level</td>\n",
              "      <td>Flexible schedule</td>\n",
              "      <td>Comprender la propuesta teórica de la economía...</td>\n",
              "      <td>Not specified</td>\n",
              "      <td>Felicidad y economía, Los ingresos económicos ...</td>\n",
              "      <td>Graciela Tonon</td>\n",
              "      <td>Universidad de Palermo</td>\n",
              "      <td>Social Sciences</td>\n",
              "      <td>https://www.coursera.org/learn/la-economia-de-...</td>\n",
              "      <td>12.0</td>\n",
              "      <td>0</td>\n",
              "    </tr>\n",
              "    <tr>\n",
              "      <th>3039</th>\n",
              "      <td>Tools and Practices for Addressing Pandemic Ch...</td>\n",
              "      <td>0.0</td>\n",
              "      <td>Beginner level</td>\n",
              "      <td>Flexible schedule</td>\n",
              "      <td>How to use data to make informed decisions and...</td>\n",
              "      <td>Data Science, Pandemic, Public Health, social ...</td>\n",
              "      <td>Introduction, Data-driven Approaches to Pandem...</td>\n",
              "      <td>Marco Brambilla</td>\n",
              "      <td>Politecnico di Milano</td>\n",
              "      <td>Social Sciences</td>\n",
              "      <td>https://www.coursera.org/learn/tools-and-pract...</td>\n",
              "      <td>4.0</td>\n",
              "      <td>0</td>\n",
              "    </tr>\n",
              "    <tr>\n",
              "      <th>3040</th>\n",
              "      <td>Felicidad y Políticas Públicas</td>\n",
              "      <td>0.0</td>\n",
              "      <td>Beginner level</td>\n",
              "      <td>Flexible schedule</td>\n",
              "      <td>Conocer las características de los conceptos d...</td>\n",
              "      <td>Democracia, Ciudadanía, Políticas públicas, Fe...</td>\n",
              "      <td>Explorando los conceptos de felicidad y políti...</td>\n",
              "      <td>Graciela Tonon</td>\n",
              "      <td>Universidad de Palermo</td>\n",
              "      <td>Social Sciences</td>\n",
              "      <td>https://www.coursera.org/learn/felicidad-y-pol...</td>\n",
              "      <td>13.0</td>\n",
              "      <td>0</td>\n",
              "    </tr>\n",
              "    <tr>\n",
              "      <th>3041</th>\n",
              "      <td>Visualizing static networks with R</td>\n",
              "      <td>0.0</td>\n",
              "      <td>Intermediate level</td>\n",
              "      <td>Hands-on learning</td>\n",
              "      <td>Learn to preprocess raw data to create nodes a...</td>\n",
              "      <td>Network Analysis, igraph, R Programming, Graph...</td>\n",
              "      <td>Learn step-by-step</td>\n",
              "      <td>You (Lilian) Cheng</td>\n",
              "      <td>Coursera Project Network</td>\n",
              "      <td>Social Sciences</td>\n",
              "      <td>https://www.coursera.org/projects/visualizing-...</td>\n",
              "      <td>2.0</td>\n",
              "      <td>0</td>\n",
              "    </tr>\n",
              "  </tbody>\n",
              "</table>\n",
              "</div>\n",
              "    <div class=\"colab-df-buttons\">\n",
              "\n",
              "  <div class=\"colab-df-container\">\n",
              "    <button class=\"colab-df-convert\" onclick=\"convertToInteractive('df-31c81f60-1f12-4bd2-9b12-e46f666d9d5c')\"\n",
              "            title=\"Convert this dataframe to an interactive table.\"\n",
              "            style=\"display:none;\">\n",
              "\n",
              "  <svg xmlns=\"http://www.w3.org/2000/svg\" height=\"24px\" viewBox=\"0 -960 960 960\">\n",
              "    <path d=\"M120-120v-720h720v720H120Zm60-500h600v-160H180v160Zm220 220h160v-160H400v160Zm0 220h160v-160H400v160ZM180-400h160v-160H180v160Zm440 0h160v-160H620v160ZM180-180h160v-160H180v160Zm440 0h160v-160H620v160Z\"/>\n",
              "  </svg>\n",
              "    </button>\n",
              "\n",
              "  <style>\n",
              "    .colab-df-container {\n",
              "      display:flex;\n",
              "      gap: 12px;\n",
              "    }\n",
              "\n",
              "    .colab-df-convert {\n",
              "      background-color: #E8F0FE;\n",
              "      border: none;\n",
              "      border-radius: 50%;\n",
              "      cursor: pointer;\n",
              "      display: none;\n",
              "      fill: #1967D2;\n",
              "      height: 32px;\n",
              "      padding: 0 0 0 0;\n",
              "      width: 32px;\n",
              "    }\n",
              "\n",
              "    .colab-df-convert:hover {\n",
              "      background-color: #E2EBFA;\n",
              "      box-shadow: 0px 1px 2px rgba(60, 64, 67, 0.3), 0px 1px 3px 1px rgba(60, 64, 67, 0.15);\n",
              "      fill: #174EA6;\n",
              "    }\n",
              "\n",
              "    .colab-df-buttons div {\n",
              "      margin-bottom: 4px;\n",
              "    }\n",
              "\n",
              "    [theme=dark] .colab-df-convert {\n",
              "      background-color: #3B4455;\n",
              "      fill: #D2E3FC;\n",
              "    }\n",
              "\n",
              "    [theme=dark] .colab-df-convert:hover {\n",
              "      background-color: #434B5C;\n",
              "      box-shadow: 0px 1px 3px 1px rgba(0, 0, 0, 0.15);\n",
              "      filter: drop-shadow(0px 1px 2px rgba(0, 0, 0, 0.3));\n",
              "      fill: #FFFFFF;\n",
              "    }\n",
              "  </style>\n",
              "\n",
              "    <script>\n",
              "      const buttonEl =\n",
              "        document.querySelector('#df-31c81f60-1f12-4bd2-9b12-e46f666d9d5c button.colab-df-convert');\n",
              "      buttonEl.style.display =\n",
              "        google.colab.kernel.accessAllowed ? 'block' : 'none';\n",
              "\n",
              "      async function convertToInteractive(key) {\n",
              "        const element = document.querySelector('#df-31c81f60-1f12-4bd2-9b12-e46f666d9d5c');\n",
              "        const dataTable =\n",
              "          await google.colab.kernel.invokeFunction('convertToInteractive',\n",
              "                                                    [key], {});\n",
              "        if (!dataTable) return;\n",
              "\n",
              "        const docLinkHtml = 'Like what you see? Visit the ' +\n",
              "          '<a target=\"_blank\" href=https://colab.research.google.com/notebooks/data_table.ipynb>data table notebook</a>'\n",
              "          + ' to learn more about interactive tables.';\n",
              "        element.innerHTML = '';\n",
              "        dataTable['output_type'] = 'display_data';\n",
              "        await google.colab.output.renderOutput(dataTable, element);\n",
              "        const docLink = document.createElement('div');\n",
              "        docLink.innerHTML = docLinkHtml;\n",
              "        element.appendChild(docLink);\n",
              "      }\n",
              "    </script>\n",
              "  </div>\n",
              "\n",
              "\n",
              "<div id=\"df-ef845e59-9200-4121-92df-28b1a21b5105\">\n",
              "  <button class=\"colab-df-quickchart\" onclick=\"quickchart('df-ef845e59-9200-4121-92df-28b1a21b5105')\"\n",
              "            title=\"Suggest charts\"\n",
              "            style=\"display:none;\">\n",
              "\n",
              "<svg xmlns=\"http://www.w3.org/2000/svg\" height=\"24px\"viewBox=\"0 0 24 24\"\n",
              "     width=\"24px\">\n",
              "    <g>\n",
              "        <path d=\"M19 3H5c-1.1 0-2 .9-2 2v14c0 1.1.9 2 2 2h14c1.1 0 2-.9 2-2V5c0-1.1-.9-2-2-2zM9 17H7v-7h2v7zm4 0h-2V7h2v10zm4 0h-2v-4h2v4z\"/>\n",
              "    </g>\n",
              "</svg>\n",
              "  </button>\n",
              "\n",
              "<style>\n",
              "  .colab-df-quickchart {\n",
              "      --bg-color: #E8F0FE;\n",
              "      --fill-color: #1967D2;\n",
              "      --hover-bg-color: #E2EBFA;\n",
              "      --hover-fill-color: #174EA6;\n",
              "      --disabled-fill-color: #AAA;\n",
              "      --disabled-bg-color: #DDD;\n",
              "  }\n",
              "\n",
              "  [theme=dark] .colab-df-quickchart {\n",
              "      --bg-color: #3B4455;\n",
              "      --fill-color: #D2E3FC;\n",
              "      --hover-bg-color: #434B5C;\n",
              "      --hover-fill-color: #FFFFFF;\n",
              "      --disabled-bg-color: #3B4455;\n",
              "      --disabled-fill-color: #666;\n",
              "  }\n",
              "\n",
              "  .colab-df-quickchart {\n",
              "    background-color: var(--bg-color);\n",
              "    border: none;\n",
              "    border-radius: 50%;\n",
              "    cursor: pointer;\n",
              "    display: none;\n",
              "    fill: var(--fill-color);\n",
              "    height: 32px;\n",
              "    padding: 0;\n",
              "    width: 32px;\n",
              "  }\n",
              "\n",
              "  .colab-df-quickchart:hover {\n",
              "    background-color: var(--hover-bg-color);\n",
              "    box-shadow: 0 1px 2px rgba(60, 64, 67, 0.3), 0 1px 3px 1px rgba(60, 64, 67, 0.15);\n",
              "    fill: var(--button-hover-fill-color);\n",
              "  }\n",
              "\n",
              "  .colab-df-quickchart-complete:disabled,\n",
              "  .colab-df-quickchart-complete:disabled:hover {\n",
              "    background-color: var(--disabled-bg-color);\n",
              "    fill: var(--disabled-fill-color);\n",
              "    box-shadow: none;\n",
              "  }\n",
              "\n",
              "  .colab-df-spinner {\n",
              "    border: 2px solid var(--fill-color);\n",
              "    border-color: transparent;\n",
              "    border-bottom-color: var(--fill-color);\n",
              "    animation:\n",
              "      spin 1s steps(1) infinite;\n",
              "  }\n",
              "\n",
              "  @keyframes spin {\n",
              "    0% {\n",
              "      border-color: transparent;\n",
              "      border-bottom-color: var(--fill-color);\n",
              "      border-left-color: var(--fill-color);\n",
              "    }\n",
              "    20% {\n",
              "      border-color: transparent;\n",
              "      border-left-color: var(--fill-color);\n",
              "      border-top-color: var(--fill-color);\n",
              "    }\n",
              "    30% {\n",
              "      border-color: transparent;\n",
              "      border-left-color: var(--fill-color);\n",
              "      border-top-color: var(--fill-color);\n",
              "      border-right-color: var(--fill-color);\n",
              "    }\n",
              "    40% {\n",
              "      border-color: transparent;\n",
              "      border-right-color: var(--fill-color);\n",
              "      border-top-color: var(--fill-color);\n",
              "    }\n",
              "    60% {\n",
              "      border-color: transparent;\n",
              "      border-right-color: var(--fill-color);\n",
              "    }\n",
              "    80% {\n",
              "      border-color: transparent;\n",
              "      border-right-color: var(--fill-color);\n",
              "      border-bottom-color: var(--fill-color);\n",
              "    }\n",
              "    90% {\n",
              "      border-color: transparent;\n",
              "      border-bottom-color: var(--fill-color);\n",
              "    }\n",
              "  }\n",
              "</style>\n",
              "\n",
              "  <script>\n",
              "    async function quickchart(key) {\n",
              "      const quickchartButtonEl =\n",
              "        document.querySelector('#' + key + ' button');\n",
              "      quickchartButtonEl.disabled = true;  // To prevent multiple clicks.\n",
              "      quickchartButtonEl.classList.add('colab-df-spinner');\n",
              "      try {\n",
              "        const charts = await google.colab.kernel.invokeFunction(\n",
              "            'suggestCharts', [key], {});\n",
              "      } catch (error) {\n",
              "        console.error('Error during call to suggestCharts:', error);\n",
              "      }\n",
              "      quickchartButtonEl.classList.remove('colab-df-spinner');\n",
              "      quickchartButtonEl.classList.add('colab-df-quickchart-complete');\n",
              "    }\n",
              "    (() => {\n",
              "      let quickchartButtonEl =\n",
              "        document.querySelector('#df-ef845e59-9200-4121-92df-28b1a21b5105 button');\n",
              "      quickchartButtonEl.style.display =\n",
              "        google.colab.kernel.accessAllowed ? 'block' : 'none';\n",
              "    })();\n",
              "  </script>\n",
              "</div>\n",
              "\n",
              "    </div>\n",
              "  </div>\n"
            ],
            "text/plain": [
              "                                           Course Title  Rating  \\\n",
              "3037  Políticas educativas efectivas basadas en evid...     0.0   \n",
              "3038                       La Economía de la Felicidad      0.0   \n",
              "3039  Tools and Practices for Addressing Pandemic Ch...     0.0   \n",
              "3040                     Felicidad y Políticas Públicas     0.0   \n",
              "3041                 Visualizing static networks with R     0.0   \n",
              "\n",
              "                   Level           Schedule  \\\n",
              "3037      Beginner level  Flexible schedule   \n",
              "3038      Beginner level  Flexible schedule   \n",
              "3039      Beginner level  Flexible schedule   \n",
              "3040      Beginner level  Flexible schedule   \n",
              "3041  Intermediate level  Hands-on learning   \n",
              "\n",
              "                                    What you will learn  \\\n",
              "3037  Identificar los impactos en la cotidianidad qu...   \n",
              "3038  Comprender la propuesta teórica de la economía...   \n",
              "3039  How to use data to make informed decisions and...   \n",
              "3040  Conocer las características de los conceptos d...   \n",
              "3041  Learn to preprocess raw data to create nodes a...   \n",
              "\n",
              "                                             Skill gain  \\\n",
              "3037  Políticas educativas, Políticas pública, Desar...   \n",
              "3038                                      Not specified   \n",
              "3039  Data Science, Pandemic, Public Health, social ...   \n",
              "3040  Democracia, Ciudadanía, Políticas públicas, Fe...   \n",
              "3041  Network Analysis, igraph, R Programming, Graph...   \n",
              "\n",
              "                                                Modules          Instructor  \\\n",
              "3037  Módulo 1 - Educación en América Latina y el Ca...         Xenia Coton   \n",
              "3038  Felicidad y economía, Los ingresos económicos ...      Graciela Tonon   \n",
              "3039  Introduction, Data-driven Approaches to Pandem...     Marco Brambilla   \n",
              "3040  Explorando los conceptos de felicidad y políti...      Graciela Tonon   \n",
              "3041                                 Learn step-by-step  You (Lilian) Cheng   \n",
              "\n",
              "                              Offered By          Keyword  \\\n",
              "3037  Banco Interamericano de Desarrollo  Social Sciences   \n",
              "3038              Universidad de Palermo  Social Sciences   \n",
              "3039               Politecnico di Milano  Social Sciences   \n",
              "3040              Universidad de Palermo  Social Sciences   \n",
              "3041            Coursera Project Network  Social Sciences   \n",
              "\n",
              "                                             Course Url  \\\n",
              "3037  https://www.coursera.org/learn/polticas-educat...   \n",
              "3038  https://www.coursera.org/learn/la-economia-de-...   \n",
              "3039  https://www.coursera.org/learn/tools-and-pract...   \n",
              "3040  https://www.coursera.org/learn/felicidad-y-pol...   \n",
              "3041  https://www.coursera.org/projects/visualizing-...   \n",
              "\n",
              "      Duration to complete (Approx.)  Number of Review  \n",
              "3037                            16.0                 0  \n",
              "3038                            12.0                 0  \n",
              "3039                             4.0                 0  \n",
              "3040                            13.0                 0  \n",
              "3041                             2.0                 0  "
            ]
          },
          "execution_count": 18,
          "metadata": {},
          "output_type": "execute_result"
        }
      ],
      "source": [
        "data.tail()"
      ]
    },
    {
      "cell_type": "code",
      "execution_count": null,
      "metadata": {
        "id": "0j4agKjDW8xA"
      },
      "outputs": [],
      "source": [
        "#import pandas as pd\n",
        "#from langdetect import detect, DetectorFactory\n",
        "\n",
        "# Set seed to get consistent results\n",
        "#DetectorFactory.seed = 0\n",
        "\n",
        "#def is_mostly_english(title):\n",
        "   # words = title.split()\n",
        "   # english_words = [word for word in words if word.isalpha() and detect(word) == 'en']\n",
        "   # return len(english_words) / len(words) > 0.5 if words else False\n",
        "\n",
        "\n",
        "# Apply the function to the 'course_title' column\n",
        "#data['is_english'] = data['Course Title'].apply(is_mostly_english)\n",
        "\n",
        "# Keep only rows where 'is_english' is True\n",
        "#data = data[data['is_english'] == True]\n",
        "\n",
        "# Drop the 'is_english' column\n",
        "#data.drop('is_english', axis=1, inplace=True)\n",
        "\n",
        "# Reset the index and drop the old index\n",
        "#df.reset_index(drop=True, inplace=True)"
      ]
    },
    {
      "cell_type": "markdown",
      "metadata": {
        "id": "5bENwWbJVf8r"
      },
      "source": [
        "# Training Models for Recommendation system"
      ]
    },
    {
      "cell_type": "code",
      "execution_count": null,
      "metadata": {
        "id": "qZXavVyjWT4N"
      },
      "outputs": [],
      "source": [
        "# Prepare the TF-IDF matrix for course descriptions\n",
        "from sklearn.feature_extraction.text import TfidfVectorizer\n",
        "tfidf = TfidfVectorizer(stop_words='english')\n",
        "tfidf_matrix = tfidf.fit_transform(data['What you will learn'])"
      ]
    },
    {
      "cell_type": "markdown",
      "metadata": {
        "id": "E0MWk2rNiAVd"
      },
      "source": [
        "## Cosine Similarity"
      ]
    },
    {
      "cell_type": "code",
      "execution_count": null,
      "metadata": {
        "id": "Bn8ZW5d7WBbY"
      },
      "outputs": [],
      "source": [
        "from sklearn.feature_extraction.text import TfidfVectorizer\n",
        "from sklearn.metrics.pairwise import cosine_similarity\n",
        "\n",
        "# Compute the cosine similarity matrix\n",
        "cosine_sim = cosine_similarity(tfidf_matrix, tfidf_matrix)\n",
        "\n",
        "def recommend_by_cosine_similarity(course_title, cosine_sim_matrix, top_n=10):\n",
        "    # Check if 'course_title' is in the 'titles' column of the 'data' DataFrame\n",
        "    if course_title in data['Course Title'].values:\n",
        "      course_index = data['Course Title'].values.tolist().index(course_title)\n",
        "    else:\n",
        "      print(\"Course title not found in dataset.\")\n",
        "\n",
        "\n",
        "    # Get pairwise similarity scores for all items with that item\n",
        "    sim_scores = list(enumerate(cosine_sim_matrix[course_index]))\n",
        "\n",
        "    # Sort the courses based on the similarity scores in descending order\n",
        "    sim_scores = sorted(sim_scores, key=lambda x: x[1], reverse=True)\n",
        "\n",
        "    # Get the indices of the top_n most similar courses\n",
        "    top_courses_indices = [i[0] for i in sim_scores[1:top_n+1]]  # skip the first one as it is the item itself\n",
        "\n",
        "    return data['Course Title'].iloc[top_courses_indices]\n",
        "\n"
      ]
    },
    {
      "cell_type": "code",
      "execution_count": null,
      "metadata": {
        "colab": {
          "base_uri": "https://localhost:8080/"
        },
        "id": "HX61PQ_R-5OU",
        "outputId": "72d00a38-f42c-401c-da4d-9a0e93dc98f4"
      },
      "outputs": [
        {
          "name": "stdout",
          "output_type": "stream",
          "text": [
            "Recommended Courses:\n",
            "146              Excel Skills for Business Specialization\n",
            "2860                              Social Network Analysis\n",
            "1344                              Introduction to Tableau\n",
            "2054     Static Routing Configuration Using Packet Tracer\n",
            "1224    Go Beyond the Numbers: Translate Data into Ins...\n",
            "165     Introduction to Business Analysis Using Spread...\n",
            "1284                     Analyze Data to Answer Questions\n",
            "801            Applied Data Science with R Specialization\n",
            "795      Data Science: Foundations using R Specialization\n",
            "1778                                   CompTIA a+ Network\n",
            "Name: Course Title, dtype: object\n"
          ]
        }
      ],
      "source": [
        "# Example usage\n",
        "recommended_titles = recommend_by_cosine_similarity('Visualizing static networks with R', cosine_sim)\n",
        "print(\"Recommended Courses:\")\n",
        "print(recommended_titles)"
      ]
    },
    {
      "cell_type": "markdown",
      "metadata": {
        "id": "cgK57eg1mkcs"
      },
      "source": [
        "### Combining other features"
      ]
    },
    {
      "cell_type": "code",
      "execution_count": null,
      "metadata": {
        "id": "PvOoILvRNL6H"
      },
      "outputs": [],
      "source": [
        "from sklearn.preprocessing import OneHotEncoder\n",
        "from scipy.sparse import hstack\n",
        "\n",
        "# Combine the textual data into a single column\n",
        "data['Combined Text'] = data['Course Title'].fillna('') + ' ' + \\\n",
        "                        data['What you will learn'].fillna('') + ' ' + \\\n",
        "                        data['Skill gain'].fillna('')\n",
        "\n",
        "# Initialize the TF-IDF Vectorizer\n",
        "tfidf_vectorizer = TfidfVectorizer(stop_words='english', max_features=1000)\n",
        "tfidf_matrix = tfidf_vectorizer.fit_transform(data['Combined Text'])\n",
        "\n",
        "# Initialize the OneHotEncoder\n",
        "onehot_encoder = OneHotEncoder()\n",
        "level_encoded = onehot_encoder.fit_transform(data[['Level']])\n",
        "keyword_encoded = onehot_encoder.fit_transform(data[['Keyword']])\n",
        "\n",
        "# Combine the TF-IDF matrix with the one-hot encoded matrices\n",
        "combined_features_tfidf = hstack([tfidf_matrix, level_encoded, keyword_encoded])\n",
        "\n",
        "# Compute the cosine similarity matrix\n",
        "cosine_sim = cosine_similarity(combined_features_tfidf, combined_features_tfidf)\n",
        "\n",
        "# Function to get recommendations\n",
        "def get_recommendations(course_title, cosine_sim=cosine_sim):\n",
        "    # Get the index of the course that matches the title\n",
        "    idx = data[data['Course Title'].str.lower() == course_title.lower()].index[0]\n",
        "\n",
        "    # Get the pairwise similarity scores of all courses with that course\n",
        "    sim_scores = list(enumerate(cosine_sim[idx]))\n",
        "\n",
        "    # Sort the courses based on the similarity scores\n",
        "    sim_scores = sorted(sim_scores, key=lambda x: x[1], reverse=True)\n",
        "\n",
        "    # Get the scores of the 10 most similar courses\n",
        "    sim_scores = sim_scores[1:11]\n",
        "\n",
        "    # Get the course indices\n",
        "    course_indices = [i[0] for i in sim_scores]\n",
        "\n",
        "    # Return the top 10 most similar courses\n",
        "    return data['Course Title'].iloc[course_indices]\n"
      ]
    },
    {
      "cell_type": "code",
      "execution_count": null,
      "metadata": {
        "colab": {
          "base_uri": "https://localhost:8080/"
        },
        "id": "AsOGxkr9NfQj",
        "outputId": "063df4f0-0e5e-4fc4-8b6b-fd7ab4e3b9b2"
      },
      "outputs": [
        {
          "name": "stdout",
          "output_type": "stream",
          "text": [
            "3036          Detect Fake News in Python with Tensorflow \n",
            "2954    Politics and Ethics of Data Analytics in the P...\n",
            "2925     Assisting Public Sector Decision Makers With ...\n",
            "2990     Natural Language Processing and Capstone Assi...\n",
            "3000    The Social Dimensions of Antimicrobial Resistance\n",
            "2979                   Privacy & Standardisation Capstone\n",
            "2935    Preparing for Google Cloud Certification: Clou...\n",
            "2882          Music Education for Teachers Specialization\n",
            "2926                 The Econometrics of Time Series Data\n",
            "2972                  Time Series Analysis (ARIMA) with R\n",
            "Name: Course Title, dtype: object\n"
          ]
        }
      ],
      "source": [
        "# Example usage\n",
        "print(get_recommendations('Visualizing static networks with R'))"
      ]
    },
    {
      "cell_type": "markdown",
      "metadata": {
        "id": "X8cjqIQcXL6J"
      },
      "source": [
        "## Using Word2Vec"
      ]
    },
    {
      "cell_type": "code",
      "execution_count": null,
      "metadata": {
        "colab": {
          "base_uri": "https://localhost:8080/"
        },
        "id": "pl47LbGIVVot",
        "outputId": "b0fd6612-b347-444c-b8d7-97ca1e66f9f0"
      },
      "outputs": [
        {
          "name": "stderr",
          "output_type": "stream",
          "text": [
            "[nltk_data] Downloading package stopwords to /root/nltk_data...\n",
            "[nltk_data]   Unzipping corpora/stopwords.zip.\n"
          ]
        },
        {
          "name": "stdout",
          "output_type": "stream",
          "text": [
            "Word2Vec Recommendations:\n",
            "766                      Data Analysis with R Programming\n",
            "1047                                 Data Analysis with R\n",
            "669                   Data Analysis with R Specialization\n",
            "2227                   Analisis Data dengan Pemrograman R\n",
            "1046    Expressway to Data Science: R Programming and ...\n",
            "818     Statistical Analysis with R for Public Health ...\n",
            "841          Neuroscience and Neuroimaging Specialization\n",
            "1058    Data Science and Analysis Tools - from Jupyter...\n",
            "1219               Data Science with R - Capstone Project\n",
            "755                           SQL for Data Science with R\n",
            "Name: Course Title, dtype: object\n"
          ]
        }
      ],
      "source": [
        "from gensim.models import Word2Vec\n",
        "from sklearn.metrics.pairwise import cosine_similarity\n",
        "import numpy as np\n",
        "import nltk\n",
        "from nltk.corpus import stopwords\n",
        "nltk.download('stopwords')\n",
        "stop_words = set(stopwords.words('english'))\n",
        "\n",
        "# Prepare the text data\n",
        "data['Processed Text'] = data['Course Title'].apply(lambda x: [word.lower() for word in x.split() if word.lower() not in stop_words])\n",
        "\n",
        "# Train a Word2Vec model\n",
        "model_w2v = Word2Vec(sentences=data['Processed Text'], vector_size=100, window=5, min_count=2, workers=4)\n",
        "\n",
        "# Create a function to vectorize data using the Word2Vec model\n",
        "def vectorize_w2v(text, model):\n",
        "    word_vectors = [model.wv[word] for word in text if word in model.wv]\n",
        "    if not word_vectors:\n",
        "        return np.zeros(model.vector_size)\n",
        "    return np.mean(word_vectors, axis=0)\n",
        "\n",
        "# Apply vectorization to the processed text\n",
        "data['W2V Features'] = data['Processed Text'].apply(lambda x: vectorize_w2v(x, model_w2v))\n",
        "\n",
        "# Convert list of vectors into a matrix for similarity calculation\n",
        "w2v_matrix = np.array(list(data['W2V Features']))\n",
        "\n",
        "# Compute cosine similarity matrix\n",
        "cosine_sim_w2v = cosine_similarity(w2v_matrix)\n",
        "\n",
        "# Function to get recommendations using cosine similarity\n",
        "def get_recommendations_w2v(course_title, cosine_sim=cosine_sim_w2v):\n",
        "    idx = data[data['Course Title'].str.lower() == course_title.lower()].index[0]\n",
        "    sim_scores = list(enumerate(cosine_sim[idx]))\n",
        "    sim_scores = sorted(sim_scores, key=lambda x: x[1], reverse=True)\n",
        "    top_indices = [i[0] for i in sim_scores[1:11]]  # Exclude the course itself and get top 10\n",
        "    return data['Course Title'].iloc[top_indices]\n",
        "\n",
        "# Example usage\n",
        "print(\"Word2Vec Recommendations:\")\n",
        "print(get_recommendations_w2v(\"Visualizing static networks with R\"))\n"
      ]
    },
    {
      "cell_type": "markdown",
      "metadata": {
        "id": "TaNgPXsOmp76"
      },
      "source": [
        "### Combining other features"
      ]
    },
    {
      "cell_type": "code",
      "execution_count": null,
      "metadata": {
        "id": "OYH2aSNOWInM"
      },
      "outputs": [],
      "source": [
        "import numpy as np\n",
        "import pandas as pd\n",
        "from gensim.models import Word2Vec\n",
        "from sklearn.preprocessing import OneHotEncoder\n",
        "from sklearn.metrics.pairwise import cosine_similarity\n",
        "from scipy.sparse import hstack\n",
        "\n",
        "# Initialize OneHotEncoder\n",
        "encoder = OneHotEncoder()\n",
        "level_encoded = encoder.fit_transform(data[['Level']])\n",
        "keyword_encoded = encoder.fit_transform(data[['Keyword']])\n",
        "\n",
        "# Convert Word2Vec features from list to an array\n",
        "w2v_features = np.array(list(data['W2V Features']))\n",
        "\n",
        "# Combine Word2Vec features with one-hot encoded categorical features\n",
        "combined_features_word2vec = hstack([w2v_features, level_encoded, keyword_encoded]).tocsr()\n",
        "\n",
        "# Compute cosine similarity matrix\n",
        "cosine_sim_combined = cosine_similarity(combined_features_word2vec)\n",
        "\n",
        "# Function to get recommendations\n",
        "def get_combined_recommendations(course_title, data, cosine_sim):\n",
        "    try:\n",
        "        idx = data[data['Course Title'].str.lower() == course_title.lower()].index[0]\n",
        "    except IndexError:\n",
        "        return \"Course title not found.\"\n",
        "\n",
        "    sim_scores = list(enumerate(cosine_sim[idx]))\n",
        "    sim_scores = sorted(sim_scores, key=lambda x: x[1], reverse=True)\n",
        "    top_indices = [i[0] for i in sim_scores[1:11]]  # Exclude the course itself and get top 10\n",
        "    return data['Course Title'].iloc[top_indices]\n",
        "\n"
      ]
    },
    {
      "cell_type": "code",
      "execution_count": null,
      "metadata": {
        "colab": {
          "base_uri": "https://localhost:8080/"
        },
        "id": "EMDlr_DJmMok",
        "outputId": "8e3692b9-f243-4bc2-a1e8-3af0aa5daa3c"
      },
      "outputs": [
        {
          "name": "stdout",
          "output_type": "stream",
          "text": [
            "Hybrid Recommendations:\n",
            "2998         Innovative Governance of Large Urban Systems\n",
            "2972                  Time Series Analysis (ARIMA) with R\n",
            "2995    Activity Design with PhET Simulations for STEM...\n",
            "2917    Resilient Teaching Through Times of Crisis and...\n",
            "3034    Educación sobre cambio climático: entornos sos...\n",
            "3020    Climate change education: sustainable environm...\n",
            "2930              Teaching Popular Music in the Classroom\n",
            "2994    Implementation of PhET Activities for STEM Edu...\n",
            "3014    Riesgos y oportunidades empresariales en una e...\n",
            "3036          Detect Fake News in Python with Tensorflow \n",
            "Name: Course Title, dtype: object\n"
          ]
        }
      ],
      "source": [
        "course_title = \"Visualizing static networks with R\"\n",
        "recommendations = get_combined_recommendations(course_title, data, cosine_sim_combined)\n",
        "print(\"Hybrid Recommendations:\")\n",
        "print(recommendations)"
      ]
    },
    {
      "cell_type": "markdown",
      "metadata": {
        "id": "82RK9ktwRd9P"
      },
      "source": [
        "## Random Forest"
      ]
    },
    {
      "cell_type": "code",
      "execution_count": null,
      "metadata": {
        "id": "9LJV13_veO-b"
      },
      "outputs": [],
      "source": [
        "feature_matrix = combined_features_tfidf.toarray()"
      ]
    },
    {
      "cell_type": "code",
      "execution_count": null,
      "metadata": {
        "colab": {
          "base_uri": "https://localhost:8080/"
        },
        "id": "mdaOT-mrfju6",
        "outputId": "ad611425-cdd7-4850-a8b8-851213d7b794"
      },
      "outputs": [
        {
          "name": "stdout",
          "output_type": "stream",
          "text": [
            "Collecting keras-tuner\n",
            "  Downloading keras_tuner-1.4.7-py3-none-any.whl (129 kB)\n",
            "\u001b[2K     \u001b[90m━━━━━━━━━━━━━━━━━━━━━━━━━━━━━━━━━━━━━━━━\u001b[0m \u001b[32m129.1/129.1 kB\u001b[0m \u001b[31m1.6 MB/s\u001b[0m eta \u001b[36m0:00:00\u001b[0m\n",
            "\u001b[?25hRequirement already satisfied: keras in /usr/local/lib/python3.10/dist-packages (from keras-tuner) (2.15.0)\n",
            "Requirement already satisfied: packaging in /usr/local/lib/python3.10/dist-packages (from keras-tuner) (24.0)\n",
            "Requirement already satisfied: requests in /usr/local/lib/python3.10/dist-packages (from keras-tuner) (2.31.0)\n",
            "Collecting kt-legacy (from keras-tuner)\n",
            "  Downloading kt_legacy-1.0.5-py3-none-any.whl (9.6 kB)\n",
            "Requirement already satisfied: charset-normalizer<4,>=2 in /usr/local/lib/python3.10/dist-packages (from requests->keras-tuner) (3.3.2)\n",
            "Requirement already satisfied: idna<4,>=2.5 in /usr/local/lib/python3.10/dist-packages (from requests->keras-tuner) (3.7)\n",
            "Requirement already satisfied: urllib3<3,>=1.21.1 in /usr/local/lib/python3.10/dist-packages (from requests->keras-tuner) (2.0.7)\n",
            "Requirement already satisfied: certifi>=2017.4.17 in /usr/local/lib/python3.10/dist-packages (from requests->keras-tuner) (2024.2.2)\n",
            "Installing collected packages: kt-legacy, keras-tuner\n",
            "Successfully installed keras-tuner-1.4.7 kt-legacy-1.0.5\n"
          ]
        }
      ],
      "source": [
        "pip install keras-tuner --upgrade"
      ]
    },
    {
      "cell_type": "markdown",
      "source": [
        "## Hyperparameter tuning"
      ],
      "metadata": {
        "id": "D-Bpw38pJ_XG"
      }
    },
    {
      "cell_type": "code",
      "execution_count": null,
      "metadata": {
        "colab": {
          "base_uri": "https://localhost:8080/"
        },
        "id": "qvWl83bUeCKG",
        "outputId": "a55e2e3e-70da-4133-8b8b-7af7cc543ed0"
      },
      "outputs": [
        {
          "name": "stdout",
          "output_type": "stream",
          "text": [
            "Fitting 3 folds for each of 8 candidates, totalling 24 fits\n",
            "Best parameters: {'max_depth': 10, 'max_features': 'sqrt', 'n_estimators': 100}\n"
          ]
        }
      ],
      "source": [
        "from sklearn.ensemble import RandomForestClassifier\n",
        "from sklearn.model_selection import GridSearchCV\n",
        "\n",
        "# Define the model\n",
        "rf = RandomForestClassifier(random_state=42)\n",
        "\n",
        "# Set up the parameter grid\n",
        "param_grid = {\n",
        "    'n_estimators': [100, 200],\n",
        "    'max_features': ['sqrt', 'log2'],\n",
        "    'max_depth': [10, 20],\n",
        "}\n",
        "\n",
        "# Initialize the GridSearchCV object\n",
        "grid_search = GridSearchCV(estimator=rf, param_grid=param_grid, cv=3, verbose=2, n_jobs=-1)\n",
        "\n",
        "# Fit the grid search to the data\n",
        "grid_search.fit(feature_matrix, np.zeros(feature_matrix.shape[0]))\n",
        "\n",
        "print(\"Best parameters:\", grid_search.best_params_)\n"
      ]
    },
    {
      "cell_type": "code",
      "execution_count": null,
      "metadata": {
        "id": "DI5JFwVFUItt"
      },
      "outputs": [],
      "source": [
        "from sklearn.ensemble import RandomForestClassifier\n",
        "\n",
        "def train_rf_proximity_matrix(X, n_estimators=100):\n",
        "    \"\"\" Train Random Forest and create a proximity matrix based on leaf indices. \"\"\"\n",
        "    rf = RandomForestClassifier(max_depth = 10, max_features = 'sqrt', n_estimators=n_estimators, random_state=42)\n",
        "    rf.fit(X, np.zeros(X.shape[0]))  # Dummy variable for unsupervised clustering\n",
        "    leaf_indices = rf.apply(X)\n",
        "\n",
        "    # Create a proximity matrix\n",
        "    proximity_matrix = np.zeros((X.shape[0], X.shape[0]))\n",
        "    for leaf in leaf_indices.T:\n",
        "        for i, course_index in enumerate(leaf):\n",
        "            proximity_matrix[course_index][leaf] += 1\n",
        "    proximity_matrix /= n_estimators\n",
        "    return proximity_matrix\n",
        "\n",
        "def get_rf_recommendations(course_title, data, proximity_matrix):\n",
        "    try:\n",
        "        idx = data[data['Course Title'].str.lower() == course_title.lower()].index[0]\n",
        "    except IndexError:\n",
        "        return \"Course title not found.\"\n",
        "\n",
        "    # Get similarity scores from the proximity matrix\n",
        "    similarity_scores = list(enumerate(proximity_matrix[idx]))\n",
        "    similarity_scores = sorted(similarity_scores, key=lambda x: x[1], reverse=True)\n",
        "\n",
        "    # Get indices of the most similar courses, excluding itself\n",
        "    similar_indices = [i[0] for i in similarity_scores if i[0] != idx][:10]\n",
        "    return data['Course Title'].iloc[similar_indices]\n",
        "\n",
        "# Training\n",
        "feature_matrix = combined_features_tfidf.toarray()\n",
        "proximity_matrix = train_rf_proximity_matrix(feature_matrix)\n"
      ]
    },
    {
      "cell_type": "code",
      "execution_count": null,
      "metadata": {
        "colab": {
          "base_uri": "https://localhost:8080/"
        },
        "id": "I450aiwjlpWy",
        "outputId": "d5fc9b71-30c6-41f0-cd6e-697de8ac30e1"
      },
      "outputs": [
        {
          "name": "stdout",
          "output_type": "stream",
          "text": [
            "Random Forest Recommendations:\n",
            "0    The Blues: Understanding and Performing an Ame...\n",
            "1                         So You Think You Know Tango?\n",
            "2    Basic Elements of Design: Design Principles an...\n",
            "3                              Cultura Maya en Yucatán\n",
            "4    Antisemitismo: Desde sus orígenes hasta el pre...\n",
            "5     Health, Society, and Wellness in COVID-19 Times \n",
            "6                        Graphic Design Specialization\n",
            "7    Modern and Contemporary Art and Design Special...\n",
            "8         Game Design: Art and Concepts Specialization\n",
            "9                      The DIY Musician Specialization\n",
            "Name: Course Title, dtype: object\n"
          ]
        }
      ],
      "source": [
        "print(\"Random Forest Recommendations:\")\n",
        "print(get_rf_recommendations(\"Visualizing static networks with R\", data, proximity_matrix))"
      ]
    },
    {
      "cell_type": "markdown",
      "metadata": {
        "id": "6gEEgPw1lXIY"
      },
      "source": [
        "## Autoencoder"
      ]
    },
    {
      "cell_type": "code",
      "execution_count": null,
      "metadata": {
        "id": "vOwUxd3PkEr7"
      },
      "outputs": [],
      "source": [
        "from sklearn.preprocessing import StandardScaler\n",
        "# Normalize features for SVM and Neural Network\n",
        "scaler = StandardScaler()\n",
        "features_scaled = scaler.fit_transform(combined_features_tfidf.toarray())"
      ]
    },
    {
      "cell_type": "code",
      "execution_count": null,
      "metadata": {
        "colab": {
          "base_uri": "https://localhost:8080/"
        },
        "id": "nBaM7KMYfVYl",
        "outputId": "4cb9ce17-8645-4195-b44c-03be07c94bc8"
      },
      "outputs": [
        {
          "name": "stdout",
          "output_type": "stream",
          "text": [
            "Trial 10 Complete [00h 00m 12s]\n",
            "val_loss: -6.303456783294678\n",
            "\n",
            "Best val_loss So Far: -694.4281005859375\n",
            "Total elapsed time: 00h 03m 24s\n"
          ]
        }
      ],
      "source": [
        "from tensorflow.keras.models import Model\n",
        "from tensorflow.keras.layers import Input, Dense\n",
        "from tensorflow.keras.optimizers import Adam\n",
        "from kerastuner.tuners import RandomSearch\n",
        "\n",
        "# Define the autoencoder model builder function\n",
        "def build_autoencoder(hp):\n",
        "    input_dim = feature_matrix.shape[1]\n",
        "    input_layer = Input(shape=(input_dim,))\n",
        "    encoded = Dense(units=hp.Int('units', min_value=32, max_value=512, step=32), activation='relu')(input_layer)\n",
        "    decoded = Dense(input_dim, activation='sigmoid')(encoded)\n",
        "    autoencoder = Model(input_layer, decoded)\n",
        "    autoencoder.compile(optimizer=Adam(learning_rate=hp.Float('learning_rate', min_value=1e-4, max_value=1e-2, sampling='LOG')), loss='binary_crossentropy')\n",
        "    return autoencoder\n",
        "\n",
        "# Initialize the tuner\n",
        "tuner = RandomSearch(\n",
        "    build_autoencoder,\n",
        "    objective='val_loss',\n",
        "    max_trials=10,\n",
        "    executions_per_trial=2,\n",
        "    directory='autoencoder_tuning',\n",
        "    project_name='recommendation_autoencoder'\n",
        ")\n",
        "\n",
        "# Perform hyperparameter tuning\n",
        "tuner.search(features_scaled, features_scaled, epochs=20, batch_size=256, validation_split=0.2, verbose=2)\n",
        "\n",
        "# Get the optimal hyperparameters\n",
        "best_hps=tuner.get_best_hyperparameters(num_trials=1)[0]\n"
      ]
    },
    {
      "cell_type": "code",
      "execution_count": null,
      "metadata": {
        "colab": {
          "base_uri": "https://localhost:8080/"
        },
        "id": "K8DkNQ0CjxH5",
        "outputId": "3a3d06e5-f8f5-4f67-f194-a33ae849573e"
      },
      "outputs": [
        {
          "data": {
            "text/plain": [
              "(480, 0.005523601047731668)"
            ]
          },
          "execution_count": 35,
          "metadata": {},
          "output_type": "execute_result"
        }
      ],
      "source": [
        "# Retrieve the best hyperparameters\n",
        "best_units = best_hps.get('units')\n",
        "best_learning_rate = best_hps.get('learning_rate')\n",
        "best_units, best_learning_rate"
      ]
    },
    {
      "cell_type": "code",
      "execution_count": null,
      "metadata": {
        "colab": {
          "base_uri": "https://localhost:8080/"
        },
        "id": "v-nNAcYpRhKc",
        "outputId": "44842e0d-209d-48c0-b76e-edc7b706ed28"
      },
      "outputs": [
        {
          "name": "stdout",
          "output_type": "stream",
          "text": [
            "Epoch 1/50\n",
            "10/10 - 2s - loss: 0.0186 - val_loss: -2.5389e-01 - 2s/epoch - 190ms/step\n",
            "Epoch 2/50\n",
            "10/10 - 0s - loss: -1.2145e+00 - val_loss: -1.1131e+00 - 358ms/epoch - 36ms/step\n",
            "Epoch 3/50\n",
            "10/10 - 1s - loss: -4.4791e+00 - val_loss: -3.4460e+00 - 642ms/epoch - 64ms/step\n",
            "Epoch 4/50\n",
            "10/10 - 1s - loss: -1.1664e+01 - val_loss: -7.9497e+00 - 795ms/epoch - 79ms/step\n",
            "Epoch 5/50\n",
            "10/10 - 1s - loss: -2.4328e+01 - val_loss: -1.5266e+01 - 696ms/epoch - 70ms/step\n",
            "Epoch 6/50\n",
            "10/10 - 1s - loss: -4.3635e+01 - val_loss: -2.6041e+01 - 971ms/epoch - 97ms/step\n",
            "Epoch 7/50\n",
            "10/10 - 1s - loss: -7.0567e+01 - val_loss: -4.0275e+01 - 678ms/epoch - 68ms/step\n",
            "Epoch 8/50\n",
            "10/10 - 1s - loss: -1.0570e+02 - val_loss: -5.8671e+01 - 666ms/epoch - 67ms/step\n",
            "Epoch 9/50\n",
            "10/10 - 1s - loss: -1.4951e+02 - val_loss: -8.1227e+01 - 766ms/epoch - 77ms/step\n",
            "Epoch 10/50\n",
            "10/10 - 1s - loss: -2.0216e+02 - val_loss: -1.0784e+02 - 636ms/epoch - 64ms/step\n",
            "Epoch 11/50\n",
            "10/10 - 1s - loss: -2.6401e+02 - val_loss: -1.3830e+02 - 687ms/epoch - 69ms/step\n",
            "Epoch 12/50\n",
            "10/10 - 1s - loss: -3.3433e+02 - val_loss: -1.7365e+02 - 632ms/epoch - 63ms/step\n",
            "Epoch 13/50\n",
            "10/10 - 1s - loss: -4.1440e+02 - val_loss: -2.1212e+02 - 755ms/epoch - 76ms/step\n",
            "Epoch 14/50\n",
            "10/10 - 1s - loss: -5.0318e+02 - val_loss: -2.5627e+02 - 791ms/epoch - 79ms/step\n",
            "Epoch 15/50\n",
            "10/10 - 1s - loss: -6.0125e+02 - val_loss: -3.0293e+02 - 907ms/epoch - 91ms/step\n",
            "Epoch 16/50\n",
            "10/10 - 1s - loss: -7.0745e+02 - val_loss: -3.5496e+02 - 1s/epoch - 109ms/step\n",
            "Epoch 17/50\n",
            "10/10 - 1s - loss: -8.2414e+02 - val_loss: -4.1046e+02 - 1s/epoch - 100ms/step\n",
            "Epoch 18/50\n",
            "10/10 - 1s - loss: -9.4954e+02 - val_loss: -4.6970e+02 - 909ms/epoch - 91ms/step\n",
            "Epoch 19/50\n",
            "10/10 - 1s - loss: -1.0831e+03 - val_loss: -5.3472e+02 - 857ms/epoch - 86ms/step\n",
            "Epoch 20/50\n",
            "10/10 - 1s - loss: -1.2272e+03 - val_loss: -6.0415e+02 - 762ms/epoch - 76ms/step\n",
            "Epoch 21/50\n",
            "10/10 - 1s - loss: -1.3793e+03 - val_loss: -6.7497e+02 - 724ms/epoch - 72ms/step\n",
            "Epoch 22/50\n",
            "10/10 - 1s - loss: -1.5403e+03 - val_loss: -7.5100e+02 - 812ms/epoch - 81ms/step\n",
            "Epoch 23/50\n",
            "10/10 - 1s - loss: -1.7113e+03 - val_loss: -8.2971e+02 - 705ms/epoch - 70ms/step\n",
            "Epoch 24/50\n",
            "10/10 - 1s - loss: -1.8889e+03 - val_loss: -9.1537e+02 - 908ms/epoch - 91ms/step\n",
            "Epoch 25/50\n",
            "10/10 - 1s - loss: -2.0778e+03 - val_loss: -1.0028e+03 - 1s/epoch - 106ms/step\n",
            "Epoch 26/50\n",
            "10/10 - 1s - loss: -2.2741e+03 - val_loss: -1.0945e+03 - 994ms/epoch - 99ms/step\n",
            "Epoch 27/50\n",
            "10/10 - 1s - loss: -2.4812e+03 - val_loss: -1.1906e+03 - 771ms/epoch - 77ms/step\n",
            "Epoch 28/50\n",
            "10/10 - 1s - loss: -2.6941e+03 - val_loss: -1.2888e+03 - 694ms/epoch - 69ms/step\n",
            "Epoch 29/50\n",
            "10/10 - 1s - loss: -2.9168e+03 - val_loss: -1.3945e+03 - 756ms/epoch - 76ms/step\n",
            "Epoch 30/50\n",
            "10/10 - 1s - loss: -3.1493e+03 - val_loss: -1.4983e+03 - 864ms/epoch - 86ms/step\n",
            "Epoch 31/50\n",
            "10/10 - 1s - loss: -3.3906e+03 - val_loss: -1.6073e+03 - 1s/epoch - 103ms/step\n",
            "Epoch 32/50\n",
            "10/10 - 1s - loss: -3.6371e+03 - val_loss: -1.7232e+03 - 1s/epoch - 116ms/step\n",
            "Epoch 33/50\n",
            "10/10 - 1s - loss: -3.8950e+03 - val_loss: -1.8405e+03 - 987ms/epoch - 99ms/step\n",
            "Epoch 34/50\n",
            "10/10 - 1s - loss: -4.1617e+03 - val_loss: -1.9634e+03 - 719ms/epoch - 72ms/step\n",
            "Epoch 35/50\n",
            "10/10 - 1s - loss: -4.4334e+03 - val_loss: -2.0917e+03 - 820ms/epoch - 82ms/step\n",
            "Epoch 36/50\n",
            "10/10 - 1s - loss: -4.7182e+03 - val_loss: -2.2182e+03 - 737ms/epoch - 74ms/step\n",
            "Epoch 37/50\n",
            "10/10 - 1s - loss: -5.0100e+03 - val_loss: -2.3530e+03 - 755ms/epoch - 76ms/step\n",
            "Epoch 38/50\n",
            "10/10 - 1s - loss: -5.3068e+03 - val_loss: -2.4914e+03 - 673ms/epoch - 67ms/step\n",
            "Epoch 39/50\n",
            "10/10 - 1s - loss: -5.6164e+03 - val_loss: -2.6314e+03 - 791ms/epoch - 79ms/step\n",
            "Epoch 40/50\n",
            "10/10 - 1s - loss: -5.9298e+03 - val_loss: -2.7781e+03 - 665ms/epoch - 66ms/step\n",
            "Epoch 41/50\n",
            "10/10 - 1s - loss: -6.2567e+03 - val_loss: -2.9269e+03 - 760ms/epoch - 76ms/step\n",
            "Epoch 42/50\n",
            "10/10 - 1s - loss: -6.5900e+03 - val_loss: -3.0760e+03 - 716ms/epoch - 72ms/step\n",
            "Epoch 43/50\n",
            "10/10 - 1s - loss: -6.9291e+03 - val_loss: -3.2319e+03 - 868ms/epoch - 87ms/step\n",
            "Epoch 44/50\n",
            "10/10 - 1s - loss: -7.2787e+03 - val_loss: -3.3905e+03 - 573ms/epoch - 57ms/step\n",
            "Epoch 45/50\n",
            "10/10 - 1s - loss: -7.6345e+03 - val_loss: -3.5537e+03 - 677ms/epoch - 68ms/step\n",
            "Epoch 46/50\n",
            "10/10 - 1s - loss: -7.9988e+03 - val_loss: -3.7181e+03 - 601ms/epoch - 60ms/step\n",
            "Epoch 47/50\n",
            "10/10 - 1s - loss: -8.3731e+03 - val_loss: -3.8879e+03 - 991ms/epoch - 99ms/step\n",
            "Epoch 48/50\n",
            "10/10 - 2s - loss: -8.7519e+03 - val_loss: -4.0634e+03 - 2s/epoch - 165ms/step\n",
            "Epoch 49/50\n",
            "10/10 - 1s - loss: -9.1411e+03 - val_loss: -4.2409e+03 - 795ms/epoch - 79ms/step\n",
            "Epoch 50/50\n",
            "10/10 - 1s - loss: -9.5401e+03 - val_loss: -4.4229e+03 - 605ms/epoch - 60ms/step\n"
          ]
        },
        {
          "data": {
            "text/plain": [
              "<keras.src.callbacks.History at 0x799dc3ed1360>"
            ]
          },
          "execution_count": 36,
          "metadata": {},
          "output_type": "execute_result"
        }
      ],
      "source": [
        "import numpy as np\n",
        "from keras.models import Model\n",
        "from keras.layers import Input, Dense\n",
        "from keras.optimizers import Adam\n",
        "\n",
        "# Build the optimal model using the best hyperparameters\n",
        "input_dim = features_scaled.shape[1]  # Make sure features_scaled is your preprocessed feature matrix\n",
        "input_layer = Input(shape=(input_dim,))\n",
        "encoded = Dense(units=best_units, activation='relu')(input_layer)\n",
        "decoded = Dense(input_dim, activation='sigmoid')(encoded)\n",
        "optimal_autoencoder = Model(input_layer, decoded)\n",
        "optimal_autoencoder.compile(optimizer=Adam(learning_rate=best_learning_rate), loss='binary_crossentropy')\n",
        "\n",
        "# Train the optimal model\n",
        "optimal_autoencoder.fit(features_scaled, features_scaled, epochs=50, batch_size=256, validation_split=0.2, verbose=2)\n"
      ]
    },
    {
      "cell_type": "code",
      "execution_count": null,
      "metadata": {
        "id": "tFMiU6dBSG8x"
      },
      "outputs": [],
      "source": [
        "def get_autoencoder_recommendations(course_title, data, encoder, features_scaled):\n",
        "    # Find index of the course title\n",
        "    try:\n",
        "        idx = data[data['Course Title'].str.lower() == course_title.lower()].index[0]\n",
        "    except IndexError:\n",
        "        return \"Course title not found.\"\n",
        "    encoded_features = encoder.predict(features_scaled)\n",
        "    # Compute cosine similarity in encoded space\n",
        "    cosine_sim = cosine_similarity(encoded_features, encoded_features)\n",
        "    sim_scores = list(enumerate(cosine_sim[idx]))\n",
        "    sim_scores = sorted(sim_scores, key=lambda x: x[1], reverse=True)\n",
        "    # Ensure not to recommend the course itself and limit to 10\n",
        "    recommended_indices = [i[0] for i in sim_scores if i[0] != idx][:11]  # Get 11 to exclude the original\n",
        "    recommendations = data['Course Title'].iloc[recommended_indices][:10]\n",
        "    return recommendations\n"
      ]
    },
    {
      "cell_type": "code",
      "execution_count": null,
      "metadata": {
        "id": "Zn1ApQQ5SL9W"
      },
      "outputs": [],
      "source": [
        "print(\"\\nNeural Network Autoencoder Recommendations:\")\n",
        "print(get_autoencoder_recommendations(\"Visualizing static networks with R\", data, optimal_autoencoder, features_scaled))"
      ]
    },
    {
      "cell_type": "markdown",
      "metadata": {
        "id": "tEO_K0TXi2S9"
      },
      "source": [
        "## K Nearest Neighbors"
      ]
    },
    {
      "cell_type": "markdown",
      "source": [
        "## Hyperparameter tuning"
      ],
      "metadata": {
        "id": "Oroy0ZO8KIhb"
      }
    },
    {
      "cell_type": "code",
      "execution_count": null,
      "metadata": {
        "colab": {
          "base_uri": "https://localhost:8080/"
        },
        "id": "0tq-7FMBIPid",
        "outputId": "ea570c0c-dd1b-4c1f-fa42-2875e0f7c4db"
      },
      "outputs": [
        {
          "name": "stderr",
          "output_type": "stream",
          "text": [
            "/usr/local/lib/python3.10/dist-packages/sklearn/model_selection/_split.py:700: UserWarning: The least populated class in y has only 1 members, which is less than n_splits=2.\n",
            "  warnings.warn(\n"
          ]
        },
        {
          "name": "stdout",
          "output_type": "stream",
          "text": [
            "Best Parameters: {'knn__metric': 'cosine', 'knn__n_neighbors': 6}\n",
            "Best Score: 0.0003287310979618672\n"
          ]
        }
      ],
      "source": [
        "from sklearn.model_selection import GridSearchCV\n",
        "from sklearn.neighbors import KNeighborsClassifier\n",
        "from sklearn.pipeline import Pipeline\n",
        "from sklearn.feature_extraction.text import TfidfVectorizer\n",
        "\n",
        "# Define a pipeline including TfidfVectorizer and KNeighborsClassifier\n",
        "pipeline = Pipeline([\n",
        "    ('tfidf', TfidfVectorizer(stop_words='english')),\n",
        "    ('knn', KNeighborsClassifier())\n",
        "])\n",
        "\n",
        "# Define the parameter grid\n",
        "param_grid = {\n",
        "    'knn__n_neighbors': range(2, 21),  # Range of neighbors to try\n",
        "    'knn__metric': [ 'cosine']  # Distance metrics to try\n",
        "}\n",
        "\n",
        "# Instantiate GridSearchCV\n",
        "grid_search = GridSearchCV(pipeline, param_grid, cv=2, scoring='accuracy', n_jobs=1)\n",
        "\n",
        "# Fit GridSearchCV to the data\n",
        "grid_search.fit(data['What you will learn'], data['Course Title'])\n",
        "\n",
        "# Print the best parameters and best score\n",
        "print(\"Best Parameters:\", grid_search.best_params_)\n",
        "print(\"Best Score:\", grid_search.best_score_)\n"
      ]
    },
    {
      "cell_type": "code",
      "execution_count": null,
      "metadata": {
        "id": "1OzpM0b1WPum"
      },
      "outputs": [],
      "source": [
        "from sklearn.neighbors import NearestNeighbors\n",
        "from sklearn.feature_extraction.text import TfidfVectorizer\n",
        "\n",
        "# Using Nearest Neighbors to find similarity\n",
        "model_knn = NearestNeighbors(metric='cosine', algorithm='brute', n_neighbors=6, n_jobs=1)\n",
        "model_knn.fit(tfidf_matrix)\n",
        "\n",
        "# Function to find similar courses\n",
        "def find_similar_courses(course_title):\n",
        "\n",
        "  if course_title in data['Course Title'].values:\n",
        "    course_index = data['Course Title'].values.tolist().index(course_title)\n",
        "  else:\n",
        "    print(\"Course title not found in dataset.\")\n",
        "  distances, indices = model_knn.kneighbors(tfidf_matrix[course_index], n_neighbors=8)\n",
        "  for i in range(1, len(distances.flatten())):\n",
        "    print(f'{i}: {data.iloc[indices.flatten()[i]][\"Course Title\"]} (distance: {distances.flatten()[i]})')\n",
        "\n"
      ]
    },
    {
      "cell_type": "code",
      "execution_count": null,
      "metadata": {
        "id": "F7BpA09-jpgz"
      },
      "outputs": [],
      "source": [
        "find_similar_courses('Visualizing static networks with R')"
      ]
    },
    {
      "cell_type": "code",
      "execution_count": null,
      "metadata": {
        "colab": {
          "background_save": true,
          "base_uri": "https://localhost:8080/"
        },
        "id": "c9elgzLizoOG",
        "outputId": "db95ffa3-bd2b-41fb-8ca5-19fe10e24e36"
      },
      "outputs": [
        {
          "data": {
            "text/plain": [
              "Index(['Course Title', 'Rating', 'Level', 'Schedule', 'What you will learn',\n",
              "       'Skill gain', 'Modules', 'Instructor', 'Offered By', 'Keyword',\n",
              "       'Course Url', 'Duration to complete (Approx.)', 'Number of Review',\n",
              "       'Combined Text', 'Processed Text', 'W2V Features'],\n",
              "      dtype='object')"
            ]
          },
          "execution_count": 42,
          "metadata": {},
          "output_type": "execute_result"
        }
      ],
      "source": [
        "data.columns"
      ]
    },
    {
      "cell_type": "code",
      "execution_count": null,
      "metadata": {
        "colab": {
          "background_save": true,
          "base_uri": "https://localhost:8080/"
        },
        "id": "5RdEeWYoy34J",
        "outputId": "59792d42-af87-41de-9d57-65b2537ead90"
      },
      "outputs": [
        {
          "name": "stdout",
          "output_type": "stream",
          "text": [
            "Fitting 3 folds for each of 27 candidates, totalling 81 fits\n",
            "Accuracy: 0.6518883415435139\n",
            "Classification Report:\n",
            "               precision    recall  f1-score   support\n",
            "\n",
            "           0       0.00      0.00      0.00        28\n",
            "           1       0.65      0.99      0.78       386\n",
            "           2       0.87      0.08      0.14       171\n",
            "           3       0.00      0.00      0.00        24\n",
            "\n",
            "    accuracy                           0.65       609\n",
            "   macro avg       0.38      0.27      0.23       609\n",
            "weighted avg       0.65      0.65      0.54       609\n",
            "\n",
            "Confusion Matrix:\n",
            " [[  0  28   0   0]\n",
            " [  0 384   2   0]\n",
            " [  0 158  13   0]\n",
            " [  0  24   0   0]]\n"
          ]
        },
        {
          "name": "stderr",
          "output_type": "stream",
          "text": [
            "/usr/local/lib/python3.10/dist-packages/sklearn/metrics/_classification.py:1344: UndefinedMetricWarning: Precision and F-score are ill-defined and being set to 0.0 in labels with no predicted samples. Use `zero_division` parameter to control this behavior.\n",
            "  _warn_prf(average, modifier, msg_start, len(result))\n",
            "/usr/local/lib/python3.10/dist-packages/sklearn/metrics/_classification.py:1344: UndefinedMetricWarning: Precision and F-score are ill-defined and being set to 0.0 in labels with no predicted samples. Use `zero_division` parameter to control this behavior.\n",
            "  _warn_prf(average, modifier, msg_start, len(result))\n",
            "/usr/local/lib/python3.10/dist-packages/sklearn/metrics/_classification.py:1344: UndefinedMetricWarning: Precision and F-score are ill-defined and being set to 0.0 in labels with no predicted samples. Use `zero_division` parameter to control this behavior.\n",
            "  _warn_prf(average, modifier, msg_start, len(result))\n"
          ]
        }
      ],
      "source": [
        "import pandas as pd\n",
        "import numpy as np\n",
        "from sklearn.model_selection import train_test_split, GridSearchCV\n",
        "from sklearn.ensemble import RandomForestClassifier\n",
        "from sklearn.feature_extraction.text import TfidfVectorizer\n",
        "from sklearn.metrics import classification_report, confusion_matrix, accuracy_score\n",
        "from sklearn.preprocessing import LabelEncoder\n",
        "\n",
        "# Feature extraction from text\n",
        "tfidf = TfidfVectorizer(max_features=1000)  # You might adjust the number of features\n",
        "X_text = tfidf.fit_transform(data['What you will learn']).toarray()\n",
        "\n",
        "# Adding other numerical features\n",
        "other_features = data[['Duration to complete (Approx.)','Rating', 'Number of Review']]\n",
        "X_other = other_features.values\n",
        "\n",
        "# Combine text features with other features\n",
        "X = np.hstack((X_text, X_other))\n",
        "\n",
        "# Encode labels\n",
        "le = LabelEncoder()\n",
        "y = le.fit_transform(data['Level'])\n",
        "\n",
        "# Split the data\n",
        "X_train, X_test, y_train, y_test = train_test_split(X, y, test_size=0.2, random_state=42)\n",
        "\n",
        "# Initialize the model\n",
        "rf = RandomForestClassifier(random_state=42)\n",
        "\n",
        "# Hyperparameter tuning\n",
        "param_grid = {\n",
        "    'n_estimators': [100, 200, 300],\n",
        "    'max_depth': [10, 15, 20],\n",
        "    'min_samples_split': [2, 5, 10]\n",
        "}\n",
        "grid_search = GridSearchCV(estimator=rf, param_grid=param_grid, cv=3, scoring='accuracy', verbose=1)\n",
        "grid_search.fit(X_train, y_train)\n",
        "\n",
        "# Best model\n",
        "best_rf = grid_search.best_estimator_\n",
        "\n",
        "# Predictions\n",
        "y_pred = best_rf.predict(X_test)\n",
        "\n",
        "# Evaluation\n",
        "print(\"Accuracy:\", accuracy_score(y_test, y_pred))\n",
        "print(\"Classification Report:\\n\", classification_report(y_test, y_pred))\n",
        "print(\"Confusion Matrix:\\n\", confusion_matrix(y_test, y_pred))\n"
      ]
    },
    {
      "cell_type": "markdown",
      "metadata": {
        "id": "3Jr-N8Iv9_w7"
      },
      "source": [
        "**CONFUSION MATRIX AND F1 SCORE**"
      ]
    },
    {
      "cell_type": "markdown",
      "metadata": {
        "id": "FtdJ7SLH-BWU"
      },
      "source": [
        "**CONFUSION MATRIX FOR 'DURATION TO COMPLETE' AND 'RATING'**"
      ]
    },
    {
      "cell_type": "code",
      "execution_count": null,
      "metadata": {
        "colab": {
          "base_uri": "https://localhost:8080/",
          "height": 728
        },
        "id": "HByQqCgs-GZR",
        "outputId": "45118a31-a5d5-48d5-cb68-43c7e1b2186c"
      },
      "outputs": [
        {
          "output_type": "display_data",
          "data": {
            "text/plain": [
              "<Figure size 800x600 with 2 Axes>"
            ],
            "image/png": "[encoded data removed]"
          },
          "metadata": {}
        },
        {
          "output_type": "stream",
          "name": "stdout",
          "text": [
            "              precision    recall  f1-score   support\n",
            "\n",
            "           0       0.61      0.27      0.38       205\n",
            "           1       0.71      0.91      0.80       404\n",
            "\n",
            "    accuracy                           0.70       609\n",
            "   macro avg       0.66      0.59      0.59       609\n",
            "weighted avg       0.68      0.70      0.66       609\n",
            "\n"
          ]
        }
      ],
      "source": [
        "from sklearn.feature_extraction.text import TfidfVectorizer\n",
        "from sklearn.model_selection import train_test_split\n",
        "from sklearn.ensemble import RandomForestClassifier\n",
        "from sklearn.metrics import confusion_matrix, classification_report\n",
        "import matplotlib.pyplot as plt\n",
        "import seaborn as sns\n",
        "\n",
        "# For the purpose of this example, let's binarize the 'Rating' column around a threshold (e.g., 4.5)\n",
        "# Courses with rating equal to or higher than 4.5 will be classified as 1, else 0\n",
        "data['Rating_binarized'] = (data['Rating'] >= 4.5).astype(int)\n",
        "\n",
        "# Define our features and labels\n",
        "X = data[['Duration to complete (Approx.)']]  # Features (2D array)\n",
        "y = data['Rating_binarized']  # Labels (1D array)\n",
        "\n",
        "# Split the data into training and testing sets\n",
        "X_train, X_test, y_train, y_test = train_test_split(X, y, test_size=0.2, random_state=42)\n",
        "\n",
        "# Initialize a Random Forest classifier\n",
        "classifier = RandomForestClassifier(random_state=42)\n",
        "\n",
        "# Train the classifier\n",
        "classifier.fit(X_train, y_train)\n",
        "\n",
        "# Predict on the test data\n",
        "y_pred = classifier.predict(X_test)\n",
        "\n",
        "# Generate the confusion matrix\n",
        "cm = confusion_matrix(y_test, y_pred)\n",
        "\n",
        "# Plotting the confusion matrix\n",
        "plt.figure(figsize=(8, 6))\n",
        "sns.heatmap(cm, annot=True, fmt='d', cmap='Blues',\n",
        "            xticklabels=['Low Rating', 'High Rating'],\n",
        "            yticklabels=['Low Rating', 'High Rating'])\n",
        "plt.ylabel('Actual')\n",
        "plt.xlabel('Predicted')\n",
        "plt.title('Confusion Matrix')\n",
        "plt.show()\n",
        "\n",
        "# Additionally, let's print the classification report for precision, recall, f1-score\n",
        "print(classification_report(y_test, y_pred))\n"
      ]
    },
    {
      "cell_type": "markdown",
      "metadata": {
        "id": "o2KTPUFo-Qdw"
      },
      "source": [
        "**CONFUSION MATRIX FOR 'OFFERED BY' AND 'RATING'**"
      ]
    },
    {
      "cell_type": "code",
      "execution_count": null,
      "metadata": {
        "colab": {
          "base_uri": "https://localhost:8080/",
          "height": 559
        },
        "id": "wq95YF0E-K12",
        "outputId": "3f9f6228-827e-4318-8e44-c24dcae6cd7b"
      },
      "outputs": [
        {
          "output_type": "stream",
          "name": "stderr",
          "text": [
            "<ipython-input-11-d7d825220eaa>:14: SettingWithCopyWarning: \n",
            "A value is trying to be set on a copy of a slice from a DataFrame.\n",
            "Try using .loc[row_indexer,col_indexer] = value instead\n",
            "\n",
            "See the caveats in the documentation: https://pandas.pydata.org/pandas-docs/stable/user_guide/indexing.html#returning-a-view-versus-a-copy\n",
            "  data['Offered By Encoded'] = label_encoder.fit_transform(data['Offered By'])\n"
          ]
        },
        {
          "output_type": "display_data",
          "data": {
            "text/plain": [
              "<Figure size 640x480 with 2 Axes>"
            ],
            "image/png": "[encoded data removed]"
          },
          "metadata": {}
        }
      ],
      "source": [
        "import pandas as pd\n",
        "from sklearn.preprocessing import LabelEncoder\n",
        "from sklearn.ensemble import RandomForestClassifier\n",
        "from sklearn.model_selection import train_test_split\n",
        "from sklearn.metrics import confusion_matrix, ConfusionMatrixDisplay\n",
        "import matplotlib.pyplot as plt\n",
        "\n",
        "# Convert 'Rating' into categorical bins and handle missing values with dropna\n",
        "data['Rating Category'] = pd.cut(data['Rating'], bins=[0, 3.5, 4.5, 5], labels=['Low', 'Medium', 'High'])\n",
        "data = data.dropna(subset=['Rating Category', 'Offered By'])  # Ensure no missing values in these columns\n",
        "\n",
        "# Encode the 'Offered By' categorical data\n",
        "label_encoder = LabelEncoder()\n",
        "data['Offered By Encoded'] = label_encoder.fit_transform(data['Offered By'])\n",
        "\n",
        "# Select features and target\n",
        "X = data[['Offered By Encoded']]\n",
        "y = data['Rating Category']\n",
        "\n",
        "# Split the dataset into training and testing sets\n",
        "X_train, X_test, y_train, y_test = train_test_split(X, y, test_size=0.2, random_state=42)\n",
        "\n",
        "# Initialize and train a RandomForestClassifier\n",
        "classifier = RandomForestClassifier(random_state=42)\n",
        "classifier.fit(X_train, y_train)\n",
        "\n",
        "# Predict the test set\n",
        "y_pred = classifier.predict(X_test)\n",
        "\n",
        "# Generate the confusion matrix\n",
        "cm = confusion_matrix(y_test, y_pred, labels=classifier.classes_)\n",
        "\n",
        "# Display the confusion matrix\n",
        "disp = ConfusionMatrixDisplay(confusion_matrix=cm, display_labels=classifier.classes_)\n",
        "disp.plot(cmap=plt.cm.Blues)\n",
        "plt.show()\n"
      ]
    },
    {
      "cell_type": "markdown",
      "metadata": {
        "id": "2MCmM3sk-aCs"
      },
      "source": [
        "**AREA UNDER CURVE**\n"
      ]
    },
    {
      "cell_type": "code",
      "execution_count": null,
      "metadata": {
        "colab": {
          "base_uri": "https://localhost:8080/",
          "height": 372
        },
        "id": "4Z_brhBj-bXA",
        "outputId": "2fa48c1d-b84f-4733-b1b6-5fd58cec2aa0"
      },
      "outputs": [
        {
          "output_type": "error",
          "ename": "ValueError",
          "evalue": "multiclass format is not supported",
          "traceback": [
            "\u001b[0;31m---------------------------------------------------------------------------\u001b[0m",
            "\u001b[0;31mValueError\u001b[0m                                Traceback (most recent call last)",
            "\u001b[0;32m<ipython-input-13-84da79b428f4>\u001b[0m in \u001b[0;36m<cell line: 8>\u001b[0;34m()\u001b[0m\n\u001b[1;32m      6\u001b[0m \u001b[0;34m\u001b[0m\u001b[0m\n\u001b[1;32m      7\u001b[0m \u001b[0;31m# Compute ROC curve and ROC area for each class\u001b[0m\u001b[0;34m\u001b[0m\u001b[0;34m\u001b[0m\u001b[0m\n\u001b[0;32m----> 8\u001b[0;31m \u001b[0mfpr\u001b[0m\u001b[0;34m,\u001b[0m \u001b[0mtpr\u001b[0m\u001b[0;34m,\u001b[0m \u001b[0m_\u001b[0m \u001b[0;34m=\u001b[0m \u001b[0mroc_curve\u001b[0m\u001b[0;34m(\u001b[0m\u001b[0my_test\u001b[0m\u001b[0;34m,\u001b[0m \u001b[0my_probs\u001b[0m\u001b[0;34m)\u001b[0m\u001b[0;34m\u001b[0m\u001b[0;34m\u001b[0m\u001b[0m\n\u001b[0m\u001b[1;32m      9\u001b[0m \u001b[0mroc_auc\u001b[0m \u001b[0;34m=\u001b[0m \u001b[0mauc\u001b[0m\u001b[0;34m(\u001b[0m\u001b[0mfpr\u001b[0m\u001b[0;34m,\u001b[0m \u001b[0mtpr\u001b[0m\u001b[0;34m)\u001b[0m\u001b[0;34m\u001b[0m\u001b[0;34m\u001b[0m\u001b[0m\n\u001b[1;32m     10\u001b[0m \u001b[0;34m\u001b[0m\u001b[0m\n",
            "\u001b[0;32m/usr/local/lib/python3.10/dist-packages/sklearn/metrics/_ranking.py\u001b[0m in \u001b[0;36mroc_curve\u001b[0;34m(y_true, y_score, pos_label, sample_weight, drop_intermediate)\u001b[0m\n\u001b[1;32m    990\u001b[0m     \u001b[0marray\u001b[0m\u001b[0;34m(\u001b[0m\u001b[0;34m[\u001b[0m\u001b[0;36m1.8\u001b[0m \u001b[0;34m,\u001b[0m \u001b[0;36m0.8\u001b[0m \u001b[0;34m,\u001b[0m \u001b[0;36m0.4\u001b[0m \u001b[0;34m,\u001b[0m \u001b[0;36m0.35\u001b[0m\u001b[0;34m,\u001b[0m \u001b[0;36m0.1\u001b[0m \u001b[0;34m]\u001b[0m\u001b[0;34m)\u001b[0m\u001b[0;34m\u001b[0m\u001b[0;34m\u001b[0m\u001b[0m\n\u001b[1;32m    991\u001b[0m     \"\"\"\n\u001b[0;32m--> 992\u001b[0;31m     fps, tps, thresholds = _binary_clf_curve(\n\u001b[0m\u001b[1;32m    993\u001b[0m         \u001b[0my_true\u001b[0m\u001b[0;34m,\u001b[0m \u001b[0my_score\u001b[0m\u001b[0;34m,\u001b[0m \u001b[0mpos_label\u001b[0m\u001b[0;34m=\u001b[0m\u001b[0mpos_label\u001b[0m\u001b[0;34m,\u001b[0m \u001b[0msample_weight\u001b[0m\u001b[0;34m=\u001b[0m\u001b[0msample_weight\u001b[0m\u001b[0;34m\u001b[0m\u001b[0;34m\u001b[0m\u001b[0m\n\u001b[1;32m    994\u001b[0m     )\n",
            "\u001b[0;32m/usr/local/lib/python3.10/dist-packages/sklearn/metrics/_ranking.py\u001b[0m in \u001b[0;36m_binary_clf_curve\u001b[0;34m(y_true, y_score, pos_label, sample_weight)\u001b[0m\n\u001b[1;32m    747\u001b[0m     \u001b[0my_type\u001b[0m \u001b[0;34m=\u001b[0m \u001b[0mtype_of_target\u001b[0m\u001b[0;34m(\u001b[0m\u001b[0my_true\u001b[0m\u001b[0;34m,\u001b[0m \u001b[0minput_name\u001b[0m\u001b[0;34m=\u001b[0m\u001b[0;34m\"y_true\"\u001b[0m\u001b[0;34m)\u001b[0m\u001b[0;34m\u001b[0m\u001b[0;34m\u001b[0m\u001b[0m\n\u001b[1;32m    748\u001b[0m     \u001b[0;32mif\u001b[0m \u001b[0;32mnot\u001b[0m \u001b[0;34m(\u001b[0m\u001b[0my_type\u001b[0m \u001b[0;34m==\u001b[0m \u001b[0;34m\"binary\"\u001b[0m \u001b[0;32mor\u001b[0m \u001b[0;34m(\u001b[0m\u001b[0my_type\u001b[0m \u001b[0;34m==\u001b[0m \u001b[0;34m\"multiclass\"\u001b[0m \u001b[0;32mand\u001b[0m \u001b[0mpos_label\u001b[0m \u001b[0;32mis\u001b[0m \u001b[0;32mnot\u001b[0m \u001b[0;32mNone\u001b[0m\u001b[0;34m)\u001b[0m\u001b[0;34m)\u001b[0m\u001b[0;34m:\u001b[0m\u001b[0;34m\u001b[0m\u001b[0;34m\u001b[0m\u001b[0m\n\u001b[0;32m--> 749\u001b[0;31m         \u001b[0;32mraise\u001b[0m \u001b[0mValueError\u001b[0m\u001b[0;34m(\u001b[0m\u001b[0;34m\"{0} format is not supported\"\u001b[0m\u001b[0;34m.\u001b[0m\u001b[0mformat\u001b[0m\u001b[0;34m(\u001b[0m\u001b[0my_type\u001b[0m\u001b[0;34m)\u001b[0m\u001b[0;34m)\u001b[0m\u001b[0;34m\u001b[0m\u001b[0;34m\u001b[0m\u001b[0m\n\u001b[0m\u001b[1;32m    750\u001b[0m \u001b[0;34m\u001b[0m\u001b[0m\n\u001b[1;32m    751\u001b[0m     \u001b[0mcheck_consistent_length\u001b[0m\u001b[0;34m(\u001b[0m\u001b[0my_true\u001b[0m\u001b[0;34m,\u001b[0m \u001b[0my_score\u001b[0m\u001b[0;34m,\u001b[0m \u001b[0msample_weight\u001b[0m\u001b[0;34m)\u001b[0m\u001b[0;34m\u001b[0m\u001b[0;34m\u001b[0m\u001b[0m\n",
            "\u001b[0;31mValueError\u001b[0m: multiclass format is not supported"
          ]
        }
      ],
      "source": [
        "from sklearn.metrics import roc_curve, auc\n",
        "import matplotlib.pyplot as plt\n",
        "\n",
        "# Predict probabilities for the test data.\n",
        "y_probs = classifier.predict_proba(X_test)[:, 1]  # Probabilities for the positive class\n",
        "\n",
        "# Compute ROC curve and ROC area for each class\n",
        "fpr, tpr, _ = roc_curve(y_test, y_probs)\n",
        "roc_auc = auc(fpr, tpr)\n",
        "\n",
        "# Plot of a ROC curve for a specific class\n",
        "plt.figure()\n",
        "lw = 2\n",
        "plt.plot(fpr, tpr, color='darkorange',\n",
        "         lw=lw, label='ROC curve (area = %0.2f)' % roc_auc)\n",
        "plt.plot([0, 1], [0, 1], color='navy', lw=lw, linestyle='--')\n",
        "plt.xlim([0.0, 1.0])\n",
        "plt.ylim([0.0, 1.05])\n",
        "plt.xlabel('False Positive Rate')\n",
        "plt.ylabel('True Positive Rate')\n",
        "plt.title('Receiver operating characteristic example')\n",
        "plt.legend(loc=\"lower right\")\n",
        "plt.show()\n"
      ]
    },
    {
      "cell_type": "code",
      "execution_count": null,
      "metadata": {
        "colab": {
          "base_uri": "https://localhost:8080/",
          "height": 390
        },
        "id": "Nbtu8luL-f5z",
        "outputId": "54bed83c-f41c-43d8-b104-39b7461bdce3"
      },
      "outputs": [
        {
          "output_type": "error",
          "ename": "ValueError",
          "evalue": "Input contains NaN",
          "traceback": [
            "\u001b[0;31m---------------------------------------------------------------------------\u001b[0m",
            "\u001b[0;31mValueError\u001b[0m                                Traceback (most recent call last)",
            "\u001b[0;32m<ipython-input-9-80e4b0055c66>\u001b[0m in \u001b[0;36m<cell line: 17>\u001b[0;34m()\u001b[0m\n\u001b[1;32m     15\u001b[0m \u001b[0;34m\u001b[0m\u001b[0m\n\u001b[1;32m     16\u001b[0m \u001b[0;31m# Binarize the output for multi-class ROC AUC\u001b[0m\u001b[0;34m\u001b[0m\u001b[0;34m\u001b[0m\u001b[0m\n\u001b[0;32m---> 17\u001b[0;31m \u001b[0my\u001b[0m \u001b[0;34m=\u001b[0m \u001b[0mlabel_binarize\u001b[0m\u001b[0;34m(\u001b[0m\u001b[0mdata\u001b[0m\u001b[0;34m[\u001b[0m\u001b[0;34m'Rating Category'\u001b[0m\u001b[0;34m]\u001b[0m\u001b[0;34m,\u001b[0m \u001b[0mclasses\u001b[0m\u001b[0;34m=\u001b[0m\u001b[0;34m[\u001b[0m\u001b[0;34m'Low'\u001b[0m\u001b[0;34m,\u001b[0m \u001b[0;34m'Medium'\u001b[0m\u001b[0;34m,\u001b[0m \u001b[0;34m'High'\u001b[0m\u001b[0;34m]\u001b[0m\u001b[0;34m)\u001b[0m\u001b[0;34m\u001b[0m\u001b[0;34m\u001b[0m\u001b[0m\n\u001b[0m\u001b[1;32m     18\u001b[0m \u001b[0mn_classes\u001b[0m \u001b[0;34m=\u001b[0m \u001b[0my\u001b[0m\u001b[0;34m.\u001b[0m\u001b[0mshape\u001b[0m\u001b[0;34m[\u001b[0m\u001b[0;36m1\u001b[0m\u001b[0;34m]\u001b[0m\u001b[0;34m\u001b[0m\u001b[0;34m\u001b[0m\u001b[0m\n\u001b[1;32m     19\u001b[0m \u001b[0;34m\u001b[0m\u001b[0m\n",
            "\u001b[0;32m/usr/local/lib/python3.10/dist-packages/sklearn/preprocessing/_label.py\u001b[0m in \u001b[0;36mlabel_binarize\u001b[0;34m(y, classes, neg_label, pos_label, sparse_output)\u001b[0m\n\u001b[1;32m    486\u001b[0m         \u001b[0;31m# XXX Workaround that will be removed when list of list format is\u001b[0m\u001b[0;34m\u001b[0m\u001b[0;34m\u001b[0m\u001b[0m\n\u001b[1;32m    487\u001b[0m         \u001b[0;31m# dropped\u001b[0m\u001b[0;34m\u001b[0m\u001b[0;34m\u001b[0m\u001b[0m\n\u001b[0;32m--> 488\u001b[0;31m         y = check_array(\n\u001b[0m\u001b[1;32m    489\u001b[0m             \u001b[0my\u001b[0m\u001b[0;34m,\u001b[0m \u001b[0minput_name\u001b[0m\u001b[0;34m=\u001b[0m\u001b[0;34m\"y\"\u001b[0m\u001b[0;34m,\u001b[0m \u001b[0maccept_sparse\u001b[0m\u001b[0;34m=\u001b[0m\u001b[0;34m\"csr\"\u001b[0m\u001b[0;34m,\u001b[0m \u001b[0mensure_2d\u001b[0m\u001b[0;34m=\u001b[0m\u001b[0;32mFalse\u001b[0m\u001b[0;34m,\u001b[0m \u001b[0mdtype\u001b[0m\u001b[0;34m=\u001b[0m\u001b[0;32mNone\u001b[0m\u001b[0;34m\u001b[0m\u001b[0;34m\u001b[0m\u001b[0m\n\u001b[1;32m    490\u001b[0m         )\n",
            "\u001b[0;32m/usr/local/lib/python3.10/dist-packages/sklearn/utils/validation.py\u001b[0m in \u001b[0;36mcheck_array\u001b[0;34m(array, accept_sparse, accept_large_sparse, dtype, order, copy, force_all_finite, ensure_2d, allow_nd, ensure_min_samples, ensure_min_features, estimator, input_name)\u001b[0m\n\u001b[1;32m    919\u001b[0m \u001b[0;34m\u001b[0m\u001b[0m\n\u001b[1;32m    920\u001b[0m         \u001b[0;32mif\u001b[0m \u001b[0mforce_all_finite\u001b[0m\u001b[0;34m:\u001b[0m\u001b[0;34m\u001b[0m\u001b[0;34m\u001b[0m\u001b[0m\n\u001b[0;32m--> 921\u001b[0;31m             _assert_all_finite(\n\u001b[0m\u001b[1;32m    922\u001b[0m                 \u001b[0marray\u001b[0m\u001b[0;34m,\u001b[0m\u001b[0;34m\u001b[0m\u001b[0;34m\u001b[0m\u001b[0m\n\u001b[1;32m    923\u001b[0m                 \u001b[0minput_name\u001b[0m\u001b[0;34m=\u001b[0m\u001b[0minput_name\u001b[0m\u001b[0;34m,\u001b[0m\u001b[0;34m\u001b[0m\u001b[0;34m\u001b[0m\u001b[0m\n",
            "\u001b[0;32m/usr/local/lib/python3.10/dist-packages/sklearn/utils/validation.py\u001b[0m in \u001b[0;36m_assert_all_finite\u001b[0;34m(X, allow_nan, msg_dtype, estimator_name, input_name)\u001b[0m\n\u001b[1;32m    109\u001b[0m     \u001b[0;32mif\u001b[0m \u001b[0mX\u001b[0m\u001b[0;34m.\u001b[0m\u001b[0mdtype\u001b[0m \u001b[0;34m==\u001b[0m \u001b[0mnp\u001b[0m\u001b[0;34m.\u001b[0m\u001b[0mdtype\u001b[0m\u001b[0;34m(\u001b[0m\u001b[0;34m\"object\"\u001b[0m\u001b[0;34m)\u001b[0m \u001b[0;32mand\u001b[0m \u001b[0;32mnot\u001b[0m \u001b[0mallow_nan\u001b[0m\u001b[0;34m:\u001b[0m\u001b[0;34m\u001b[0m\u001b[0;34m\u001b[0m\u001b[0m\n\u001b[1;32m    110\u001b[0m         \u001b[0;32mif\u001b[0m \u001b[0m_object_dtype_isnan\u001b[0m\u001b[0;34m(\u001b[0m\u001b[0mX\u001b[0m\u001b[0;34m)\u001b[0m\u001b[0;34m.\u001b[0m\u001b[0many\u001b[0m\u001b[0;34m(\u001b[0m\u001b[0;34m)\u001b[0m\u001b[0;34m:\u001b[0m\u001b[0;34m\u001b[0m\u001b[0;34m\u001b[0m\u001b[0m\n\u001b[0;32m--> 111\u001b[0;31m             \u001b[0;32mraise\u001b[0m \u001b[0mValueError\u001b[0m\u001b[0;34m(\u001b[0m\u001b[0;34m\"Input contains NaN\"\u001b[0m\u001b[0;34m)\u001b[0m\u001b[0;34m\u001b[0m\u001b[0;34m\u001b[0m\u001b[0m\n\u001b[0m\u001b[1;32m    112\u001b[0m \u001b[0;34m\u001b[0m\u001b[0m\n\u001b[1;32m    113\u001b[0m     \u001b[0;31m# We need only consider float arrays, hence can early return for all else.\u001b[0m\u001b[0;34m\u001b[0m\u001b[0;34m\u001b[0m\u001b[0m\n",
            "\u001b[0;31mValueError\u001b[0m: Input contains NaN"
          ]
        }
      ],
      "source": [
        "import pandas as pd\n",
        "from sklearn.model_selection import train_test_split\n",
        "from sklearn.preprocessing import LabelEncoder\n",
        "from sklearn.ensemble import RandomForestClassifier\n",
        "from sklearn.metrics import roc_curve, auc, roc_auc_score\n",
        "from sklearn.preprocessing import label_binarize\n",
        "from sklearn.multiclass import OneVsRestClassifier\n",
        "import matplotlib.pyplot as plt\n",
        "from itertools import cycle\n",
        "\n",
        "data.dropna(subset=['Rating', 'Offered By'], inplace=True)\n",
        "\n",
        "# Convert 'Rating' into categorical bins\n",
        "data['Rating Category'] = pd.cut(data['Rating'], bins=[0, 3.5, 4.5, 5], labels=['Low', 'Medium', 'High'])\n",
        "\n",
        "# Binarize the output for multi-class ROC AUC\n",
        "y = label_binarize(data['Rating Category'], classes=['Low', 'Medium', 'High'])\n",
        "n_classes = y.shape[1]\n",
        "\n",
        "# Encode 'Offered By'\n",
        "label_encoder = LabelEncoder()\n",
        "X = label_encoder.fit_transform(data['Offered By']).reshape(-1, 1)\n",
        "\n",
        "# Train-test split\n",
        "X_train, X_test, y_train, y_test = train_test_split(X, y, test_size=0.2, random_state=42)\n",
        "\n",
        "# Classifier\n",
        "classifier = OneVsRestClassifier(RandomForestClassifier(random_state=42))\n",
        "classifier.fit(X_train, y_train)\n",
        "\n",
        "# Predict probabilities for each class\n",
        "y_score = classifier.predict_proba(X_test)\n",
        "\n",
        "# Compute ROC curve and ROC area for each class\n",
        "fpr = dict()\n",
        "tpr = dict()\n",
        "roc_auc = dict()\n",
        "for i in range(n_classes):\n",
        "    fpr[i], tpr[i], _ = roc_curve(y_test[:, i], y_score[:, i])\n",
        "    roc_auc[i] = auc(fpr[i], tpr[i])\n",
        "\n",
        "# Plot all ROC curves\n",
        "plt.figure()\n",
        "colors = cycle(['blue', 'red', 'green'])\n",
        "for i, color in zip(range(n_classes), colors):\n",
        "    plt.plot(fpr[i], tpr[i], color=color, lw=2,\n",
        "             label='ROC curve of class {0} (area = {1:0.2f})'.format(['Low', 'Medium', 'High'][i], roc_auc[i]))\n",
        "\n",
        "plt.plot([0, 1], [0, 1], 'k--', lw=2)\n",
        "plt.xlim([0.0, 1.0])\n",
        "plt.ylim([0.0, 1.05])\n",
        "plt.xlabel('False Positive Rate')\n",
        "plt.ylabel('True Positive Rate')\n",
        "plt.title('Multi-class ROC and AUC')\n",
        "plt.legend(loc=\"lower right\")\n",
        "plt.show()\n"
      ]
    },
    {
      "cell_type": "markdown",
      "metadata": {
        "id": "6oCywBuQ-jqB"
      },
      "source": [
        "**SHAP VALUE**\n"
      ]
    },
    {
      "cell_type": "code",
      "execution_count": null,
      "metadata": {
        "colab": {
          "base_uri": "https://localhost:8080/"
        },
        "id": "H8ipu_tx-npB",
        "outputId": "d408882b-315e-4e5e-8c1d-e26b3e59ff1b"
      },
      "outputs": [
        {
          "output_type": "stream",
          "name": "stdout",
          "text": [
            "Collecting shap\n",
            "  Downloading shap-0.45.0-cp310-cp310-manylinux_2_12_x86_64.manylinux2010_x86_64.manylinux_2_17_x86_64.manylinux2014_x86_64.whl (538 kB)\n",
            "\u001b[2K     \u001b[90m━━━━━━━━━━━━━━━━━━━━━━━━━━━━━━━━━━━━━━━━\u001b[0m \u001b[32m538.2/538.2 kB\u001b[0m \u001b[31m4.1 MB/s\u001b[0m eta \u001b[36m0:00:00\u001b[0m\n",
            "\u001b[?25hRequirement already satisfied: numpy in /usr/local/lib/python3.10/dist-packages (from shap) (1.25.2)\n",
            "Requirement already satisfied: scipy in /usr/local/lib/python3.10/dist-packages (from shap) (1.11.4)\n",
            "Requirement already satisfied: scikit-learn in /usr/local/lib/python3.10/dist-packages (from shap) (1.2.2)\n",
            "Requirement already satisfied: pandas in /usr/local/lib/python3.10/dist-packages (from shap) (2.0.3)\n",
            "Requirement already satisfied: tqdm>=4.27.0 in /usr/local/lib/python3.10/dist-packages (from shap) (4.66.2)\n",
            "Requirement already satisfied: packaging>20.9 in /usr/local/lib/python3.10/dist-packages (from shap) (24.0)\n",
            "Collecting slicer==0.0.7 (from shap)\n",
            "  Downloading slicer-0.0.7-py3-none-any.whl (14 kB)\n",
            "Requirement already satisfied: numba in /usr/local/lib/python3.10/dist-packages (from shap) (0.58.1)\n",
            "Requirement already satisfied: cloudpickle in /usr/local/lib/python3.10/dist-packages (from shap) (2.2.1)\n",
            "Requirement already satisfied: llvmlite<0.42,>=0.41.0dev0 in /usr/local/lib/python3.10/dist-packages (from numba->shap) (0.41.1)\n",
            "Requirement already satisfied: python-dateutil>=2.8.2 in /usr/local/lib/python3.10/dist-packages (from pandas->shap) (2.8.2)\n",
            "Requirement already satisfied: pytz>=2020.1 in /usr/local/lib/python3.10/dist-packages (from pandas->shap) (2023.4)\n",
            "Requirement already satisfied: tzdata>=2022.1 in /usr/local/lib/python3.10/dist-packages (from pandas->shap) (2024.1)\n",
            "Requirement already satisfied: joblib>=1.1.1 in /usr/local/lib/python3.10/dist-packages (from scikit-learn->shap) (1.4.0)\n",
            "Requirement already satisfied: threadpoolctl>=2.0.0 in /usr/local/lib/python3.10/dist-packages (from scikit-learn->shap) (3.4.0)\n",
            "Requirement already satisfied: six>=1.5 in /usr/local/lib/python3.10/dist-packages (from python-dateutil>=2.8.2->pandas->shap) (1.16.0)\n",
            "Installing collected packages: slicer, shap\n",
            "Successfully installed shap-0.45.0 slicer-0.0.7\n"
          ]
        }
      ],
      "source": [
        "!pip3 install shap"
      ]
    },
    {
      "cell_type": "code",
      "execution_count": null,
      "metadata": {
        "colab": {
          "base_uri": "https://localhost:8080/"
        },
        "id": "LqeMneJC-qQu",
        "outputId": "71a88157-fe9b-4656-f1a2-74e742553ce2"
      },
      "outputs": [
        {
          "output_type": "stream",
          "name": "stdout",
          "text": [
            "Name: shap\n",
            "Version: 0.45.0\n",
            "Summary: A unified approach to explain the output of any machine learning model.\n",
            "Home-page: \n",
            "Author: \n",
            "Author-email: Scott Lundberg <slund1@cs.washington.edu>\n",
            "License: MIT License\n",
            "Location: /usr/local/lib/python3.10/dist-packages\n",
            "Requires: cloudpickle, numba, numpy, packaging, pandas, scikit-learn, scipy, slicer, tqdm\n",
            "Required-by: \n"
          ]
        }
      ],
      "source": [
        "pip show shap"
      ]
    },
    {
      "cell_type": "markdown",
      "metadata": {
        "id": "pLN7Y7nh-yaV"
      },
      "source": [
        "**SHAP value for the impact of 'Number of Review' on the other features**\n"
      ]
    },
    {
      "cell_type": "code",
      "execution_count": null,
      "metadata": {
        "colab": {
          "base_uri": "https://localhost:8080/",
          "height": 372
        },
        "id": "czACAI3L-uGH",
        "outputId": "2bf05da8-93ad-47d9-d3ef-ae27dfa0a82e"
      },
      "outputs": [
        {
          "output_type": "error",
          "ename": "ValueError",
          "evalue": "could not convert string to float: 'Intermediate level'",
          "traceback": [
            "\u001b[0;31m---------------------------------------------------------------------------\u001b[0m",
            "\u001b[0;31mValueError\u001b[0m                                Traceback (most recent call last)",
            "\u001b[0;32m<ipython-input-18-51577b836372>\u001b[0m in \u001b[0;36m<cell line: 18>\u001b[0;34m()\u001b[0m\n\u001b[1;32m     16\u001b[0m \u001b[0;31m# Train the RandomForestRegressor\u001b[0m\u001b[0;34m\u001b[0m\u001b[0;34m\u001b[0m\u001b[0m\n\u001b[1;32m     17\u001b[0m \u001b[0mmodel\u001b[0m \u001b[0;34m=\u001b[0m \u001b[0mRandomForestRegressor\u001b[0m\u001b[0;34m(\u001b[0m\u001b[0mrandom_state\u001b[0m\u001b[0;34m=\u001b[0m\u001b[0;36m42\u001b[0m\u001b[0;34m)\u001b[0m\u001b[0;34m\u001b[0m\u001b[0;34m\u001b[0m\u001b[0m\n\u001b[0;32m---> 18\u001b[0;31m \u001b[0mmodel\u001b[0m\u001b[0;34m.\u001b[0m\u001b[0mfit\u001b[0m\u001b[0;34m(\u001b[0m\u001b[0mX_train\u001b[0m\u001b[0;34m,\u001b[0m \u001b[0my_train\u001b[0m\u001b[0;34m)\u001b[0m\u001b[0;34m\u001b[0m\u001b[0;34m\u001b[0m\u001b[0m\n\u001b[0m\u001b[1;32m     19\u001b[0m \u001b[0;34m\u001b[0m\u001b[0m\n\u001b[1;32m     20\u001b[0m \u001b[0;31m# Initialize the SHAP TreeExplainer\u001b[0m\u001b[0;34m\u001b[0m\u001b[0;34m\u001b[0m\u001b[0m\n",
            "\u001b[0;32m/usr/local/lib/python3.10/dist-packages/sklearn/ensemble/_forest.py\u001b[0m in \u001b[0;36mfit\u001b[0;34m(self, X, y, sample_weight)\u001b[0m\n\u001b[1;32m    343\u001b[0m         \u001b[0;32mif\u001b[0m \u001b[0missparse\u001b[0m\u001b[0;34m(\u001b[0m\u001b[0my\u001b[0m\u001b[0;34m)\u001b[0m\u001b[0;34m:\u001b[0m\u001b[0;34m\u001b[0m\u001b[0;34m\u001b[0m\u001b[0m\n\u001b[1;32m    344\u001b[0m             \u001b[0;32mraise\u001b[0m \u001b[0mValueError\u001b[0m\u001b[0;34m(\u001b[0m\u001b[0;34m\"sparse multilabel-indicator for y is not supported.\"\u001b[0m\u001b[0;34m)\u001b[0m\u001b[0;34m\u001b[0m\u001b[0;34m\u001b[0m\u001b[0m\n\u001b[0;32m--> 345\u001b[0;31m         X, y = self._validate_data(\n\u001b[0m\u001b[1;32m    346\u001b[0m             \u001b[0mX\u001b[0m\u001b[0;34m,\u001b[0m \u001b[0my\u001b[0m\u001b[0;34m,\u001b[0m \u001b[0mmulti_output\u001b[0m\u001b[0;34m=\u001b[0m\u001b[0;32mTrue\u001b[0m\u001b[0;34m,\u001b[0m \u001b[0maccept_sparse\u001b[0m\u001b[0;34m=\u001b[0m\u001b[0;34m\"csc\"\u001b[0m\u001b[0;34m,\u001b[0m \u001b[0mdtype\u001b[0m\u001b[0;34m=\u001b[0m\u001b[0mDTYPE\u001b[0m\u001b[0;34m\u001b[0m\u001b[0;34m\u001b[0m\u001b[0m\n\u001b[1;32m    347\u001b[0m         )\n",
            "\u001b[0;32m/usr/local/lib/python3.10/dist-packages/sklearn/base.py\u001b[0m in \u001b[0;36m_validate_data\u001b[0;34m(self, X, y, reset, validate_separately, **check_params)\u001b[0m\n\u001b[1;32m    582\u001b[0m                 \u001b[0my\u001b[0m \u001b[0;34m=\u001b[0m \u001b[0mcheck_array\u001b[0m\u001b[0;34m(\u001b[0m\u001b[0my\u001b[0m\u001b[0;34m,\u001b[0m \u001b[0minput_name\u001b[0m\u001b[0;34m=\u001b[0m\u001b[0;34m\"y\"\u001b[0m\u001b[0;34m,\u001b[0m \u001b[0;34m**\u001b[0m\u001b[0mcheck_y_params\u001b[0m\u001b[0;34m)\u001b[0m\u001b[0;34m\u001b[0m\u001b[0;34m\u001b[0m\u001b[0m\n\u001b[1;32m    583\u001b[0m             \u001b[0;32melse\u001b[0m\u001b[0;34m:\u001b[0m\u001b[0;34m\u001b[0m\u001b[0;34m\u001b[0m\u001b[0m\n\u001b[0;32m--> 584\u001b[0;31m                 \u001b[0mX\u001b[0m\u001b[0;34m,\u001b[0m \u001b[0my\u001b[0m \u001b[0;34m=\u001b[0m \u001b[0mcheck_X_y\u001b[0m\u001b[0;34m(\u001b[0m\u001b[0mX\u001b[0m\u001b[0;34m,\u001b[0m \u001b[0my\u001b[0m\u001b[0;34m,\u001b[0m \u001b[0;34m**\u001b[0m\u001b[0mcheck_params\u001b[0m\u001b[0;34m)\u001b[0m\u001b[0;34m\u001b[0m\u001b[0;34m\u001b[0m\u001b[0m\n\u001b[0m\u001b[1;32m    585\u001b[0m             \u001b[0mout\u001b[0m \u001b[0;34m=\u001b[0m \u001b[0mX\u001b[0m\u001b[0;34m,\u001b[0m \u001b[0my\u001b[0m\u001b[0;34m\u001b[0m\u001b[0;34m\u001b[0m\u001b[0m\n\u001b[1;32m    586\u001b[0m \u001b[0;34m\u001b[0m\u001b[0m\n",
            "\u001b[0;32m/usr/local/lib/python3.10/dist-packages/sklearn/utils/validation.py\u001b[0m in \u001b[0;36mcheck_X_y\u001b[0;34m(X, y, accept_sparse, accept_large_sparse, dtype, order, copy, force_all_finite, ensure_2d, allow_nd, multi_output, ensure_min_samples, ensure_min_features, y_numeric, estimator)\u001b[0m\n\u001b[1;32m   1104\u001b[0m         )\n\u001b[1;32m   1105\u001b[0m \u001b[0;34m\u001b[0m\u001b[0m\n\u001b[0;32m-> 1106\u001b[0;31m     X = check_array(\n\u001b[0m\u001b[1;32m   1107\u001b[0m         \u001b[0mX\u001b[0m\u001b[0;34m,\u001b[0m\u001b[0;34m\u001b[0m\u001b[0;34m\u001b[0m\u001b[0m\n\u001b[1;32m   1108\u001b[0m         \u001b[0maccept_sparse\u001b[0m\u001b[0;34m=\u001b[0m\u001b[0maccept_sparse\u001b[0m\u001b[0;34m,\u001b[0m\u001b[0;34m\u001b[0m\u001b[0;34m\u001b[0m\u001b[0m\n",
            "\u001b[0;32m/usr/local/lib/python3.10/dist-packages/sklearn/utils/validation.py\u001b[0m in \u001b[0;36mcheck_array\u001b[0;34m(array, accept_sparse, accept_large_sparse, dtype, order, copy, force_all_finite, ensure_2d, allow_nd, ensure_min_samples, ensure_min_features, estimator, input_name)\u001b[0m\n\u001b[1;32m    877\u001b[0m                     \u001b[0marray\u001b[0m \u001b[0;34m=\u001b[0m \u001b[0mxp\u001b[0m\u001b[0;34m.\u001b[0m\u001b[0mastype\u001b[0m\u001b[0;34m(\u001b[0m\u001b[0marray\u001b[0m\u001b[0;34m,\u001b[0m \u001b[0mdtype\u001b[0m\u001b[0;34m,\u001b[0m \u001b[0mcopy\u001b[0m\u001b[0;34m=\u001b[0m\u001b[0;32mFalse\u001b[0m\u001b[0;34m)\u001b[0m\u001b[0;34m\u001b[0m\u001b[0;34m\u001b[0m\u001b[0m\n\u001b[1;32m    878\u001b[0m                 \u001b[0;32melse\u001b[0m\u001b[0;34m:\u001b[0m\u001b[0;34m\u001b[0m\u001b[0;34m\u001b[0m\u001b[0m\n\u001b[0;32m--> 879\u001b[0;31m                     \u001b[0marray\u001b[0m \u001b[0;34m=\u001b[0m \u001b[0m_asarray_with_order\u001b[0m\u001b[0;34m(\u001b[0m\u001b[0marray\u001b[0m\u001b[0;34m,\u001b[0m \u001b[0morder\u001b[0m\u001b[0;34m=\u001b[0m\u001b[0morder\u001b[0m\u001b[0;34m,\u001b[0m \u001b[0mdtype\u001b[0m\u001b[0;34m=\u001b[0m\u001b[0mdtype\u001b[0m\u001b[0;34m,\u001b[0m \u001b[0mxp\u001b[0m\u001b[0;34m=\u001b[0m\u001b[0mxp\u001b[0m\u001b[0;34m)\u001b[0m\u001b[0;34m\u001b[0m\u001b[0;34m\u001b[0m\u001b[0m\n\u001b[0m\u001b[1;32m    880\u001b[0m             \u001b[0;32mexcept\u001b[0m \u001b[0mComplexWarning\u001b[0m \u001b[0;32mas\u001b[0m \u001b[0mcomplex_warning\u001b[0m\u001b[0;34m:\u001b[0m\u001b[0;34m\u001b[0m\u001b[0;34m\u001b[0m\u001b[0m\n\u001b[1;32m    881\u001b[0m                 raise ValueError(\n",
            "\u001b[0;32m/usr/local/lib/python3.10/dist-packages/sklearn/utils/_array_api.py\u001b[0m in \u001b[0;36m_asarray_with_order\u001b[0;34m(array, dtype, order, copy, xp)\u001b[0m\n\u001b[1;32m    183\u001b[0m     \u001b[0;32mif\u001b[0m \u001b[0mxp\u001b[0m\u001b[0;34m.\u001b[0m\u001b[0m__name__\u001b[0m \u001b[0;32min\u001b[0m \u001b[0;34m{\u001b[0m\u001b[0;34m\"numpy\"\u001b[0m\u001b[0;34m,\u001b[0m \u001b[0;34m\"numpy.array_api\"\u001b[0m\u001b[0;34m}\u001b[0m\u001b[0;34m:\u001b[0m\u001b[0;34m\u001b[0m\u001b[0;34m\u001b[0m\u001b[0m\n\u001b[1;32m    184\u001b[0m         \u001b[0;31m# Use NumPy API to support order\u001b[0m\u001b[0;34m\u001b[0m\u001b[0;34m\u001b[0m\u001b[0m\n\u001b[0;32m--> 185\u001b[0;31m         \u001b[0marray\u001b[0m \u001b[0;34m=\u001b[0m \u001b[0mnumpy\u001b[0m\u001b[0;34m.\u001b[0m\u001b[0masarray\u001b[0m\u001b[0;34m(\u001b[0m\u001b[0marray\u001b[0m\u001b[0;34m,\u001b[0m \u001b[0morder\u001b[0m\u001b[0;34m=\u001b[0m\u001b[0morder\u001b[0m\u001b[0;34m,\u001b[0m \u001b[0mdtype\u001b[0m\u001b[0;34m=\u001b[0m\u001b[0mdtype\u001b[0m\u001b[0;34m)\u001b[0m\u001b[0;34m\u001b[0m\u001b[0;34m\u001b[0m\u001b[0m\n\u001b[0m\u001b[1;32m    186\u001b[0m         \u001b[0;32mreturn\u001b[0m \u001b[0mxp\u001b[0m\u001b[0;34m.\u001b[0m\u001b[0masarray\u001b[0m\u001b[0;34m(\u001b[0m\u001b[0marray\u001b[0m\u001b[0;34m,\u001b[0m \u001b[0mcopy\u001b[0m\u001b[0;34m=\u001b[0m\u001b[0mcopy\u001b[0m\u001b[0;34m)\u001b[0m\u001b[0;34m\u001b[0m\u001b[0;34m\u001b[0m\u001b[0m\n\u001b[1;32m    187\u001b[0m     \u001b[0;32melse\u001b[0m\u001b[0;34m:\u001b[0m\u001b[0;34m\u001b[0m\u001b[0;34m\u001b[0m\u001b[0m\n",
            "\u001b[0;32m/usr/local/lib/python3.10/dist-packages/pandas/core/generic.py\u001b[0m in \u001b[0;36m__array__\u001b[0;34m(self, dtype)\u001b[0m\n\u001b[1;32m   1996\u001b[0m     \u001b[0;32mdef\u001b[0m \u001b[0m__array__\u001b[0m\u001b[0;34m(\u001b[0m\u001b[0mself\u001b[0m\u001b[0;34m,\u001b[0m \u001b[0mdtype\u001b[0m\u001b[0;34m:\u001b[0m \u001b[0mnpt\u001b[0m\u001b[0;34m.\u001b[0m\u001b[0mDTypeLike\u001b[0m \u001b[0;34m|\u001b[0m \u001b[0;32mNone\u001b[0m \u001b[0;34m=\u001b[0m \u001b[0;32mNone\u001b[0m\u001b[0;34m)\u001b[0m \u001b[0;34m->\u001b[0m \u001b[0mnp\u001b[0m\u001b[0;34m.\u001b[0m\u001b[0mndarray\u001b[0m\u001b[0;34m:\u001b[0m\u001b[0;34m\u001b[0m\u001b[0;34m\u001b[0m\u001b[0m\n\u001b[1;32m   1997\u001b[0m         \u001b[0mvalues\u001b[0m \u001b[0;34m=\u001b[0m \u001b[0mself\u001b[0m\u001b[0;34m.\u001b[0m\u001b[0m_values\u001b[0m\u001b[0;34m\u001b[0m\u001b[0;34m\u001b[0m\u001b[0m\n\u001b[0;32m-> 1998\u001b[0;31m         \u001b[0marr\u001b[0m \u001b[0;34m=\u001b[0m \u001b[0mnp\u001b[0m\u001b[0;34m.\u001b[0m\u001b[0masarray\u001b[0m\u001b[0;34m(\u001b[0m\u001b[0mvalues\u001b[0m\u001b[0;34m,\u001b[0m \u001b[0mdtype\u001b[0m\u001b[0;34m=\u001b[0m\u001b[0mdtype\u001b[0m\u001b[0;34m)\u001b[0m\u001b[0;34m\u001b[0m\u001b[0;34m\u001b[0m\u001b[0m\n\u001b[0m\u001b[1;32m   1999\u001b[0m         if (\n\u001b[1;32m   2000\u001b[0m             \u001b[0mastype_is_view\u001b[0m\u001b[0;34m(\u001b[0m\u001b[0mvalues\u001b[0m\u001b[0;34m.\u001b[0m\u001b[0mdtype\u001b[0m\u001b[0;34m,\u001b[0m \u001b[0marr\u001b[0m\u001b[0;34m.\u001b[0m\u001b[0mdtype\u001b[0m\u001b[0;34m)\u001b[0m\u001b[0;34m\u001b[0m\u001b[0;34m\u001b[0m\u001b[0m\n",
            "\u001b[0;31mValueError\u001b[0m: could not convert string to float: 'Intermediate level'"
          ]
        }
      ],
      "source": [
        "from sklearn.ensemble import RandomForestRegressor\n",
        "from sklearn.model_selection import train_test_split\n",
        "import shap\n",
        "\n",
        "# Handle missing values and possibly encode categorical features if necessary\n",
        "data = data.dropna(subset=['Duration to complete (Approx.)', 'Rating'])\n",
        "# Here you might want to select and possibly preprocess more features\n",
        "\n",
        "# Select features and target\n",
        "X = data[['Duration to complete (Approx.)', 'Rating', 'Level']]  # Add other features as needed\n",
        "y = data['Number of Review']\n",
        "\n",
        "# Split the dataset into training and testing sets\n",
        "X_train, X_test, y_train, y_test = train_test_split(X, y, test_size=0.2, random_state=42)\n",
        "\n",
        "# Train the RandomForestRegressor\n",
        "model = RandomForestRegressor(random_state=42)\n",
        "model.fit(X_train, y_train)\n",
        "\n",
        "# Initialize the SHAP TreeExplainer\n",
        "explainer = shap.TreeExplainer(model)\n",
        "\n",
        "# Compute SHAP values for the test set\n",
        "shap_values = explainer.shap_values(X_test)\n",
        "\n",
        "# Visualize the SHAP values for 'Rating'\n",
        "shap.summary_plot(shap_values, X_test, feature_names=X.columns)\n"
      ]
    },
    {
      "cell_type": "markdown",
      "metadata": {
        "id": "e2nxqRsN-5fe"
      },
      "source": [
        "**SHAP value for the impact of 'Rating' on the other features**"
      ]
    },
    {
      "cell_type": "code",
      "execution_count": null,
      "metadata": {
        "colab": {
          "base_uri": "https://localhost:8080/",
          "height": 372
        },
        "id": "6zDM1oCb-6fu",
        "outputId": "4e16b68b-6a7b-4588-9ee8-ca0f4c7a67d7"
      },
      "outputs": [
        {
          "output_type": "error",
          "ename": "ValueError",
          "evalue": "could not convert string to float: 'Intermediate level'",
          "traceback": [
            "\u001b[0;31m---------------------------------------------------------------------------\u001b[0m",
            "\u001b[0;31mValueError\u001b[0m                                Traceback (most recent call last)",
            "\u001b[0;32m<ipython-input-19-5a97785e2ed7>\u001b[0m in \u001b[0;36m<cell line: 18>\u001b[0;34m()\u001b[0m\n\u001b[1;32m     16\u001b[0m \u001b[0;31m# Train the RandomForestRegressor\u001b[0m\u001b[0;34m\u001b[0m\u001b[0;34m\u001b[0m\u001b[0m\n\u001b[1;32m     17\u001b[0m \u001b[0mmodel\u001b[0m \u001b[0;34m=\u001b[0m \u001b[0mRandomForestRegressor\u001b[0m\u001b[0;34m(\u001b[0m\u001b[0mrandom_state\u001b[0m\u001b[0;34m=\u001b[0m\u001b[0;36m42\u001b[0m\u001b[0;34m)\u001b[0m\u001b[0;34m\u001b[0m\u001b[0;34m\u001b[0m\u001b[0m\n\u001b[0;32m---> 18\u001b[0;31m \u001b[0mmodel\u001b[0m\u001b[0;34m.\u001b[0m\u001b[0mfit\u001b[0m\u001b[0;34m(\u001b[0m\u001b[0mX_train\u001b[0m\u001b[0;34m,\u001b[0m \u001b[0my_train\u001b[0m\u001b[0;34m)\u001b[0m\u001b[0;34m\u001b[0m\u001b[0;34m\u001b[0m\u001b[0m\n\u001b[0m\u001b[1;32m     19\u001b[0m \u001b[0;34m\u001b[0m\u001b[0m\n\u001b[1;32m     20\u001b[0m \u001b[0;31m# Initialize the SHAP TreeExplainer\u001b[0m\u001b[0;34m\u001b[0m\u001b[0;34m\u001b[0m\u001b[0m\n",
            "\u001b[0;32m/usr/local/lib/python3.10/dist-packages/sklearn/ensemble/_forest.py\u001b[0m in \u001b[0;36mfit\u001b[0;34m(self, X, y, sample_weight)\u001b[0m\n\u001b[1;32m    343\u001b[0m         \u001b[0;32mif\u001b[0m \u001b[0missparse\u001b[0m\u001b[0;34m(\u001b[0m\u001b[0my\u001b[0m\u001b[0;34m)\u001b[0m\u001b[0;34m:\u001b[0m\u001b[0;34m\u001b[0m\u001b[0;34m\u001b[0m\u001b[0m\n\u001b[1;32m    344\u001b[0m             \u001b[0;32mraise\u001b[0m \u001b[0mValueError\u001b[0m\u001b[0;34m(\u001b[0m\u001b[0;34m\"sparse multilabel-indicator for y is not supported.\"\u001b[0m\u001b[0;34m)\u001b[0m\u001b[0;34m\u001b[0m\u001b[0;34m\u001b[0m\u001b[0m\n\u001b[0;32m--> 345\u001b[0;31m         X, y = self._validate_data(\n\u001b[0m\u001b[1;32m    346\u001b[0m             \u001b[0mX\u001b[0m\u001b[0;34m,\u001b[0m \u001b[0my\u001b[0m\u001b[0;34m,\u001b[0m \u001b[0mmulti_output\u001b[0m\u001b[0;34m=\u001b[0m\u001b[0;32mTrue\u001b[0m\u001b[0;34m,\u001b[0m \u001b[0maccept_sparse\u001b[0m\u001b[0;34m=\u001b[0m\u001b[0;34m\"csc\"\u001b[0m\u001b[0;34m,\u001b[0m \u001b[0mdtype\u001b[0m\u001b[0;34m=\u001b[0m\u001b[0mDTYPE\u001b[0m\u001b[0;34m\u001b[0m\u001b[0;34m\u001b[0m\u001b[0m\n\u001b[1;32m    347\u001b[0m         )\n",
            "\u001b[0;32m/usr/local/lib/python3.10/dist-packages/sklearn/base.py\u001b[0m in \u001b[0;36m_validate_data\u001b[0;34m(self, X, y, reset, validate_separately, **check_params)\u001b[0m\n\u001b[1;32m    582\u001b[0m                 \u001b[0my\u001b[0m \u001b[0;34m=\u001b[0m \u001b[0mcheck_array\u001b[0m\u001b[0;34m(\u001b[0m\u001b[0my\u001b[0m\u001b[0;34m,\u001b[0m \u001b[0minput_name\u001b[0m\u001b[0;34m=\u001b[0m\u001b[0;34m\"y\"\u001b[0m\u001b[0;34m,\u001b[0m \u001b[0;34m**\u001b[0m\u001b[0mcheck_y_params\u001b[0m\u001b[0;34m)\u001b[0m\u001b[0;34m\u001b[0m\u001b[0;34m\u001b[0m\u001b[0m\n\u001b[1;32m    583\u001b[0m             \u001b[0;32melse\u001b[0m\u001b[0;34m:\u001b[0m\u001b[0;34m\u001b[0m\u001b[0;34m\u001b[0m\u001b[0m\n\u001b[0;32m--> 584\u001b[0;31m                 \u001b[0mX\u001b[0m\u001b[0;34m,\u001b[0m \u001b[0my\u001b[0m \u001b[0;34m=\u001b[0m \u001b[0mcheck_X_y\u001b[0m\u001b[0;34m(\u001b[0m\u001b[0mX\u001b[0m\u001b[0;34m,\u001b[0m \u001b[0my\u001b[0m\u001b[0;34m,\u001b[0m \u001b[0;34m**\u001b[0m\u001b[0mcheck_params\u001b[0m\u001b[0;34m)\u001b[0m\u001b[0;34m\u001b[0m\u001b[0;34m\u001b[0m\u001b[0m\n\u001b[0m\u001b[1;32m    585\u001b[0m             \u001b[0mout\u001b[0m \u001b[0;34m=\u001b[0m \u001b[0mX\u001b[0m\u001b[0;34m,\u001b[0m \u001b[0my\u001b[0m\u001b[0;34m\u001b[0m\u001b[0;34m\u001b[0m\u001b[0m\n\u001b[1;32m    586\u001b[0m \u001b[0;34m\u001b[0m\u001b[0m\n",
            "\u001b[0;32m/usr/local/lib/python3.10/dist-packages/sklearn/utils/validation.py\u001b[0m in \u001b[0;36mcheck_X_y\u001b[0;34m(X, y, accept_sparse, accept_large_sparse, dtype, order, copy, force_all_finite, ensure_2d, allow_nd, multi_output, ensure_min_samples, ensure_min_features, y_numeric, estimator)\u001b[0m\n\u001b[1;32m   1104\u001b[0m         )\n\u001b[1;32m   1105\u001b[0m \u001b[0;34m\u001b[0m\u001b[0m\n\u001b[0;32m-> 1106\u001b[0;31m     X = check_array(\n\u001b[0m\u001b[1;32m   1107\u001b[0m         \u001b[0mX\u001b[0m\u001b[0;34m,\u001b[0m\u001b[0;34m\u001b[0m\u001b[0;34m\u001b[0m\u001b[0m\n\u001b[1;32m   1108\u001b[0m         \u001b[0maccept_sparse\u001b[0m\u001b[0;34m=\u001b[0m\u001b[0maccept_sparse\u001b[0m\u001b[0;34m,\u001b[0m\u001b[0;34m\u001b[0m\u001b[0;34m\u001b[0m\u001b[0m\n",
            "\u001b[0;32m/usr/local/lib/python3.10/dist-packages/sklearn/utils/validation.py\u001b[0m in \u001b[0;36mcheck_array\u001b[0;34m(array, accept_sparse, accept_large_sparse, dtype, order, copy, force_all_finite, ensure_2d, allow_nd, ensure_min_samples, ensure_min_features, estimator, input_name)\u001b[0m\n\u001b[1;32m    877\u001b[0m                     \u001b[0marray\u001b[0m \u001b[0;34m=\u001b[0m \u001b[0mxp\u001b[0m\u001b[0;34m.\u001b[0m\u001b[0mastype\u001b[0m\u001b[0;34m(\u001b[0m\u001b[0marray\u001b[0m\u001b[0;34m,\u001b[0m \u001b[0mdtype\u001b[0m\u001b[0;34m,\u001b[0m \u001b[0mcopy\u001b[0m\u001b[0;34m=\u001b[0m\u001b[0;32mFalse\u001b[0m\u001b[0;34m)\u001b[0m\u001b[0;34m\u001b[0m\u001b[0;34m\u001b[0m\u001b[0m\n\u001b[1;32m    878\u001b[0m                 \u001b[0;32melse\u001b[0m\u001b[0;34m:\u001b[0m\u001b[0;34m\u001b[0m\u001b[0;34m\u001b[0m\u001b[0m\n\u001b[0;32m--> 879\u001b[0;31m                     \u001b[0marray\u001b[0m \u001b[0;34m=\u001b[0m \u001b[0m_asarray_with_order\u001b[0m\u001b[0;34m(\u001b[0m\u001b[0marray\u001b[0m\u001b[0;34m,\u001b[0m \u001b[0morder\u001b[0m\u001b[0;34m=\u001b[0m\u001b[0morder\u001b[0m\u001b[0;34m,\u001b[0m \u001b[0mdtype\u001b[0m\u001b[0;34m=\u001b[0m\u001b[0mdtype\u001b[0m\u001b[0;34m,\u001b[0m \u001b[0mxp\u001b[0m\u001b[0;34m=\u001b[0m\u001b[0mxp\u001b[0m\u001b[0;34m)\u001b[0m\u001b[0;34m\u001b[0m\u001b[0;34m\u001b[0m\u001b[0m\n\u001b[0m\u001b[1;32m    880\u001b[0m             \u001b[0;32mexcept\u001b[0m \u001b[0mComplexWarning\u001b[0m \u001b[0;32mas\u001b[0m \u001b[0mcomplex_warning\u001b[0m\u001b[0;34m:\u001b[0m\u001b[0;34m\u001b[0m\u001b[0;34m\u001b[0m\u001b[0m\n\u001b[1;32m    881\u001b[0m                 raise ValueError(\n",
            "\u001b[0;32m/usr/local/lib/python3.10/dist-packages/sklearn/utils/_array_api.py\u001b[0m in \u001b[0;36m_asarray_with_order\u001b[0;34m(array, dtype, order, copy, xp)\u001b[0m\n\u001b[1;32m    183\u001b[0m     \u001b[0;32mif\u001b[0m \u001b[0mxp\u001b[0m\u001b[0;34m.\u001b[0m\u001b[0m__name__\u001b[0m \u001b[0;32min\u001b[0m \u001b[0;34m{\u001b[0m\u001b[0;34m\"numpy\"\u001b[0m\u001b[0;34m,\u001b[0m \u001b[0;34m\"numpy.array_api\"\u001b[0m\u001b[0;34m}\u001b[0m\u001b[0;34m:\u001b[0m\u001b[0;34m\u001b[0m\u001b[0;34m\u001b[0m\u001b[0m\n\u001b[1;32m    184\u001b[0m         \u001b[0;31m# Use NumPy API to support order\u001b[0m\u001b[0;34m\u001b[0m\u001b[0;34m\u001b[0m\u001b[0m\n\u001b[0;32m--> 185\u001b[0;31m         \u001b[0marray\u001b[0m \u001b[0;34m=\u001b[0m \u001b[0mnumpy\u001b[0m\u001b[0;34m.\u001b[0m\u001b[0masarray\u001b[0m\u001b[0;34m(\u001b[0m\u001b[0marray\u001b[0m\u001b[0;34m,\u001b[0m \u001b[0morder\u001b[0m\u001b[0;34m=\u001b[0m\u001b[0morder\u001b[0m\u001b[0;34m,\u001b[0m \u001b[0mdtype\u001b[0m\u001b[0;34m=\u001b[0m\u001b[0mdtype\u001b[0m\u001b[0;34m)\u001b[0m\u001b[0;34m\u001b[0m\u001b[0;34m\u001b[0m\u001b[0m\n\u001b[0m\u001b[1;32m    186\u001b[0m         \u001b[0;32mreturn\u001b[0m \u001b[0mxp\u001b[0m\u001b[0;34m.\u001b[0m\u001b[0masarray\u001b[0m\u001b[0;34m(\u001b[0m\u001b[0marray\u001b[0m\u001b[0;34m,\u001b[0m \u001b[0mcopy\u001b[0m\u001b[0;34m=\u001b[0m\u001b[0mcopy\u001b[0m\u001b[0;34m)\u001b[0m\u001b[0;34m\u001b[0m\u001b[0;34m\u001b[0m\u001b[0m\n\u001b[1;32m    187\u001b[0m     \u001b[0;32melse\u001b[0m\u001b[0;34m:\u001b[0m\u001b[0;34m\u001b[0m\u001b[0;34m\u001b[0m\u001b[0m\n",
            "\u001b[0;32m/usr/local/lib/python3.10/dist-packages/pandas/core/generic.py\u001b[0m in \u001b[0;36m__array__\u001b[0;34m(self, dtype)\u001b[0m\n\u001b[1;32m   1996\u001b[0m     \u001b[0;32mdef\u001b[0m \u001b[0m__array__\u001b[0m\u001b[0;34m(\u001b[0m\u001b[0mself\u001b[0m\u001b[0;34m,\u001b[0m \u001b[0mdtype\u001b[0m\u001b[0;34m:\u001b[0m \u001b[0mnpt\u001b[0m\u001b[0;34m.\u001b[0m\u001b[0mDTypeLike\u001b[0m \u001b[0;34m|\u001b[0m \u001b[0;32mNone\u001b[0m \u001b[0;34m=\u001b[0m \u001b[0;32mNone\u001b[0m\u001b[0;34m)\u001b[0m \u001b[0;34m->\u001b[0m \u001b[0mnp\u001b[0m\u001b[0;34m.\u001b[0m\u001b[0mndarray\u001b[0m\u001b[0;34m:\u001b[0m\u001b[0;34m\u001b[0m\u001b[0;34m\u001b[0m\u001b[0m\n\u001b[1;32m   1997\u001b[0m         \u001b[0mvalues\u001b[0m \u001b[0;34m=\u001b[0m \u001b[0mself\u001b[0m\u001b[0;34m.\u001b[0m\u001b[0m_values\u001b[0m\u001b[0;34m\u001b[0m\u001b[0;34m\u001b[0m\u001b[0m\n\u001b[0;32m-> 1998\u001b[0;31m         \u001b[0marr\u001b[0m \u001b[0;34m=\u001b[0m \u001b[0mnp\u001b[0m\u001b[0;34m.\u001b[0m\u001b[0masarray\u001b[0m\u001b[0;34m(\u001b[0m\u001b[0mvalues\u001b[0m\u001b[0;34m,\u001b[0m \u001b[0mdtype\u001b[0m\u001b[0;34m=\u001b[0m\u001b[0mdtype\u001b[0m\u001b[0;34m)\u001b[0m\u001b[0;34m\u001b[0m\u001b[0;34m\u001b[0m\u001b[0m\n\u001b[0m\u001b[1;32m   1999\u001b[0m         if (\n\u001b[1;32m   2000\u001b[0m             \u001b[0mastype_is_view\u001b[0m\u001b[0;34m(\u001b[0m\u001b[0mvalues\u001b[0m\u001b[0;34m.\u001b[0m\u001b[0mdtype\u001b[0m\u001b[0;34m,\u001b[0m \u001b[0marr\u001b[0m\u001b[0;34m.\u001b[0m\u001b[0mdtype\u001b[0m\u001b[0;34m)\u001b[0m\u001b[0;34m\u001b[0m\u001b[0;34m\u001b[0m\u001b[0m\n",
            "\u001b[0;31mValueError\u001b[0m: could not convert string to float: 'Intermediate level'"
          ]
        }
      ],
      "source": [
        "from sklearn.ensemble import RandomForestRegressor\n",
        "from sklearn.model_selection import train_test_split\n",
        "import shap\n",
        "\n",
        "# Handle missing values and possibly encode categorical features if necessary\n",
        "data = data.dropna(subset=['Duration to complete (Approx.)', 'Rating'])\n",
        "# Here you might want to select and possibly preprocess more features\n",
        "\n",
        "# Select features and target\n",
        "X = data[['Duration to complete (Approx.)', 'Number of Review', 'Level']]  # Add other features as needed\n",
        "y = data['Rating']\n",
        "\n",
        "# Split the dataset into training and testing sets\n",
        "X_train, X_test, y_train, y_test = train_test_split(X, y, test_size=0.2, random_state=42)\n",
        "\n",
        "# Train the RandomForestRegressor\n",
        "model = RandomForestRegressor(random_state=42)\n",
        "model.fit(X_train, y_train)\n",
        "\n",
        "# Initialize the SHAP TreeExplainer\n",
        "explainer = shap.TreeExplainer(model)\n",
        "\n",
        "# Compute SHAP values for the test set\n",
        "shap_values = explainer.shap_values(X_test)\n",
        "\n",
        "# Visualize the SHAP values for 'Rating'\n",
        "shap.summary_plot(shap_values, X_test, feature_names=X.columns)\n"
      ]
    },
    {
      "cell_type": "markdown",
      "metadata": {
        "id": "APUNnAVs_BQz"
      },
      "source": [
        "**SHAP value for the impact of 'Duration to complete (Approx.)' on the other features**"
      ]
    },
    {
      "cell_type": "code",
      "execution_count": null,
      "metadata": {
        "colab": {
          "background_save": true
        },
        "id": "SCEaMycF_GMF"
      },
      "outputs": [],
      "source": [
        "from sklearn.ensemble import RandomForestRegressor\n",
        "from sklearn.model_selection import train_test_split\n",
        "import shap\n",
        "\n",
        "# Handle missing values and possibly encode categorical features if necessary\n",
        "data = data.dropna(subset=['Duration to complete (Approx.)', 'Rating'])\n",
        "# Here you might want to select and possibly preprocess more features\n",
        "\n",
        "# Select features and target\n",
        "X = data[['Rating', 'Number of Review', 'Level']]  # Add other features as needed\n",
        "y = data['Duration to complete (Approx.)']\n",
        "\n",
        "# Split the dataset into training and testing sets\n",
        "X_train, X_test, y_train, y_test = train_test_split(X, y, test_size=0.2, random_state=42)\n",
        "\n",
        "# Train the RandomForestRegressor\n",
        "model = RandomForestRegressor(random_state=42)\n",
        "model.fit(X_train, y_train)\n",
        "\n",
        "# Initialize the SHAP TreeExplainer\n",
        "explainer = shap.TreeExplainer(model)\n",
        "\n",
        "# Compute SHAP values for the test set\n",
        "shap_values = explainer.shap_values(X_test)\n",
        "\n",
        "# Visualize the SHAP values for 'Rating'\n",
        "shap.summary_plot(shap_values, X_test, feature_names=X.columns)\n"
      ]
    },
    {
      "cell_type": "markdown",
      "metadata": {
        "id": "invnF3ba_NGW"
      },
      "source": [
        "**SHAP value for the impact of 'Level' on the other features**"
      ]
    },
    {
      "cell_type": "code",
      "execution_count": null,
      "metadata": {
        "colab": {
          "background_save": true
        },
        "id": "tAe6jbs8_OcB"
      },
      "outputs": [],
      "source": [
        "from sklearn.ensemble import RandomForestRegressor\n",
        "from sklearn.model_selection import train_test_split\n",
        "import shap\n",
        "\n",
        "# Handle missing values and possibly encode categorical features if necessary\n",
        "data = data.dropna(subset=['Duration to complete (Approx.)', 'Rating'])\n",
        "# Here you might want to select and possibly preprocess more features\n",
        "\n",
        "# Select features and target\n",
        "X = data[['Duration to complete (Approx.)', 'Rating', 'Number of Review']]  # Add other features as needed\n",
        "y = data['Level']\n",
        "\n",
        "# Split the dataset into training and testing sets\n",
        "X_train, X_test, y_train, y_test = train_test_split(X, y, test_size=0.2, random_state=42)\n",
        "\n",
        "# Train the RandomForestRegressor\n",
        "model = RandomForestRegressor(random_state=42)\n",
        "model.fit(X_train, y_train)\n",
        "\n",
        "# Initialize the SHAP TreeExplainer\n",
        "explainer = shap.TreeExplainer(model)\n",
        "\n",
        "# Compute SHAP values for the test set\n",
        "shap_values = explainer.shap_values(X_test)\n",
        "\n",
        "# Visualize the SHAP values for 'Rating'\n",
        "shap.summary_plot(shap_values, X_test, feature_names=X.columns)\n"
      ]
    }
  ],
  "metadata": {
    "colab": {
      "provenance": []
    },
    "kernelspec": {
      "display_name": "Python 3",
      "name": "python3"
    },
    "language_info": {
      "name": "python"
    }
  },
  "nbformat": 4,
  "nbformat_minor": 0
}